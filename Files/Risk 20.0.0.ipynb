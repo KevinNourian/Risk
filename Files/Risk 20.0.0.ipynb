{
 "cells": [
  {
   "cell_type": "markdown",
   "metadata": {},
   "source": [
    "# **Libraries**"
   ]
  },
  {
   "cell_type": "code",
   "execution_count": 1,
   "metadata": {},
   "outputs": [],
   "source": [
    "import pandas as pd\n",
    "import numpy as np\n",
    "\n",
    "import functions\n",
    "import importlib\n",
    "importlib.reload(functions)\n",
    "\n",
    "import warnings"
   ]
  },
  {
   "cell_type": "markdown",
   "metadata": {},
   "source": [
    "# **Display**"
   ]
  },
  {
   "cell_type": "code",
   "execution_count": 2,
   "metadata": {},
   "outputs": [],
   "source": [
    "%matplotlib inline\n",
    "\n",
    "pd.options.display.max_rows = 300000\n",
    "pd.options.display.max_columns = 999\n",
    "pd.options.display.max_colwidth = 500\n",
    "\n",
    "warnings.filterwarnings(\"ignore\")\n",
    "warnings.simplefilter(action=\"ignore\", category=FutureWarning)\n",
    "\n",
    "pd.set_option('display.max_rows', 200)\n",
    "\n",
    "size = 20"
   ]
  },
  {
   "cell_type": "markdown",
   "metadata": {},
   "source": [
    "# **Data**"
   ]
  },
  {
   "cell_type": "markdown",
   "metadata": {},
   "source": [
    "## **Load Data**"
   ]
  },
  {
   "cell_type": "code",
   "execution_count": 3,
   "metadata": {},
   "outputs": [],
   "source": [
    "train = pd.read_csv(\n",
    "    r\"C:\\Users\\Dell\\Documents\\AI\\Risk\\Data\\application_train.csv\",\n",
    "    index_col=False\n",
    ")\n",
    "\n",
    "\n",
    "test = pd.read_csv(\n",
    "    r\"C:\\Users\\Dell\\Documents\\AI\\Risk\\Data\\application_test.csv\",\n",
    "    index_col=False\n",
    ")"
   ]
  },
  {
   "cell_type": "code",
   "execution_count": null,
   "metadata": {},
   "outputs": [],
   "source": [
    "train.shape"
   ]
  },
  {
   "cell_type": "markdown",
   "metadata": {},
   "source": [
    "## **Reduce Memory Usage**"
   ]
  },
  {
   "cell_type": "code",
   "execution_count": 4,
   "metadata": {},
   "outputs": [
    {
     "name": "stdout",
     "output_type": "stream",
     "text": [
      "Memory usage of dataframe is 286.23 MB\n",
      "Memory usage after optimization is: 92.38 MB\n",
      "Decreased by 67.7%\n"
     ]
    }
   ],
   "source": [
    "train = functions.reduce_memory_usage(train)"
   ]
  },
  {
   "cell_type": "markdown",
   "metadata": {},
   "source": [
    "# **Pre-Processing**"
   ]
  },
  {
   "cell_type": "markdown",
   "metadata": {},
   "source": [
    "## **Removing Empty Features**"
   ]
  },
  {
   "cell_type": "code",
   "execution_count": 5,
   "metadata": {},
   "outputs": [],
   "source": [
    "list_columns = functions.check_columns_with_one_uniquevalue(test)"
   ]
  },
  {
   "cell_type": "code",
   "execution_count": 6,
   "metadata": {},
   "outputs": [],
   "source": [
    "train = train.drop(list_columns, axis = 1)"
   ]
  },
  {
   "cell_type": "code",
   "execution_count": 7,
   "metadata": {},
   "outputs": [
    {
     "data": {
      "text/plain": [
       "(307511, 111)"
      ]
     },
     "execution_count": 7,
     "metadata": {},
     "output_type": "execute_result"
    }
   ],
   "source": [
    "train.shape"
   ]
  },
  {
   "cell_type": "markdown",
   "metadata": {},
   "source": [
    "## **Removing Inaccurate Entries**"
   ]
  },
  {
   "cell_type": "code",
   "execution_count": 8,
   "metadata": {},
   "outputs": [],
   "source": [
    "train = train[train['CODE_GENDER'] != 'XNA']\n",
    "train['DAYS_EMPLOYED'][train['DAYS_EMPLOYED'] == 365243] = np.nan"
   ]
  },
  {
   "cell_type": "markdown",
   "metadata": {},
   "source": [
    "## **Remove Infinity Values**"
   ]
  },
  {
   "cell_type": "code",
   "execution_count": 9,
   "metadata": {},
   "outputs": [],
   "source": [
    "train.replace([np.inf, -np.inf], np.nan, inplace=True)"
   ]
  },
  {
   "cell_type": "markdown",
   "metadata": {},
   "source": [
    "## **'DAY_BIRTH' to 'AGE' in Years**"
   ]
  },
  {
   "cell_type": "code",
   "execution_count": 10,
   "metadata": {},
   "outputs": [
    {
     "data": {
      "text/plain": [
       "count    307507.000000\n",
       "mean         43.937061\n",
       "std          11.956116\n",
       "min          20.517808\n",
       "25%          34.008219\n",
       "50%          43.150685\n",
       "75%          53.923288\n",
       "max          69.120548\n",
       "Name: AGE, dtype: float64"
      ]
     },
     "execution_count": 10,
     "metadata": {},
     "output_type": "execute_result"
    }
   ],
   "source": [
    "train[\"DAYS_BIRTH\"] = abs(train[\"DAYS_BIRTH\"])\n",
    "train[\"DAYS_BIRTH\"] = train[\"DAYS_BIRTH\"]/365\n",
    "train.rename(columns={'DAYS_BIRTH': 'AGE'}, inplace=True)\n",
    "train[\"AGE\"].describe()  "
   ]
  },
  {
   "cell_type": "markdown",
   "metadata": {},
   "source": [
    "## **'DAYS_EMPLOYED' to 'YEARS_EMPLOYED'**"
   ]
  },
  {
   "cell_type": "code",
   "execution_count": 11,
   "metadata": {},
   "outputs": [
    {
     "data": {
      "text/plain": [
       "count    252133.000000\n",
       "mean          6.531897\n",
       "std           6.406377\n",
       "min           0.000000\n",
       "25%           2.101370\n",
       "50%           4.515068\n",
       "75%           8.698630\n",
       "max          49.073973\n",
       "Name: YEARS_EMPLOYED, dtype: float64"
      ]
     },
     "execution_count": 11,
     "metadata": {},
     "output_type": "execute_result"
    }
   ],
   "source": [
    "train[\"DAYS_EMPLOYED\"] = abs(train[\"DAYS_EMPLOYED\"])\n",
    "train[\"DAYS_EMPLOYED\"] = train[\"DAYS_EMPLOYED\"]/365\n",
    "train.rename(columns={\"DAYS_EMPLOYED\": 'YEARS_EMPLOYED'}, inplace=True)\n",
    "train[\"YEARS_EMPLOYED\"].describe()  "
   ]
  },
  {
   "cell_type": "markdown",
   "metadata": {},
   "source": [
    "## **'DAYS_ID_PUBLISH' to 'YEARS_ID_PUBLISH'**"
   ]
  },
  {
   "cell_type": "code",
   "execution_count": 12,
   "metadata": {},
   "outputs": [
    {
     "data": {
      "text/plain": [
       "count    307507.000000\n",
       "mean          8.203292\n",
       "std           4.135492\n",
       "min           0.000000\n",
       "25%           4.712329\n",
       "50%           8.915068\n",
       "75%          11.778082\n",
       "max          19.717808\n",
       "Name: YEARS_ID_PUBLISH, dtype: float64"
      ]
     },
     "execution_count": 12,
     "metadata": {},
     "output_type": "execute_result"
    }
   ],
   "source": [
    "train[\"DAYS_ID_PUBLISH\"] = abs(train[\"DAYS_ID_PUBLISH\"])\n",
    "train[\"DAYS_ID_PUBLISH\"] = train[\"DAYS_ID_PUBLISH\"]/365\n",
    "train.rename(columns={\"DAYS_ID_PUBLISH\": 'YEARS_ID_PUBLISH'}, inplace=True)\n",
    "train[\"YEARS_ID_PUBLISH\"].describe()  "
   ]
  },
  {
   "cell_type": "markdown",
   "metadata": {},
   "source": [
    "## **'DAYS_REGISTRATION' to 'YEARS_REGISTRATION'**"
   ]
  },
  {
   "cell_type": "code",
   "execution_count": 13,
   "metadata": {},
   "outputs": [
    {
     "data": {
      "text/plain": [
       "count    307507.000000\n",
       "mean               NaN\n",
       "std           0.000000\n",
       "min           0.000000\n",
       "25%           5.507812\n",
       "50%          12.335938\n",
       "75%          20.500000\n",
       "max          67.625000\n",
       "Name: YEARS_REGISTRATION, dtype: float64"
      ]
     },
     "execution_count": 13,
     "metadata": {},
     "output_type": "execute_result"
    }
   ],
   "source": [
    "train[\"DAYS_REGISTRATION\"] = abs(train[\"DAYS_REGISTRATION\"])\n",
    "train[\"DAYS_REGISTRATION\"] = train[\"DAYS_REGISTRATION\"]/365\n",
    "train.rename(columns={\"DAYS_REGISTRATION\": 'YEARS_REGISTRATION'}, inplace=True)\n",
    "train[\"YEARS_REGISTRATION\"].describe()  "
   ]
  },
  {
   "cell_type": "markdown",
   "metadata": {},
   "source": [
    "## **'DAYS_LAST_PHONE_CHANGE' to 'YEARS_LAST_PHONE_CHANGE'**"
   ]
  },
  {
   "cell_type": "code",
   "execution_count": 14,
   "metadata": {},
   "outputs": [
    {
     "data": {
      "text/plain": [
       "count    307506.000000\n",
       "mean               NaN\n",
       "std           0.000000\n",
       "min           0.000000\n",
       "25%           0.750488\n",
       "50%           2.074219\n",
       "75%           4.300781\n",
       "max          11.757812\n",
       "Name: YEARS_LAST_PHONE_CHANGE, dtype: float64"
      ]
     },
     "execution_count": 14,
     "metadata": {},
     "output_type": "execute_result"
    }
   ],
   "source": [
    "train[\"DAYS_LAST_PHONE_CHANGE\"] = abs(train[\"DAYS_LAST_PHONE_CHANGE\"])\n",
    "train[\"DAYS_LAST_PHONE_CHANGE\"] = train[\"DAYS_LAST_PHONE_CHANGE\"]/365\n",
    "train.rename(columns={\"DAYS_LAST_PHONE_CHANGE\": 'YEARS_LAST_PHONE_CHANGE'}, inplace=True)\n",
    "train[\"YEARS_LAST_PHONE_CHANGE\"].describe()  "
   ]
  },
  {
   "cell_type": "markdown",
   "metadata": {},
   "source": [
    "# **Missing Values**"
   ]
  },
  {
   "cell_type": "code",
   "execution_count": 15,
   "metadata": {},
   "outputs": [
    {
     "data": {
      "text/html": [
       "<div>\n",
       "<style scoped>\n",
       "    .dataframe tbody tr th:only-of-type {\n",
       "        vertical-align: middle;\n",
       "    }\n",
       "\n",
       "    .dataframe tbody tr th {\n",
       "        vertical-align: top;\n",
       "    }\n",
       "\n",
       "    .dataframe thead th {\n",
       "        text-align: right;\n",
       "    }\n",
       "</style>\n",
       "<table border=\"1\" class=\"dataframe\">\n",
       "  <thead>\n",
       "    <tr style=\"text-align: right;\">\n",
       "      <th></th>\n",
       "      <th>NumberMissing</th>\n",
       "      <th>PercentageMissing</th>\n",
       "      <th>DataType</th>\n",
       "    </tr>\n",
       "  </thead>\n",
       "  <tbody>\n",
       "    <tr>\n",
       "      <th>COMMONAREA_MODE</th>\n",
       "      <td>214862</td>\n",
       "      <td>69.87</td>\n",
       "      <td>float16</td>\n",
       "    </tr>\n",
       "    <tr>\n",
       "      <th>COMMONAREA_MEDI</th>\n",
       "      <td>214862</td>\n",
       "      <td>69.87</td>\n",
       "      <td>float16</td>\n",
       "    </tr>\n",
       "    <tr>\n",
       "      <th>COMMONAREA_AVG</th>\n",
       "      <td>214862</td>\n",
       "      <td>69.87</td>\n",
       "      <td>float16</td>\n",
       "    </tr>\n",
       "    <tr>\n",
       "      <th>NONLIVINGAPARTMENTS_AVG</th>\n",
       "      <td>213512</td>\n",
       "      <td>69.43</td>\n",
       "      <td>float16</td>\n",
       "    </tr>\n",
       "    <tr>\n",
       "      <th>NONLIVINGAPARTMENTS_MODE</th>\n",
       "      <td>213512</td>\n",
       "      <td>69.43</td>\n",
       "      <td>float16</td>\n",
       "    </tr>\n",
       "    <tr>\n",
       "      <th>NONLIVINGAPARTMENTS_MEDI</th>\n",
       "      <td>213512</td>\n",
       "      <td>69.43</td>\n",
       "      <td>float16</td>\n",
       "    </tr>\n",
       "    <tr>\n",
       "      <th>FONDKAPREMONT_MODE</th>\n",
       "      <td>210293</td>\n",
       "      <td>68.39</td>\n",
       "      <td>object</td>\n",
       "    </tr>\n",
       "    <tr>\n",
       "      <th>LIVINGAPARTMENTS_MODE</th>\n",
       "      <td>210197</td>\n",
       "      <td>68.36</td>\n",
       "      <td>float16</td>\n",
       "    </tr>\n",
       "    <tr>\n",
       "      <th>LIVINGAPARTMENTS_AVG</th>\n",
       "      <td>210197</td>\n",
       "      <td>68.36</td>\n",
       "      <td>float16</td>\n",
       "    </tr>\n",
       "    <tr>\n",
       "      <th>LIVINGAPARTMENTS_MEDI</th>\n",
       "      <td>210197</td>\n",
       "      <td>68.36</td>\n",
       "      <td>float16</td>\n",
       "    </tr>\n",
       "    <tr>\n",
       "      <th>FLOORSMIN_MEDI</th>\n",
       "      <td>208640</td>\n",
       "      <td>67.85</td>\n",
       "      <td>float16</td>\n",
       "    </tr>\n",
       "    <tr>\n",
       "      <th>FLOORSMIN_AVG</th>\n",
       "      <td>208640</td>\n",
       "      <td>67.85</td>\n",
       "      <td>float16</td>\n",
       "    </tr>\n",
       "    <tr>\n",
       "      <th>FLOORSMIN_MODE</th>\n",
       "      <td>208640</td>\n",
       "      <td>67.85</td>\n",
       "      <td>float16</td>\n",
       "    </tr>\n",
       "    <tr>\n",
       "      <th>YEARS_BUILD_MEDI</th>\n",
       "      <td>204486</td>\n",
       "      <td>66.50</td>\n",
       "      <td>float16</td>\n",
       "    </tr>\n",
       "    <tr>\n",
       "      <th>YEARS_BUILD_MODE</th>\n",
       "      <td>204486</td>\n",
       "      <td>66.50</td>\n",
       "      <td>float16</td>\n",
       "    </tr>\n",
       "    <tr>\n",
       "      <th>YEARS_BUILD_AVG</th>\n",
       "      <td>204486</td>\n",
       "      <td>66.50</td>\n",
       "      <td>float16</td>\n",
       "    </tr>\n",
       "    <tr>\n",
       "      <th>OWN_CAR_AGE</th>\n",
       "      <td>202927</td>\n",
       "      <td>65.99</td>\n",
       "      <td>float16</td>\n",
       "    </tr>\n",
       "    <tr>\n",
       "      <th>LANDAREA_MEDI</th>\n",
       "      <td>182588</td>\n",
       "      <td>59.38</td>\n",
       "      <td>float16</td>\n",
       "    </tr>\n",
       "    <tr>\n",
       "      <th>LANDAREA_AVG</th>\n",
       "      <td>182588</td>\n",
       "      <td>59.38</td>\n",
       "      <td>float16</td>\n",
       "    </tr>\n",
       "    <tr>\n",
       "      <th>LANDAREA_MODE</th>\n",
       "      <td>182588</td>\n",
       "      <td>59.38</td>\n",
       "      <td>float16</td>\n",
       "    </tr>\n",
       "    <tr>\n",
       "      <th>BASEMENTAREA_MODE</th>\n",
       "      <td>179942</td>\n",
       "      <td>58.52</td>\n",
       "      <td>float16</td>\n",
       "    </tr>\n",
       "    <tr>\n",
       "      <th>BASEMENTAREA_AVG</th>\n",
       "      <td>179942</td>\n",
       "      <td>58.52</td>\n",
       "      <td>float16</td>\n",
       "    </tr>\n",
       "    <tr>\n",
       "      <th>BASEMENTAREA_MEDI</th>\n",
       "      <td>179942</td>\n",
       "      <td>58.52</td>\n",
       "      <td>float16</td>\n",
       "    </tr>\n",
       "    <tr>\n",
       "      <th>EXT_SOURCE_1</th>\n",
       "      <td>173376</td>\n",
       "      <td>56.38</td>\n",
       "      <td>float16</td>\n",
       "    </tr>\n",
       "    <tr>\n",
       "      <th>NONLIVINGAREA_MEDI</th>\n",
       "      <td>169680</td>\n",
       "      <td>55.18</td>\n",
       "      <td>float16</td>\n",
       "    </tr>\n",
       "    <tr>\n",
       "      <th>NONLIVINGAREA_MODE</th>\n",
       "      <td>169680</td>\n",
       "      <td>55.18</td>\n",
       "      <td>float16</td>\n",
       "    </tr>\n",
       "    <tr>\n",
       "      <th>NONLIVINGAREA_AVG</th>\n",
       "      <td>169680</td>\n",
       "      <td>55.18</td>\n",
       "      <td>float16</td>\n",
       "    </tr>\n",
       "    <tr>\n",
       "      <th>ELEVATORS_AVG</th>\n",
       "      <td>163890</td>\n",
       "      <td>53.30</td>\n",
       "      <td>float16</td>\n",
       "    </tr>\n",
       "    <tr>\n",
       "      <th>ELEVATORS_MEDI</th>\n",
       "      <td>163890</td>\n",
       "      <td>53.30</td>\n",
       "      <td>float16</td>\n",
       "    </tr>\n",
       "    <tr>\n",
       "      <th>ELEVATORS_MODE</th>\n",
       "      <td>163890</td>\n",
       "      <td>53.30</td>\n",
       "      <td>float16</td>\n",
       "    </tr>\n",
       "    <tr>\n",
       "      <th>WALLSMATERIAL_MODE</th>\n",
       "      <td>156340</td>\n",
       "      <td>50.84</td>\n",
       "      <td>object</td>\n",
       "    </tr>\n",
       "    <tr>\n",
       "      <th>APARTMENTS_MODE</th>\n",
       "      <td>156060</td>\n",
       "      <td>50.75</td>\n",
       "      <td>float16</td>\n",
       "    </tr>\n",
       "    <tr>\n",
       "      <th>APARTMENTS_AVG</th>\n",
       "      <td>156060</td>\n",
       "      <td>50.75</td>\n",
       "      <td>float16</td>\n",
       "    </tr>\n",
       "    <tr>\n",
       "      <th>APARTMENTS_MEDI</th>\n",
       "      <td>156060</td>\n",
       "      <td>50.75</td>\n",
       "      <td>float16</td>\n",
       "    </tr>\n",
       "    <tr>\n",
       "      <th>ENTRANCES_MODE</th>\n",
       "      <td>154827</td>\n",
       "      <td>50.35</td>\n",
       "      <td>float16</td>\n",
       "    </tr>\n",
       "    <tr>\n",
       "      <th>ENTRANCES_AVG</th>\n",
       "      <td>154827</td>\n",
       "      <td>50.35</td>\n",
       "      <td>float16</td>\n",
       "    </tr>\n",
       "    <tr>\n",
       "      <th>ENTRANCES_MEDI</th>\n",
       "      <td>154827</td>\n",
       "      <td>50.35</td>\n",
       "      <td>float16</td>\n",
       "    </tr>\n",
       "    <tr>\n",
       "      <th>LIVINGAREA_MODE</th>\n",
       "      <td>154349</td>\n",
       "      <td>50.19</td>\n",
       "      <td>float16</td>\n",
       "    </tr>\n",
       "    <tr>\n",
       "      <th>LIVINGAREA_AVG</th>\n",
       "      <td>154349</td>\n",
       "      <td>50.19</td>\n",
       "      <td>float16</td>\n",
       "    </tr>\n",
       "    <tr>\n",
       "      <th>LIVINGAREA_MEDI</th>\n",
       "      <td>154349</td>\n",
       "      <td>50.19</td>\n",
       "      <td>float16</td>\n",
       "    </tr>\n",
       "    <tr>\n",
       "      <th>HOUSETYPE_MODE</th>\n",
       "      <td>154296</td>\n",
       "      <td>50.18</td>\n",
       "      <td>object</td>\n",
       "    </tr>\n",
       "    <tr>\n",
       "      <th>FLOORSMAX_MEDI</th>\n",
       "      <td>153019</td>\n",
       "      <td>49.76</td>\n",
       "      <td>float16</td>\n",
       "    </tr>\n",
       "    <tr>\n",
       "      <th>FLOORSMAX_AVG</th>\n",
       "      <td>153019</td>\n",
       "      <td>49.76</td>\n",
       "      <td>float16</td>\n",
       "    </tr>\n",
       "    <tr>\n",
       "      <th>FLOORSMAX_MODE</th>\n",
       "      <td>153019</td>\n",
       "      <td>49.76</td>\n",
       "      <td>float16</td>\n",
       "    </tr>\n",
       "    <tr>\n",
       "      <th>YEARS_BEGINEXPLUATATION_MODE</th>\n",
       "      <td>150006</td>\n",
       "      <td>48.78</td>\n",
       "      <td>float16</td>\n",
       "    </tr>\n",
       "    <tr>\n",
       "      <th>YEARS_BEGINEXPLUATATION_AVG</th>\n",
       "      <td>150006</td>\n",
       "      <td>48.78</td>\n",
       "      <td>float16</td>\n",
       "    </tr>\n",
       "    <tr>\n",
       "      <th>YEARS_BEGINEXPLUATATION_MEDI</th>\n",
       "      <td>150006</td>\n",
       "      <td>48.78</td>\n",
       "      <td>float16</td>\n",
       "    </tr>\n",
       "    <tr>\n",
       "      <th>TOTALAREA_MODE</th>\n",
       "      <td>148430</td>\n",
       "      <td>48.27</td>\n",
       "      <td>float16</td>\n",
       "    </tr>\n",
       "    <tr>\n",
       "      <th>EMERGENCYSTATE_MODE</th>\n",
       "      <td>145754</td>\n",
       "      <td>47.40</td>\n",
       "      <td>object</td>\n",
       "    </tr>\n",
       "    <tr>\n",
       "      <th>OCCUPATION_TYPE</th>\n",
       "      <td>96389</td>\n",
       "      <td>31.35</td>\n",
       "      <td>object</td>\n",
       "    </tr>\n",
       "    <tr>\n",
       "      <th>EXT_SOURCE_3</th>\n",
       "      <td>60965</td>\n",
       "      <td>19.83</td>\n",
       "      <td>float16</td>\n",
       "    </tr>\n",
       "    <tr>\n",
       "      <th>YEARS_EMPLOYED</th>\n",
       "      <td>55374</td>\n",
       "      <td>18.01</td>\n",
       "      <td>float64</td>\n",
       "    </tr>\n",
       "    <tr>\n",
       "      <th>AMT_REQ_CREDIT_BUREAU_WEEK</th>\n",
       "      <td>41519</td>\n",
       "      <td>13.50</td>\n",
       "      <td>float16</td>\n",
       "    </tr>\n",
       "    <tr>\n",
       "      <th>AMT_REQ_CREDIT_BUREAU_MON</th>\n",
       "      <td>41519</td>\n",
       "      <td>13.50</td>\n",
       "      <td>float16</td>\n",
       "    </tr>\n",
       "    <tr>\n",
       "      <th>AMT_REQ_CREDIT_BUREAU_HOUR</th>\n",
       "      <td>41519</td>\n",
       "      <td>13.50</td>\n",
       "      <td>float16</td>\n",
       "    </tr>\n",
       "    <tr>\n",
       "      <th>AMT_REQ_CREDIT_BUREAU_YEAR</th>\n",
       "      <td>41519</td>\n",
       "      <td>13.50</td>\n",
       "      <td>float16</td>\n",
       "    </tr>\n",
       "    <tr>\n",
       "      <th>AMT_REQ_CREDIT_BUREAU_QRT</th>\n",
       "      <td>41519</td>\n",
       "      <td>13.50</td>\n",
       "      <td>float16</td>\n",
       "    </tr>\n",
       "    <tr>\n",
       "      <th>AMT_REQ_CREDIT_BUREAU_DAY</th>\n",
       "      <td>41519</td>\n",
       "      <td>13.50</td>\n",
       "      <td>float16</td>\n",
       "    </tr>\n",
       "    <tr>\n",
       "      <th>NAME_TYPE_SUITE</th>\n",
       "      <td>1292</td>\n",
       "      <td>0.42</td>\n",
       "      <td>object</td>\n",
       "    </tr>\n",
       "    <tr>\n",
       "      <th>DEF_30_CNT_SOCIAL_CIRCLE</th>\n",
       "      <td>1021</td>\n",
       "      <td>0.33</td>\n",
       "      <td>float16</td>\n",
       "    </tr>\n",
       "    <tr>\n",
       "      <th>DEF_60_CNT_SOCIAL_CIRCLE</th>\n",
       "      <td>1021</td>\n",
       "      <td>0.33</td>\n",
       "      <td>float16</td>\n",
       "    </tr>\n",
       "    <tr>\n",
       "      <th>OBS_30_CNT_SOCIAL_CIRCLE</th>\n",
       "      <td>1021</td>\n",
       "      <td>0.33</td>\n",
       "      <td>float16</td>\n",
       "    </tr>\n",
       "    <tr>\n",
       "      <th>OBS_60_CNT_SOCIAL_CIRCLE</th>\n",
       "      <td>1021</td>\n",
       "      <td>0.33</td>\n",
       "      <td>float16</td>\n",
       "    </tr>\n",
       "    <tr>\n",
       "      <th>EXT_SOURCE_2</th>\n",
       "      <td>660</td>\n",
       "      <td>0.21</td>\n",
       "      <td>float16</td>\n",
       "    </tr>\n",
       "    <tr>\n",
       "      <th>AMT_GOODS_PRICE</th>\n",
       "      <td>278</td>\n",
       "      <td>0.09</td>\n",
       "      <td>float32</td>\n",
       "    </tr>\n",
       "    <tr>\n",
       "      <th>AMT_ANNUITY</th>\n",
       "      <td>12</td>\n",
       "      <td>0.00</td>\n",
       "      <td>float32</td>\n",
       "    </tr>\n",
       "    <tr>\n",
       "      <th>CNT_FAM_MEMBERS</th>\n",
       "      <td>2</td>\n",
       "      <td>0.00</td>\n",
       "      <td>float16</td>\n",
       "    </tr>\n",
       "    <tr>\n",
       "      <th>YEARS_LAST_PHONE_CHANGE</th>\n",
       "      <td>1</td>\n",
       "      <td>0.00</td>\n",
       "      <td>float16</td>\n",
       "    </tr>\n",
       "  </tbody>\n",
       "</table>\n",
       "</div>"
      ],
      "text/plain": [
       "                              NumberMissing  PercentageMissing DataType\n",
       "COMMONAREA_MODE                      214862              69.87  float16\n",
       "COMMONAREA_MEDI                      214862              69.87  float16\n",
       "COMMONAREA_AVG                       214862              69.87  float16\n",
       "NONLIVINGAPARTMENTS_AVG              213512              69.43  float16\n",
       "NONLIVINGAPARTMENTS_MODE             213512              69.43  float16\n",
       "NONLIVINGAPARTMENTS_MEDI             213512              69.43  float16\n",
       "FONDKAPREMONT_MODE                   210293              68.39   object\n",
       "LIVINGAPARTMENTS_MODE                210197              68.36  float16\n",
       "LIVINGAPARTMENTS_AVG                 210197              68.36  float16\n",
       "LIVINGAPARTMENTS_MEDI                210197              68.36  float16\n",
       "FLOORSMIN_MEDI                       208640              67.85  float16\n",
       "FLOORSMIN_AVG                        208640              67.85  float16\n",
       "FLOORSMIN_MODE                       208640              67.85  float16\n",
       "YEARS_BUILD_MEDI                     204486              66.50  float16\n",
       "YEARS_BUILD_MODE                     204486              66.50  float16\n",
       "YEARS_BUILD_AVG                      204486              66.50  float16\n",
       "OWN_CAR_AGE                          202927              65.99  float16\n",
       "LANDAREA_MEDI                        182588              59.38  float16\n",
       "LANDAREA_AVG                         182588              59.38  float16\n",
       "LANDAREA_MODE                        182588              59.38  float16\n",
       "BASEMENTAREA_MODE                    179942              58.52  float16\n",
       "BASEMENTAREA_AVG                     179942              58.52  float16\n",
       "BASEMENTAREA_MEDI                    179942              58.52  float16\n",
       "EXT_SOURCE_1                         173376              56.38  float16\n",
       "NONLIVINGAREA_MEDI                   169680              55.18  float16\n",
       "NONLIVINGAREA_MODE                   169680              55.18  float16\n",
       "NONLIVINGAREA_AVG                    169680              55.18  float16\n",
       "ELEVATORS_AVG                        163890              53.30  float16\n",
       "ELEVATORS_MEDI                       163890              53.30  float16\n",
       "ELEVATORS_MODE                       163890              53.30  float16\n",
       "WALLSMATERIAL_MODE                   156340              50.84   object\n",
       "APARTMENTS_MODE                      156060              50.75  float16\n",
       "APARTMENTS_AVG                       156060              50.75  float16\n",
       "APARTMENTS_MEDI                      156060              50.75  float16\n",
       "ENTRANCES_MODE                       154827              50.35  float16\n",
       "ENTRANCES_AVG                        154827              50.35  float16\n",
       "ENTRANCES_MEDI                       154827              50.35  float16\n",
       "LIVINGAREA_MODE                      154349              50.19  float16\n",
       "LIVINGAREA_AVG                       154349              50.19  float16\n",
       "LIVINGAREA_MEDI                      154349              50.19  float16\n",
       "HOUSETYPE_MODE                       154296              50.18   object\n",
       "FLOORSMAX_MEDI                       153019              49.76  float16\n",
       "FLOORSMAX_AVG                        153019              49.76  float16\n",
       "FLOORSMAX_MODE                       153019              49.76  float16\n",
       "YEARS_BEGINEXPLUATATION_MODE         150006              48.78  float16\n",
       "YEARS_BEGINEXPLUATATION_AVG          150006              48.78  float16\n",
       "YEARS_BEGINEXPLUATATION_MEDI         150006              48.78  float16\n",
       "TOTALAREA_MODE                       148430              48.27  float16\n",
       "EMERGENCYSTATE_MODE                  145754              47.40   object\n",
       "OCCUPATION_TYPE                       96389              31.35   object\n",
       "EXT_SOURCE_3                          60965              19.83  float16\n",
       "YEARS_EMPLOYED                        55374              18.01  float64\n",
       "AMT_REQ_CREDIT_BUREAU_WEEK            41519              13.50  float16\n",
       "AMT_REQ_CREDIT_BUREAU_MON             41519              13.50  float16\n",
       "AMT_REQ_CREDIT_BUREAU_HOUR            41519              13.50  float16\n",
       "AMT_REQ_CREDIT_BUREAU_YEAR            41519              13.50  float16\n",
       "AMT_REQ_CREDIT_BUREAU_QRT             41519              13.50  float16\n",
       "AMT_REQ_CREDIT_BUREAU_DAY             41519              13.50  float16\n",
       "NAME_TYPE_SUITE                        1292               0.42   object\n",
       "DEF_30_CNT_SOCIAL_CIRCLE               1021               0.33  float16\n",
       "DEF_60_CNT_SOCIAL_CIRCLE               1021               0.33  float16\n",
       "OBS_30_CNT_SOCIAL_CIRCLE               1021               0.33  float16\n",
       "OBS_60_CNT_SOCIAL_CIRCLE               1021               0.33  float16\n",
       "EXT_SOURCE_2                            660               0.21  float16\n",
       "AMT_GOODS_PRICE                         278               0.09  float32\n",
       "AMT_ANNUITY                              12               0.00  float32\n",
       "CNT_FAM_MEMBERS                           2               0.00  float16\n",
       "YEARS_LAST_PHONE_CHANGE                   1               0.00  float16"
      ]
     },
     "execution_count": 15,
     "metadata": {},
     "output_type": "execute_result"
    }
   ],
   "source": [
    "functions.MissingValues(train)"
   ]
  },
  {
   "cell_type": "markdown",
   "metadata": {},
   "source": [
    "# **Save Dataframe as CSV File**"
   ]
  },
  {
   "cell_type": "code",
   "execution_count": 16,
   "metadata": {},
   "outputs": [
    {
     "data": {
      "text/plain": [
       "(307507, 111)"
      ]
     },
     "execution_count": 16,
     "metadata": {},
     "output_type": "execute_result"
    }
   ],
   "source": [
    "train.shape"
   ]
  },
  {
   "cell_type": "code",
   "execution_count": 17,
   "metadata": {},
   "outputs": [],
   "source": [
    "train.to_csv(r\"C:\\Users\\Dell\\Documents\\AI\\Risk\\Data\\Data\\train.csv\", index=False)"
   ]
  }
 ],
 "metadata": {
  "kernelspec": {
   "display_name": "riskvenv",
   "language": "python",
   "name": "python3"
  },
  "language_info": {
   "codemirror_mode": {
    "name": "ipython",
    "version": 3
   },
   "file_extension": ".py",
   "mimetype": "text/x-python",
   "name": "python",
   "nbconvert_exporter": "python",
   "pygments_lexer": "ipython3",
   "version": "3.10.1"
  }
 },
 "nbformat": 4,
 "nbformat_minor": 2
}
