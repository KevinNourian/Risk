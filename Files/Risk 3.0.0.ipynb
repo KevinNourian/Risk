{
 "cells": [
  {
   "cell_type": "markdown",
   "metadata": {},
   "source": [
    "# **Libraries**"
   ]
  },
  {
   "cell_type": "code",
   "execution_count": 1,
   "metadata": {},
   "outputs": [],
   "source": [
    "import pandas as pd\n",
    "import numpy as np\n",
    "import os\n",
    "import sys\n",
    "\n",
    "import functions\n",
    "import importlib\n",
    "importlib.reload(functions)\n",
    "\n",
    "import warnings"
   ]
  },
  {
   "cell_type": "markdown",
   "metadata": {},
   "source": [
    "# **Display**"
   ]
  },
  {
   "cell_type": "code",
   "execution_count": 2,
   "metadata": {},
   "outputs": [],
   "source": [
    "%matplotlib inline\n",
    "\n",
    "pd.options.display.max_rows = 300000\n",
    "pd.options.display.max_columns = 999\n",
    "pd.options.display.max_colwidth = 500\n",
    "\n",
    "warnings.filterwarnings(\"ignore\")\n",
    "warnings.simplefilter(action=\"ignore\", category=FutureWarning)\n",
    "\n",
    "pd.set_option('display.max_rows', 200)\n",
    "\n",
    "size = 20"
   ]
  },
  {
   "cell_type": "markdown",
   "metadata": {},
   "source": [
    "# **Variables**"
   ]
  },
  {
   "cell_type": "code",
   "execution_count": 3,
   "metadata": {},
   "outputs": [],
   "source": [
    "random_state = 101\n",
    "target = 'TARGET'"
   ]
  },
  {
   "cell_type": "markdown",
   "metadata": {},
   "source": [
    "# **Data**"
   ]
  },
  {
   "cell_type": "markdown",
   "metadata": {},
   "source": [
    "## **Load Data**"
   ]
  },
  {
   "cell_type": "code",
   "execution_count": 4,
   "metadata": {},
   "outputs": [],
   "source": [
    "application_train = pd.read_csv(\n",
    "    r\"C:\\Users\\Dell\\Documents\\AI\\Risk\\Data\\application_train.csv\",\n",
    "    index_col=False\n",
    ")"
   ]
  },
  {
   "cell_type": "markdown",
   "metadata": {},
   "source": [
    "## **Spearman Correlation**"
   ]
  },
  {
   "cell_type": "code",
   "execution_count": 5,
   "metadata": {},
   "outputs": [],
   "source": [
    "data = application_train\n",
    "data_type = 'object'\n",
    "\n",
    "data = functions.label_encoder(data, data_type)"
   ]
  },
  {
   "cell_type": "code",
   "execution_count": 6,
   "metadata": {},
   "outputs": [
    {
     "name": "stdout",
     "output_type": "stream",
     "text": [
      "                          Feature  Spearman Correlation\n",
      "30    REGION_RATING_CLIENT_W_CITY              0.064043\n",
      "12            NAME_EDUCATION_TYPE              0.058018\n",
      "29           REGION_RATING_CLIENT              0.056226\n",
      "17                  DAYS_EMPLOYED              0.054218\n",
      "20                    OWN_CAR_AGE              0.052992\n",
      "96                FLAG_DOCUMENT_3              0.052391\n",
      "16                     DAYS_BIRTH              0.048413\n",
      "11               NAME_INCOME_TYPE              0.036332\n",
      "120    AMT_REQ_CREDIT_BUREAU_YEAR              0.033373\n",
      "2                     CODE_GENDER              0.033249\n",
      "19                DAYS_ID_PUBLISH              0.030369\n",
      "88             WALLSMATERIAL_MODE              0.029976\n",
      "90       OBS_30_CNT_SOCIAL_CIRCLE              0.029763\n",
      "92       OBS_60_CNT_SOCIAL_CIRCLE              0.029005\n",
      "14              NAME_HOUSING_TYPE              0.025330\n",
      "93       DEF_60_CNT_SOCIAL_CIRCLE              0.024699\n",
      "91       DEF_30_CNT_SOCIAL_CIRCLE              0.022351\n",
      "86                 HOUSETYPE_MODE              0.020226\n",
      "89            EMERGENCYSTATE_MODE              0.018703\n",
      "116     AMT_REQ_CREDIT_BUREAU_DAY              0.018259\n",
      "94         DAYS_LAST_PHONE_CHANGE              0.016097\n",
      "100               FLAG_DOCUMENT_7              0.014953\n",
      "23                FLAG_WORK_PHONE              0.014650\n",
      "0                      SK_ID_CURR              0.014583\n",
      "22                 FLAG_EMP_PHONE              0.014281\n",
      "117    AMT_REQ_CREDIT_BUREAU_WEEK              0.012576\n",
      "37         REG_CITY_NOT_WORK_CITY              0.012114\n",
      "27                OCCUPATION_TYPE              0.011745\n",
      "112              FLAG_DOCUMENT_19              0.008607\n",
      "24               FLAG_CONT_MOBILE              0.008002\n",
      "18              DAYS_REGISTRATION              0.007933\n",
      "115    AMT_REQ_CREDIT_BUREAU_HOUR              0.006728\n",
      "8                     AMT_ANNUITY              0.006423\n",
      "26                     FLAG_EMAIL              0.005313\n",
      "4                 FLAG_OWN_REALTY              0.005178\n",
      "119     AMT_REQ_CREDIT_BUREAU_QRT              0.004814\n",
      "107              FLAG_DOCUMENT_14              0.004621\n",
      "38        LIVE_CITY_NOT_WORK_CITY              0.004404\n",
      "113              FLAG_DOCUMENT_20              0.002357\n",
      "85             FONDKAPREMONT_MODE              0.001293\n",
      "36         REG_CITY_NOT_LIVE_CITY              0.000873\n",
      "102               FLAG_DOCUMENT_9             -0.000097\n",
      "13             NAME_FAMILY_STATUS             -0.000199\n",
      "35    LIVE_REGION_NOT_WORK_REGION             -0.000808\n",
      "118     AMT_REQ_CREDIT_BUREAU_MON             -0.001925\n",
      "39              ORGANIZATION_TYPE             -0.002096\n",
      "97                FLAG_DOCUMENT_4             -0.002379\n",
      "103              FLAG_DOCUMENT_10             -0.002379\n",
      "105              FLAG_DOCUMENT_12             -0.002379\n",
      "108              FLAG_DOCUMENT_15             -0.002595\n",
      "31     WEEKDAY_APPR_PROCESS_START             -0.002829\n",
      "110              FLAG_DOCUMENT_17             -0.003364\n",
      "66                  LANDAREA_MODE             -0.003808\n",
      "114              FLAG_DOCUMENT_21             -0.004120\n",
      "80                  LANDAREA_MEDI             -0.005625\n",
      "52                   LANDAREA_AVG             -0.006106\n",
      "104              FLAG_DOCUMENT_11             -0.006268\n",
      "63                 ENTRANCES_MODE             -0.006934\n",
      "99                FLAG_DOCUMENT_6             -0.007918\n",
      "34     REG_REGION_NOT_WORK_REGION             -0.007993\n",
      "10                NAME_TYPE_SUITE             -0.008237\n",
      "77                 ENTRANCES_MEDI             -0.009050\n",
      "49                  ENTRANCES_AVG             -0.009217\n",
      "111              FLAG_DOCUMENT_18             -0.009594\n",
      "33     REG_REGION_NOT_LIVE_REGION             -0.011006\n",
      "69       NONLIVINGAPARTMENTS_MODE             -0.011017\n",
      "58              BASEMENTAREA_MODE             -0.011120\n",
      "98                FLAG_DOCUMENT_5             -0.012821\n",
      "7                      AMT_CREDIT             -0.012927\n",
      "25                     FLAG_PHONE             -0.013102\n",
      "15     REGION_POPULATION_RELATIVE             -0.013866\n",
      "5                    CNT_CHILDREN             -0.014168\n",
      "101               FLAG_DOCUMENT_8             -0.014394\n",
      "83       NONLIVINGAPARTMENTS_MEDI             -0.015849\n",
      "32        HOUR_APPR_PROCESS_START             -0.016728\n",
      "72              BASEMENTAREA_MEDI             -0.016769\n",
      "55        NONLIVINGAPARTMENTS_AVG             -0.017127\n",
      "61                COMMONAREA_MODE             -0.017385\n",
      "28                CNT_FAM_MEMBERS             -0.018119\n",
      "44               BASEMENTAREA_AVG             -0.018403\n",
      "75                COMMONAREA_MEDI             -0.018789\n",
      "70             NONLIVINGAREA_MODE             -0.019353\n",
      "109              FLAG_DOCUMENT_16             -0.019652\n",
      "47                 COMMONAREA_AVG             -0.019732\n",
      "84             NONLIVINGAREA_MEDI             -0.020038\n",
      "56              NONLIVINGAREA_AVG             -0.020997\n",
      "9                 AMT_GOODS_PRICE             -0.023535\n",
      "59   YEARS_BEGINEXPLUATATION_MODE             -0.025425\n",
      "60               YEARS_BUILD_MODE             -0.025940\n",
      "45    YEARS_BEGINEXPLUATATION_AVG             -0.026263\n",
      "73   YEARS_BEGINEXPLUATATION_MEDI             -0.026647\n",
      "74               YEARS_BUILD_MEDI             -0.027725\n",
      "46                YEARS_BUILD_AVG             -0.027810\n",
      "106              FLAG_DOCUMENT_13             -0.028909\n",
      "65                 FLOORSMIN_MODE             -0.030003\n",
      "67          LIVINGAPARTMENTS_MODE             -0.031046\n",
      "51                  FLOORSMIN_AVG             -0.031549\n",
      "79                 FLOORSMIN_MEDI             -0.031694\n",
      "57                APARTMENTS_MODE             -0.031902\n",
      "81          LIVINGAPARTMENTS_MEDI             -0.032344\n",
      "53           LIVINGAPARTMENTS_AVG             -0.034101\n",
      "71                APARTMENTS_MEDI             -0.034459\n",
      "43                 APARTMENTS_AVG             -0.035970\n",
      "87                 TOTALAREA_MODE             -0.037595\n",
      "62                 ELEVATORS_MODE             -0.037963\n",
      "68                LIVINGAREA_MODE             -0.038350\n",
      "82                LIVINGAREA_MEDI             -0.038742\n",
      "76                 ELEVATORS_MEDI             -0.039097\n",
      "54                 LIVINGAREA_AVG             -0.040390\n",
      "1              NAME_CONTRACT_TYPE             -0.040726\n",
      "48                  ELEVATORS_AVG             -0.040834\n",
      "6                AMT_INCOME_TOTAL             -0.049987\n",
      "78                 FLOORSMAX_MEDI             -0.050530\n",
      "50                  FLOORSMAX_AVG             -0.051363\n",
      "64                 FLOORSMAX_MODE             -0.052061\n",
      "41                   EXT_SOURCE_2             -0.119736\n",
      "40                   EXT_SOURCE_1             -0.129262\n",
      "42                   EXT_SOURCE_3             -0.146641\n",
      "3                    FLAG_OWN_CAR                   NaN\n",
      "21                     FLAG_MOBIL                   NaN\n",
      "95                FLAG_DOCUMENT_2                   NaN\n"
     ]
    }
   ],
   "source": [
    "data = data\n",
    "functions.spearman_correlation(data, target)"
   ]
  }
 ],
 "metadata": {
  "kernelspec": {
   "display_name": "riskvenv",
   "language": "python",
   "name": "python3"
  },
  "language_info": {
   "codemirror_mode": {
    "name": "ipython",
    "version": 3
   },
   "file_extension": ".py",
   "mimetype": "text/x-python",
   "name": "python",
   "nbconvert_exporter": "python",
   "pygments_lexer": "ipython3",
   "version": "3.10.1"
  }
 },
 "nbformat": 4,
 "nbformat_minor": 2
}
