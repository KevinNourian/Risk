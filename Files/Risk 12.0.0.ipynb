{
 "cells": [
  {
   "cell_type": "markdown",
   "metadata": {},
   "source": [
    "# **Libraries**"
   ]
  },
  {
   "cell_type": "code",
   "execution_count": 17,
   "metadata": {},
   "outputs": [],
   "source": [
    "import pandas as pd\n",
    "import numpy as np\n",
    "\n",
    "from feature_engine.selection import DropCorrelatedFeatures\n",
    "from sklearn.utils import shuffle\n",
    "from sklearn.model_selection import train_test_split\n",
    "\n",
    "import lightgbm as lgb\n",
    "from sklearn.metrics import roc_auc_score\n",
    "\n",
    "from feature_engine.encoding import WoEEncoder\n",
    "\n",
    "import functions\n",
    "import importlib\n",
    "importlib.reload(functions)\n",
    "\n",
    "import time\n",
    "\n",
    "import warnings"
   ]
  },
  {
   "cell_type": "markdown",
   "metadata": {},
   "source": [
    "# **Display**"
   ]
  },
  {
   "cell_type": "code",
   "execution_count": 2,
   "metadata": {},
   "outputs": [],
   "source": [
    "%matplotlib inline\n",
    "\n",
    "pd.options.display.max_rows = 300000\n",
    "pd.options.display.max_columns = 999\n",
    "pd.options.display.max_colwidth = 500\n",
    "\n",
    "warnings.filterwarnings(\"ignore\")\n",
    "warnings.simplefilter(action=\"ignore\", category=FutureWarning)\n",
    "\n",
    "pd.set_option('display.max_rows', 200)\n",
    "\n",
    "size = 20"
   ]
  },
  {
   "cell_type": "markdown",
   "metadata": {},
   "source": [
    "# **Data**"
   ]
  },
  {
   "cell_type": "markdown",
   "metadata": {},
   "source": [
    "## **Load Data**"
   ]
  },
  {
   "cell_type": "code",
   "execution_count": 39,
   "metadata": {},
   "outputs": [],
   "source": [
    "app_train = pd.read_csv(\n",
    "    r\"C:\\Users\\Dell\\Documents\\AI\\Risk\\Data\\application_train.csv\",\n",
    "    index_col=False\n",
    ")\n",
    "\n",
    "previous_apps = pd.read_csv(\n",
    "    r\"C:\\Users\\Dell\\Documents\\AI\\Risk\\Data\\previous_application.csv\",\n",
    "    index_col=False\n",
    ")"
   ]
  },
  {
   "cell_type": "markdown",
   "metadata": {},
   "source": [
    "# **Variables**"
   ]
  },
  {
   "cell_type": "code",
   "execution_count": 40,
   "metadata": {},
   "outputs": [],
   "source": [
    "random_state = 101\n",
    "target = 'TARGET'"
   ]
  },
  {
   "cell_type": "markdown",
   "metadata": {},
   "source": [
    "## **Drop Collinear Features**"
   ]
  },
  {
   "cell_type": "code",
   "execution_count": 42,
   "metadata": {},
   "outputs": [],
   "source": [
    "dcf = DropCorrelatedFeatures(threshold=0.7)\n",
    "previous_apps = dcf.fit_transform(previous_apps)\n",
    "app_train = dcf.fit_transform(app_train)"
   ]
  },
  {
   "cell_type": "markdown",
   "metadata": {},
   "source": [
    "## **Reduce Memory Usage**"
   ]
  },
  {
   "cell_type": "code",
   "execution_count": 43,
   "metadata": {},
   "outputs": [
    {
     "name": "stdout",
     "output_type": "stream",
     "text": [
      "Memory usage of dataframe is 407.77 MB\n",
      "Memory usage after optimization is: 277.15 MB\n",
      "Decreased by 32.0%\n",
      "Memory usage of dataframe is 187.69 MB\n",
      "Memory usage after optimization is: 67.74 MB\n",
      "Decreased by 63.9%\n"
     ]
    }
   ],
   "source": [
    "previous_apps = functions.reduce_memory_usage(previous_apps)\n",
    "\n",
    "app_train = functions.reduce_memory_usage(app_train)"
   ]
  },
  {
   "cell_type": "markdown",
   "metadata": {},
   "source": [
    "## **Missing Values**"
   ]
  },
  {
   "cell_type": "code",
   "execution_count": 34,
   "metadata": {},
   "outputs": [
    {
     "data": {
      "text/html": [
       "<div>\n",
       "<style scoped>\n",
       "    .dataframe tbody tr th:only-of-type {\n",
       "        vertical-align: middle;\n",
       "    }\n",
       "\n",
       "    .dataframe tbody tr th {\n",
       "        vertical-align: top;\n",
       "    }\n",
       "\n",
       "    .dataframe thead th {\n",
       "        text-align: right;\n",
       "    }\n",
       "</style>\n",
       "<table border=\"1\" class=\"dataframe\">\n",
       "  <thead>\n",
       "    <tr style=\"text-align: right;\">\n",
       "      <th></th>\n",
       "      <th>NumberMissing</th>\n",
       "      <th>PercentageMissing</th>\n",
       "      <th>DataType</th>\n",
       "    </tr>\n",
       "  </thead>\n",
       "  <tbody>\n",
       "    <tr>\n",
       "      <th>RATE_INTEREST_PRIMARY</th>\n",
       "      <td>1664263</td>\n",
       "      <td>99.64</td>\n",
       "      <td>float16</td>\n",
       "    </tr>\n",
       "    <tr>\n",
       "      <th>RATE_INTEREST_PRIVILEGED</th>\n",
       "      <td>1664263</td>\n",
       "      <td>99.64</td>\n",
       "      <td>float16</td>\n",
       "    </tr>\n",
       "    <tr>\n",
       "      <th>RATE_DOWN_PAYMENT</th>\n",
       "      <td>895844</td>\n",
       "      <td>53.64</td>\n",
       "      <td>float16</td>\n",
       "    </tr>\n",
       "    <tr>\n",
       "      <th>AMT_DOWN_PAYMENT</th>\n",
       "      <td>895844</td>\n",
       "      <td>53.64</td>\n",
       "      <td>float32</td>\n",
       "    </tr>\n",
       "    <tr>\n",
       "      <th>NAME_TYPE_SUITE</th>\n",
       "      <td>820405</td>\n",
       "      <td>49.12</td>\n",
       "      <td>object</td>\n",
       "    </tr>\n",
       "    <tr>\n",
       "      <th>DAYS_LAST_DUE</th>\n",
       "      <td>673065</td>\n",
       "      <td>40.30</td>\n",
       "      <td>float32</td>\n",
       "    </tr>\n",
       "    <tr>\n",
       "      <th>DAYS_FIRST_DUE</th>\n",
       "      <td>673065</td>\n",
       "      <td>40.30</td>\n",
       "      <td>float32</td>\n",
       "    </tr>\n",
       "    <tr>\n",
       "      <th>DAYS_FIRST_DRAWING</th>\n",
       "      <td>673065</td>\n",
       "      <td>40.30</td>\n",
       "      <td>float32</td>\n",
       "    </tr>\n",
       "    <tr>\n",
       "      <th>NFLAG_INSURED_ON_APPROVAL</th>\n",
       "      <td>673065</td>\n",
       "      <td>40.30</td>\n",
       "      <td>float16</td>\n",
       "    </tr>\n",
       "    <tr>\n",
       "      <th>AMT_ANNUITY</th>\n",
       "      <td>372235</td>\n",
       "      <td>22.29</td>\n",
       "      <td>float32</td>\n",
       "    </tr>\n",
       "    <tr>\n",
       "      <th>CNT_PAYMENT</th>\n",
       "      <td>372230</td>\n",
       "      <td>22.29</td>\n",
       "      <td>float16</td>\n",
       "    </tr>\n",
       "    <tr>\n",
       "      <th>PRODUCT_COMBINATION</th>\n",
       "      <td>346</td>\n",
       "      <td>0.02</td>\n",
       "      <td>object</td>\n",
       "    </tr>\n",
       "  </tbody>\n",
       "</table>\n",
       "</div>"
      ],
      "text/plain": [
       "                           NumberMissing  PercentageMissing DataType\n",
       "RATE_INTEREST_PRIMARY            1664263              99.64  float16\n",
       "RATE_INTEREST_PRIVILEGED         1664263              99.64  float16\n",
       "RATE_DOWN_PAYMENT                 895844              53.64  float16\n",
       "AMT_DOWN_PAYMENT                  895844              53.64  float32\n",
       "NAME_TYPE_SUITE                   820405              49.12   object\n",
       "DAYS_LAST_DUE                     673065              40.30  float32\n",
       "DAYS_FIRST_DUE                    673065              40.30  float32\n",
       "DAYS_FIRST_DRAWING                673065              40.30  float32\n",
       "NFLAG_INSURED_ON_APPROVAL         673065              40.30  float16\n",
       "AMT_ANNUITY                       372235              22.29  float32\n",
       "CNT_PAYMENT                       372230              22.29  float16\n",
       "PRODUCT_COMBINATION                  346               0.02   object"
      ]
     },
     "execution_count": 34,
     "metadata": {},
     "output_type": "execute_result"
    }
   ],
   "source": [
    "functions.MissingValues(previous_apps)"
   ]
  },
  {
   "cell_type": "markdown",
   "metadata": {},
   "source": [
    "## **Drop Features (More than 50% Missing)**"
   ]
  },
  {
   "cell_type": "code",
   "execution_count": 44,
   "metadata": {},
   "outputs": [],
   "source": [
    "columns = ['RATE_INTEREST_PRIMARY', 'RATE_INTEREST_PRIVILEGED', 'RATE_DOWN_PAYMENT', 'AMT_DOWN_PAYMENT']\n",
    "previous_apps = previous_apps.drop(columns, axis=1)"
   ]
  },
  {
   "cell_type": "code",
   "execution_count": 47,
   "metadata": {},
   "outputs": [],
   "source": [
    "num_value = -99999\n",
    "\n",
    "for col in previous_apps.select_dtypes(include=['float16', 'float32', 'float64']).columns:\n",
    "    previous_apps[col].fillna(num_value, inplace=True)"
   ]
  },
  {
   "cell_type": "code",
   "execution_count": 45,
   "metadata": {},
   "outputs": [],
   "source": [
    "num_value = -99999\n",
    "\n",
    "for col in app_train.select_dtypes(include=['float16', 'float32', 'float64']).columns:\n",
    "    app_train[col].fillna(num_value, inplace=True)"
   ]
  },
  {
   "cell_type": "code",
   "execution_count": 46,
   "metadata": {},
   "outputs": [],
   "source": [
    "cat_value = 'UNKNOWN'\n",
    "\n",
    "for col in previous_apps.select_dtypes(include=['object']).columns:\n",
    "    previous_apps[col].fillna(cat_value, inplace=True)"
   ]
  },
  {
   "cell_type": "code",
   "execution_count": 48,
   "metadata": {},
   "outputs": [],
   "source": [
    "cat_value = 'UNKNOWN'\n",
    "\n",
    "for col in app_train.select_dtypes(include=['object']).columns:\n",
    "    app_train[col].fillna(cat_value, inplace=True)"
   ]
  },
  {
   "cell_type": "markdown",
   "metadata": {},
   "source": [
    "## **Aggregation**"
   ]
  },
  {
   "cell_type": "code",
   "execution_count": 71,
   "metadata": {},
   "outputs": [
    {
     "data": {
      "text/html": [
       "<div>\n",
       "<style scoped>\n",
       "    .dataframe tbody tr th:only-of-type {\n",
       "        vertical-align: middle;\n",
       "    }\n",
       "\n",
       "    .dataframe tbody tr th {\n",
       "        vertical-align: top;\n",
       "    }\n",
       "\n",
       "    .dataframe thead th {\n",
       "        text-align: right;\n",
       "    }\n",
       "</style>\n",
       "<table border=\"1\" class=\"dataframe\">\n",
       "  <thead>\n",
       "    <tr style=\"text-align: right;\">\n",
       "      <th></th>\n",
       "      <th>SK_ID_CURR</th>\n",
       "      <th>NUM_PREVIOUS_APPLICATIONS</th>\n",
       "      <th>AVG_ANNUITY_AMOUNT</th>\n",
       "      <th>AVG_DAYS_DECISION</th>\n",
       "      <th>MAX_DAYS_DECISION</th>\n",
       "      <th>MIN_DAYS_DECISION</th>\n",
       "      <th>SUM_CNT_PAYMENT</th>\n",
       "      <th>RANGE_DAYS_FIRST_DUE</th>\n",
       "      <th>RANGE_DAYS_LAST_DUE</th>\n",
       "    </tr>\n",
       "  </thead>\n",
       "  <tbody>\n",
       "    <tr>\n",
       "      <th>0</th>\n",
       "      <td>100001</td>\n",
       "      <td>1</td>\n",
       "      <td>3951.000000</td>\n",
       "      <td>-1740.0</td>\n",
       "      <td>-1740</td>\n",
       "      <td>-1740</td>\n",
       "      <td>8.0</td>\n",
       "      <td>0.0</td>\n",
       "      <td>0.0</td>\n",
       "    </tr>\n",
       "    <tr>\n",
       "      <th>1</th>\n",
       "      <td>100002</td>\n",
       "      <td>1</td>\n",
       "      <td>9251.775391</td>\n",
       "      <td>-606.0</td>\n",
       "      <td>-606</td>\n",
       "      <td>-606</td>\n",
       "      <td>24.0</td>\n",
       "      <td>0.0</td>\n",
       "      <td>0.0</td>\n",
       "    </tr>\n",
       "    <tr>\n",
       "      <th>2</th>\n",
       "      <td>100003</td>\n",
       "      <td>3</td>\n",
       "      <td>56553.988281</td>\n",
       "      <td>-1305.0</td>\n",
       "      <td>-746</td>\n",
       "      <td>-2341</td>\n",
       "      <td>30.0</td>\n",
       "      <td>1594.0</td>\n",
       "      <td>1444.0</td>\n",
       "    </tr>\n",
       "    <tr>\n",
       "      <th>3</th>\n",
       "      <td>100004</td>\n",
       "      <td>1</td>\n",
       "      <td>5357.250000</td>\n",
       "      <td>-815.0</td>\n",
       "      <td>-815</td>\n",
       "      <td>-815</td>\n",
       "      <td>4.0</td>\n",
       "      <td>0.0</td>\n",
       "      <td>0.0</td>\n",
       "    </tr>\n",
       "    <tr>\n",
       "      <th>4</th>\n",
       "      <td>100005</td>\n",
       "      <td>2</td>\n",
       "      <td>-47592.898438</td>\n",
       "      <td>-536.0</td>\n",
       "      <td>-315</td>\n",
       "      <td>-757</td>\n",
       "      <td>-inf</td>\n",
       "      <td>99293.0</td>\n",
       "      <td>99533.0</td>\n",
       "    </tr>\n",
       "  </tbody>\n",
       "</table>\n",
       "</div>"
      ],
      "text/plain": [
       "   SK_ID_CURR  NUM_PREVIOUS_APPLICATIONS  AVG_ANNUITY_AMOUNT  \\\n",
       "0      100001                          1         3951.000000   \n",
       "1      100002                          1         9251.775391   \n",
       "2      100003                          3        56553.988281   \n",
       "3      100004                          1         5357.250000   \n",
       "4      100005                          2       -47592.898438   \n",
       "\n",
       "   AVG_DAYS_DECISION  MAX_DAYS_DECISION  MIN_DAYS_DECISION  SUM_CNT_PAYMENT  \\\n",
       "0            -1740.0              -1740              -1740              8.0   \n",
       "1             -606.0               -606               -606             24.0   \n",
       "2            -1305.0               -746              -2341             30.0   \n",
       "3             -815.0               -815               -815              4.0   \n",
       "4             -536.0               -315               -757             -inf   \n",
       "\n",
       "   RANGE_DAYS_FIRST_DUE  RANGE_DAYS_LAST_DUE  \n",
       "0                   0.0                  0.0  \n",
       "1                   0.0                  0.0  \n",
       "2                1594.0               1444.0  \n",
       "3                   0.0                  0.0  \n",
       "4               99293.0              99533.0  "
      ]
     },
     "execution_count": 71,
     "metadata": {},
     "output_type": "execute_result"
    }
   ],
   "source": [
    "aggregated_previous_app = previous_apps.groupby('SK_ID_CURR').agg({\n",
    "    'SK_ID_PREV': 'count',  \n",
    "    'AMT_ANNUITY': 'mean',    \n",
    "    'DAYS_DECISION': ['mean', 'max', 'min'],  \n",
    "    'CNT_PAYMENT': ['sum'],\n",
    "    'DAYS_FIRST_DUE': lambda x: x.max() - x.min(),\n",
    "    'DAYS_LAST_DUE': lambda x: x.max() - x.min()\n",
    "}).reset_index()\n",
    "\n",
    "# Flatten multi-level columns generated by the aggregations\n",
    "aggregated_previous_app.columns = ['_'.join(col).strip() if type(col) is tuple else col for col in aggregated_previous_app.columns]\n",
    "\n",
    "aggregated_previous_app = aggregated_previous_app.rename(columns={\n",
    "    'SK_ID_CURR_': 'SK_ID_CURR', \n",
    "    'SK_ID_PREV_count': 'NUM_PREVIOUS_APPLICATIONS',\n",
    "    'AMT_ANNUITY_mean': 'AVG_ANNUITY_AMOUNT',\n",
    "    'DAYS_DECISION_mean': 'AVG_DAYS_DECISION',\n",
    "    'DAYS_DECISION_max': 'MAX_DAYS_DECISION',\n",
    "    'DAYS_DECISION_min': 'MIN_DAYS_DECISION',\n",
    "    'CNT_PAYMENT_sum': 'SUM_CNT_PAYMENT',\n",
    "    'DAYS_FIRST_DUE_<lambda>': 'RANGE_DAYS_FIRST_DUE',\n",
    "    'DAYS_LAST_DUE_<lambda>': 'RANGE_DAYS_LAST_DUE',\n",
    "})\n",
    "\n",
    "aggregated_previous_app.head()"
   ]
  },
  {
   "cell_type": "markdown",
   "metadata": {},
   "source": [
    "## **Merge Application Train and Previous Application Data**"
   ]
  },
  {
   "cell_type": "code",
   "execution_count": 72,
   "metadata": {},
   "outputs": [],
   "source": [
    "data = aggregated_previous_app.merge(app_train[['SK_ID_CURR', 'TARGET']], on='SK_ID_CURR', how='inner')"
   ]
  },
  {
   "cell_type": "markdown",
   "metadata": {},
   "source": [
    "## **Train Test Split**"
   ]
  },
  {
   "cell_type": "code",
   "execution_count": 73,
   "metadata": {},
   "outputs": [],
   "source": [
    "X = data.drop('TARGET', axis=1)\n",
    "y = data['TARGET']\n",
    "\n",
    "X, y = shuffle(X, y, random_state=random_state)\n",
    "X_train, X_test, y_train, y_test = train_test_split(X, y, test_size=0.2, stratify=y, random_state=random_state)"
   ]
  },
  {
   "cell_type": "markdown",
   "metadata": {},
   "source": [
    "### **LGBM**"
   ]
  },
  {
   "cell_type": "code",
   "execution_count": 74,
   "metadata": {},
   "outputs": [
    {
     "name": "stdout",
     "output_type": "stream",
     "text": [
      "AUC Score: 0.61\n"
     ]
    }
   ],
   "source": [
    "model = lgb.LGBMClassifier(boosting_type='gbdt', \n",
    "                           num_leaves=31, \n",
    "                           max_depth=-1, \n",
    "                           learning_rate=0.1, \n",
    "                           n_estimators=100,\n",
    "                           verbose=-1)\n",
    "\n",
    "model.fit(X_train, y_train)\n",
    "\n",
    "y_prob = model.predict_proba(X_test)[:, 1]  \n",
    "\n",
    "auc_score = roc_auc_score(y_test, y_prob)\n",
    "print(f\"AUC Score: {auc_score:.2f}\")"
   ]
  },
  {
   "cell_type": "markdown",
   "metadata": {},
   "source": [
    "## **Feature Importance**"
   ]
  },
  {
   "cell_type": "code",
   "execution_count": 75,
   "metadata": {},
   "outputs": [
    {
     "data": {
      "text/html": [
       "<div>\n",
       "<style scoped>\n",
       "    .dataframe tbody tr th:only-of-type {\n",
       "        vertical-align: middle;\n",
       "    }\n",
       "\n",
       "    .dataframe tbody tr th {\n",
       "        vertical-align: top;\n",
       "    }\n",
       "\n",
       "    .dataframe thead th {\n",
       "        text-align: right;\n",
       "    }\n",
       "</style>\n",
       "<table border=\"1\" class=\"dataframe\">\n",
       "  <thead>\n",
       "    <tr style=\"text-align: right;\">\n",
       "      <th></th>\n",
       "      <th>Feature</th>\n",
       "      <th>Importance</th>\n",
       "    </tr>\n",
       "  </thead>\n",
       "  <tbody>\n",
       "    <tr>\n",
       "      <th>2</th>\n",
       "      <td>AVG_ANNUITY_AMOUNT</td>\n",
       "      <td>475</td>\n",
       "    </tr>\n",
       "    <tr>\n",
       "      <th>0</th>\n",
       "      <td>SK_ID_CURR</td>\n",
       "      <td>430</td>\n",
       "    </tr>\n",
       "    <tr>\n",
       "      <th>4</th>\n",
       "      <td>MAX_DAYS_DECISION</td>\n",
       "      <td>387</td>\n",
       "    </tr>\n",
       "    <tr>\n",
       "      <th>5</th>\n",
       "      <td>MIN_DAYS_DECISION</td>\n",
       "      <td>373</td>\n",
       "    </tr>\n",
       "    <tr>\n",
       "      <th>3</th>\n",
       "      <td>AVG_DAYS_DECISION</td>\n",
       "      <td>328</td>\n",
       "    </tr>\n",
       "    <tr>\n",
       "      <th>7</th>\n",
       "      <td>RANGE_DAYS_FIRST_DUE</td>\n",
       "      <td>294</td>\n",
       "    </tr>\n",
       "    <tr>\n",
       "      <th>6</th>\n",
       "      <td>SUM_CNT_PAYMENT</td>\n",
       "      <td>259</td>\n",
       "    </tr>\n",
       "    <tr>\n",
       "      <th>8</th>\n",
       "      <td>RANGE_DAYS_LAST_DUE</td>\n",
       "      <td>250</td>\n",
       "    </tr>\n",
       "    <tr>\n",
       "      <th>1</th>\n",
       "      <td>NUM_PREVIOUS_APPLICATIONS</td>\n",
       "      <td>204</td>\n",
       "    </tr>\n",
       "  </tbody>\n",
       "</table>\n",
       "</div>"
      ],
      "text/plain": [
       "                     Feature  Importance\n",
       "2         AVG_ANNUITY_AMOUNT         475\n",
       "0                 SK_ID_CURR         430\n",
       "4          MAX_DAYS_DECISION         387\n",
       "5          MIN_DAYS_DECISION         373\n",
       "3          AVG_DAYS_DECISION         328\n",
       "7       RANGE_DAYS_FIRST_DUE         294\n",
       "6            SUM_CNT_PAYMENT         259\n",
       "8        RANGE_DAYS_LAST_DUE         250\n",
       "1  NUM_PREVIOUS_APPLICATIONS         204"
      ]
     },
     "execution_count": 75,
     "metadata": {},
     "output_type": "execute_result"
    }
   ],
   "source": [
    "feature_importance = model.feature_importances_\n",
    "feature_names = X.columns\n",
    "\n",
    "importance_df = pd.DataFrame({'Feature': feature_names, 'Importance': feature_importance})\n",
    "importance_df = importance_df.sort_values(by='Importance', ascending=False)\n",
    "\n",
    "importance_df"
   ]
  }
 ],
 "metadata": {
  "kernelspec": {
   "display_name": "riskvenv",
   "language": "python",
   "name": "python3"
  },
  "language_info": {
   "codemirror_mode": {
    "name": "ipython",
    "version": 3
   },
   "file_extension": ".py",
   "mimetype": "text/x-python",
   "name": "python",
   "nbconvert_exporter": "python",
   "pygments_lexer": "ipython3",
   "version": "3.10.1"
  }
 },
 "nbformat": 4,
 "nbformat_minor": 2
}
