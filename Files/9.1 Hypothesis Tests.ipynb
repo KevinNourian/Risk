{
 "cells": [
  {
   "cell_type": "markdown",
   "metadata": {},
   "source": [
    "# <center> **Home Credit Default Risk Assessment**\n",
    "# <center> **Hypothesis Tests**"
   ]
  },
  {
   "cell_type": "markdown",
   "metadata": {},
   "source": [
    "# **Introduction**"
   ]
  },
  {
   "cell_type": "markdown",
   "metadata": {},
   "source": [
    "In this part of the project, I conduct three important hypothesis tests."
   ]
  },
  {
   "cell_type": "markdown",
   "metadata": {},
   "source": [
    "# **Libraries**"
   ]
  },
  {
   "cell_type": "code",
   "execution_count": 1,
   "metadata": {},
   "outputs": [],
   "source": [
    "import pandas as pd\n",
    "import numpy as np\n",
    "\n",
    "import functions\n",
    "import importlib\n",
    "importlib.reload(functions)\n",
    "\n",
    "from scipy.stats import chi2_contingency\n",
    "from scipy.stats import ttest_ind\n",
    "from statsmodels.stats.proportion import proportions_ztest\n",
    "\n",
    "import warnings"
   ]
  },
  {
   "cell_type": "markdown",
   "metadata": {},
   "source": [
    "# **Display**"
   ]
  },
  {
   "cell_type": "code",
   "execution_count": 2,
   "metadata": {},
   "outputs": [],
   "source": [
    "%matplotlib inline\n",
    "\n",
    "pd.options.display.max_rows = 300000\n",
    "pd.options.display.max_columns = 999\n",
    "pd.options.display.max_colwidth = 500\n",
    "\n",
    "warnings.filterwarnings(\"ignore\")\n",
    "warnings.simplefilter(action=\"ignore\", category=FutureWarning)\n",
    "\n",
    "pd.set_option('display.max_rows', 200)\n",
    "\n",
    "size = 20"
   ]
  },
  {
   "cell_type": "markdown",
   "metadata": {},
   "source": [
    "# **Data**"
   ]
  },
  {
   "cell_type": "markdown",
   "metadata": {},
   "source": [
    "## **Load Data**"
   ]
  },
  {
   "cell_type": "code",
   "execution_count": 3,
   "metadata": {},
   "outputs": [],
   "source": [
    "train = pd.read_csv(\n",
    "    r\"C:\\Users\\Dell\\Documents\\AI\\Risk\\Data\\application_train.csv\",\n",
    "    index_col=False\n",
    ")"
   ]
  },
  {
   "cell_type": "markdown",
   "metadata": {},
   "source": [
    "## **Reduce Memory Usage**"
   ]
  },
  {
   "cell_type": "markdown",
   "metadata": {},
   "source": [
    "Changing datatypes to a lower level to save on system resources."
   ]
  },
  {
   "cell_type": "code",
   "execution_count": 4,
   "metadata": {},
   "outputs": [
    {
     "name": "stdout",
     "output_type": "stream",
     "text": [
      "Memory usage of dataframe is 286.23 MB\n",
      "Memory usage after optimization is: 92.38 MB\n",
      "Decreased by 67.7%\n"
     ]
    }
   ],
   "source": [
    "train = functions.reduce_memory_usage(train)"
   ]
  },
  {
   "cell_type": "markdown",
   "metadata": {},
   "source": [
    "# **Hypothesis Tests**"
   ]
  },
  {
   "cell_type": "markdown",
   "metadata": {},
   "source": [
    "Three hypothesis tests using the data from the main application_train table. "
   ]
  },
  {
   "cell_type": "markdown",
   "metadata": {},
   "source": [
    "## **Income Stability and Default Rate (Chi-Square Test)**"
   ]
  },
  {
   "cell_type": "markdown",
   "metadata": {},
   "source": [
    "**Null**: There is no relationship between income type and the default rate. <BR>\n",
    "**Alternative**: There is a significant relationship between income type and default rate. <BR>\n",
    "**Chi-Square Test**: The chi-square test can be applied to examine whether the proportion of defaults differs across income groups."
   ]
  },
  {
   "cell_type": "code",
   "execution_count": 6,
   "metadata": {},
   "outputs": [
    {
     "name": "stdout",
     "output_type": "stream",
     "text": [
      "Chi-Square Statistic: 1253.4708080924986\n",
      "p-value: 1.9281456056861122e-266\n",
      "Degrees of Freedom: 7\n",
      "Reject the null hypothesis: There is a significant relationship between income type and default rate.\n"
     ]
    }
   ],
   "source": [
    "data = train\n",
    "\n",
    "\n",
    "contingency_table = pd.crosstab(data['NAME_INCOME_TYPE'], data['TARGET'])\n",
    "\n",
    "chi2, p_value, dof, expected = chi2_contingency(contingency_table)\n",
    "\n",
    "print(\"Chi-Square Statistic:\", chi2)\n",
    "print(\"p-value:\", p_value)\n",
    "print(\"Degrees of Freedom:\", dof)\n",
    "\n",
    "alpha = 0.05  \n",
    "if p_value < alpha:\n",
    "    print(\"Reject the null hypothesis: There is a significant relationship between income type and default rate.\")\n",
    "else:\n",
    "    print(\"Fail to reject the null hypothesis: No significant relationship between income type and default rate.\")"
   ]
  },
  {
   "cell_type": "markdown",
   "metadata": {},
   "source": [
    "## **Credit Amount and Default Risk (T-test)**"
   ]
  },
  {
   "cell_type": "markdown",
   "metadata": {},
   "source": [
    "**Null**: The average credit amount is the same for those who default and those who do not. <BR>\n",
    "**Alternative**: The average credit amount differs between defaulters and non-defaulters. <BR>\n",
    "**Two-Sample T-Test**: Two-sample t-test can be applied to compare the means between the two groups (defaulters vs. non-defaulters)."
   ]
  },
  {
   "cell_type": "code",
   "execution_count": 7,
   "metadata": {},
   "outputs": [
    {
     "name": "stdout",
     "output_type": "stream",
     "text": [
      "T-Statistic: -19.273200010157254\n",
      "p-value: 2.7206132011522836e-82\n",
      "Reject the null hypothesis: There is a significant difference in credit amount between defaulters and non-defaulters.\n"
     ]
    }
   ],
   "source": [
    "data = train\n",
    "default_group = data[data['TARGET'] == 1]['AMT_CREDIT']  \n",
    "non_default_group = data[data['TARGET'] == 0]['AMT_CREDIT']  \n",
    "\n",
    "\n",
    "t_stat, p_value = ttest_ind(default_group, non_default_group, equal_var=False)  \n",
    "\n",
    "\n",
    "print(\"T-Statistic:\", t_stat)\n",
    "print(\"p-value:\", p_value)\n",
    "\n",
    "\n",
    "alpha = 0.05 \n",
    "if p_value < alpha:\n",
    "    print(\"Reject the null hypothesis: There is a significant difference in credit amount between defaulters and non-defaulters.\")\n",
    "else:\n",
    "    print(\"Fail to reject the null hypothesis: No significant difference in credit amount between defaulters and non-defaulters.\")\n"
   ]
  },
  {
   "cell_type": "markdown",
   "metadata": {},
   "source": [
    "## **Car Ownership and Loan Default (Two-Proportion Z-Test)** "
   ]
  },
  {
   "cell_type": "markdown",
   "metadata": {},
   "source": [
    "**Null**: Car ownership is the same between defaulters and non-defaulters.<BR>\n",
    "**Alternative**: Car ownership differs between defaulters and non-defaulters.<BR> \n",
    "**Two-Proportion Z-Test**: The Two-Proportion Z-Test is used to determine whether there is a significant difference between the proportions of two independent groups. "
   ]
  },
  {
   "cell_type": "code",
   "execution_count": 6,
   "metadata": {},
   "outputs": [
    {
     "name": "stdout",
     "output_type": "stream",
     "text": [
      "Proportion of clients who owned a car and defaulted 0.072\n",
      "Proportion of clients who didn't own a car and defaulted 0.085\n",
      "The p-value is: 0.00\n",
      "Reject the null hypothesis: There is a significant difference in car ownerhip between defaulters and non-defaulters.\n"
     ]
    }
   ],
   "source": [
    "feature = 'FLAG_OWN_CAR'\n",
    "target = 'TARGET'\n",
    "\n",
    "own_car = train.loc[train[feature] == 'Y']\n",
    "count_own_car = own_car.shape[0]\n",
    "count_own_car_default = (own_car[target] == 1).sum()\n",
    "prop_own_car_default = count_own_car_default / count_own_car \n",
    "print(\n",
    "    f\"Proportion of clients who owned a car and defaulted {prop_own_car_default:.3f}\"\n",
    ")\n",
    "\n",
    "no_car = train.loc[train[feature] == 'N']\n",
    "count_no_car = no_car.shape[0]\n",
    "count_no_car_default = (no_car[target] == 1).sum()\n",
    "prop_no_car_default = count_no_car_default / count_no_car\n",
    "\n",
    "print(f\"Proportion of clients who didn't own a car and defaulted {prop_no_car_default:.3f}\")\n",
    "\n",
    "numerator = np.array([count_own_car_default, count_no_car_default])\n",
    "denominator = np.array([count_own_car, count_no_car])\n",
    "denominator = np.array([count_own_car, count_no_car])\n",
    "\n",
    "\n",
    "stat, pval = proportions_ztest(numerator, denominator, alternative=\"two-sided\")\n",
    "\n",
    "print(f\"The p-value is: {pval:.2f}\")\n",
    "\n",
    "if pval< 0.05:\n",
    "    print(\"Reject the null hypothesis: There is a significant difference in car ownerhip between defaulters and non-defaulters.\")\n",
    "else:\n",
    "    print(\"Fail to reject the null hypothesis: No significant difference in car ownership between defaulters and non-defaulters.\")\n"
   ]
  },
  {
   "cell_type": "code",
   "execution_count": 9,
   "metadata": {},
   "outputs": [
    {
     "name": "stdout",
     "output_type": "stream",
     "text": [
      "Proportion of clients who owned a car and defaulted: 0.072\n",
      "95% Confidence Interval for car owners who defaulted: (0.071, 0.074)\n",
      "Proportion of clients who didn't own a car and defaulted: 0.085\n",
      "95% Confidence Interval for non-car owners who defaulted: (0.084, 0.086)\n",
      "The p-value is: 0.00\n",
      "Reject the null hypothesis: There is a significant difference in car ownership between defaulters and non-defaulters.\n"
     ]
    }
   ],
   "source": [
    "import numpy as np\n",
    "from statsmodels.stats.proportion import proportions_ztest\n",
    "from scipy.stats import norm\n",
    "\n",
    "feature = 'FLAG_OWN_CAR'\n",
    "target = 'TARGET'\n",
    "\n",
    "# Proportion of car owners who defaulted\n",
    "own_car = train.loc[train[feature] == 'Y']\n",
    "count_own_car = own_car.shape[0]\n",
    "count_own_car_default = (own_car[target] == 1).sum()\n",
    "prop_own_car_default = count_own_car_default / count_own_car\n",
    "\n",
    "# Calculate confidence interval for car owners who defaulted\n",
    "z = norm.ppf(0.975)  # z-score for 95% confidence level\n",
    "se_own_car = np.sqrt(prop_own_car_default * (1 - prop_own_car_default) / count_own_car)\n",
    "ci_own_car = (float(round(prop_own_car_default - z * se_own_car, 3)), \n",
    "              float(round(prop_own_car_default + z * se_own_car, 3)))\n",
    "\n",
    "print(f\"Proportion of clients who owned a car and defaulted: {prop_own_car_default:.3f}\")\n",
    "print(f\"95% Confidence Interval for car owners who defaulted: {ci_own_car}\")\n",
    "\n",
    "# Proportion of non-car owners who defaulted\n",
    "no_car = train.loc[train[feature] == 'N']\n",
    "count_no_car = no_car.shape[0]\n",
    "count_no_car_default = (no_car[target] == 1).sum()\n",
    "prop_no_car_default = count_no_car_default / count_no_car\n",
    "\n",
    "# Calculate confidence interval for non-car owners who defaulted\n",
    "se_no_car = np.sqrt(prop_no_car_default * (1 - prop_no_car_default) / count_no_car)\n",
    "ci_no_car = (float(round(prop_no_car_default - z * se_no_car, 3)), \n",
    "             float(round(prop_no_car_default + z * se_no_car, 3)))\n",
    "\n",
    "print(f\"Proportion of clients who didn't own a car and defaulted: {prop_no_car_default:.3f}\")\n",
    "print(f\"95% Confidence Interval for non-car owners who defaulted: {ci_no_car}\")\n",
    "\n",
    "# Perform the z-test for proportions\n",
    "numerator = np.array([count_own_car_default, count_no_car_default])\n",
    "denominator = np.array([count_own_car, count_no_car])\n",
    "\n",
    "stat, pval = proportions_ztest(numerator, denominator, alternative=\"two-sided\")\n",
    "\n",
    "print(f\"The p-value is: {pval:.2f}\")\n",
    "\n",
    "if pval < 0.05:\n",
    "    print(\"Reject the null hypothesis: There is a significant difference in car ownership between defaulters and non-defaulters.\")\n",
    "else:\n",
    "    print(\"Fail to reject the null hypothesis: No significant difference in car ownership between defaulters and non-defaulters.\")\n"
   ]
  },
  {
   "cell_type": "markdown",
   "metadata": {},
   "source": [
    "# **Summary**"
   ]
  },
  {
   "cell_type": "markdown",
   "metadata": {},
   "source": [
    "> * **Hypothesis Test #1** — There is a significant relationship between income stability as related to income type and default rate. \n",
    "> * **Hypothesis Test #2** — There is a significant difference in credit amount between defaulters and non-defaulters. \n",
    "> * **Hypothesis Test #3** — There is a significant difference between defaulters and non-defaulters with respect to car ownership. "
   ]
  }
 ],
 "metadata": {
  "kernelspec": {
   "display_name": "riskvenv",
   "language": "python",
   "name": "python3"
  },
  "language_info": {
   "codemirror_mode": {
    "name": "ipython",
    "version": 3
   },
   "file_extension": ".py",
   "mimetype": "text/x-python",
   "name": "python",
   "nbconvert_exporter": "python",
   "pygments_lexer": "ipython3",
   "version": "3.10.1"
  }
 },
 "nbformat": 4,
 "nbformat_minor": 2
}
