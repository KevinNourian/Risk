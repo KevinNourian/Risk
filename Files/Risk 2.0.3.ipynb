{
 "cells": [
  {
   "cell_type": "markdown",
   "metadata": {},
   "source": [
    "# **Libraries**"
   ]
  },
  {
   "cell_type": "code",
   "execution_count": 1,
   "metadata": {},
   "outputs": [],
   "source": [
    "import pandas as pd\n",
    "import numpy as np\n",
    "\n",
    "from feature_engine.imputation import AddMissingIndicator\n",
    "from feature_engine.imputation import RandomSampleImputer\n",
    "from feature_engine.encoding import WoEEncoder\n",
    "\n",
    "import functions\n",
    "import importlib\n",
    "importlib.reload(functions)\n",
    "\n",
    "import warnings"
   ]
  },
  {
   "cell_type": "markdown",
   "metadata": {},
   "source": [
    "# **Display**"
   ]
  },
  {
   "cell_type": "code",
   "execution_count": 2,
   "metadata": {},
   "outputs": [],
   "source": [
    "%matplotlib inline\n",
    "\n",
    "pd.options.display.max_rows = 300000\n",
    "pd.options.display.max_columns = 999\n",
    "pd.options.display.max_colwidth = 500\n",
    "\n",
    "warnings.filterwarnings(\"ignore\")\n",
    "warnings.simplefilter(action=\"ignore\", category=FutureWarning)\n",
    "\n",
    "pd.set_option('display.max_rows', 200)\n",
    "\n",
    "size = 20"
   ]
  },
  {
   "cell_type": "markdown",
   "metadata": {},
   "source": [
    "# **Variables**"
   ]
  },
  {
   "cell_type": "code",
   "execution_count": 3,
   "metadata": {},
   "outputs": [],
   "source": [
    "random_state = 101\n",
    "target = 'TARGET'"
   ]
  },
  {
   "cell_type": "markdown",
   "metadata": {},
   "source": [
    "# **Data**"
   ]
  },
  {
   "cell_type": "markdown",
   "metadata": {},
   "source": [
    "## **Load Data**"
   ]
  },
  {
   "cell_type": "code",
   "execution_count": 4,
   "metadata": {},
   "outputs": [],
   "source": [
    "application_train = pd.read_csv(\n",
    "    r\"C:\\Users\\Dell\\Documents\\AI\\Risk\\Data\\application_train.csv\",\n",
    "    index_col=False\n",
    ")\n",
    "\n",
    "\n",
    "application_test = pd.read_csv(\n",
    "    r\"C:\\Users\\Dell\\Documents\\AI\\Risk\\Data\\application_test.csv\",\n",
    "    index_col=False\n",
    ")"
   ]
  },
  {
   "cell_type": "markdown",
   "metadata": {},
   "source": [
    "# **Combine Train and Test Data**"
   ]
  },
  {
   "cell_type": "code",
   "execution_count": 5,
   "metadata": {},
   "outputs": [],
   "source": [
    "data = pd.concat([application_train, application_test], axis=0).reset_index (drop=True)"
   ]
  },
  {
   "cell_type": "markdown",
   "metadata": {},
   "source": [
    "# **Data Cleaning**"
   ]
  },
  {
   "cell_type": "markdown",
   "metadata": {},
   "source": [
    "## **Removing Empty Features**"
   ]
  },
  {
   "cell_type": "code",
   "execution_count": 6,
   "metadata": {},
   "outputs": [
    {
     "name": "stdout",
     "output_type": "stream",
     "text": [
      "['FLAG_DOCUMENT_2', 'FLAG_DOCUMENT_10', 'FLAG_DOCUMENT_12', 'FLAG_DOCUMENT_13', 'FLAG_DOCUMENT_14', 'FLAG_DOCUMENT_15', 'FLAG_DOCUMENT_16', 'FLAG_DOCUMENT_17', 'FLAG_DOCUMENT_19', 'FLAG_DOCUMENT_20', 'FLAG_DOCUMENT_21']\n",
      "There are 11 columns with just 1 unique value\n"
     ]
    }
   ],
   "source": [
    "list_columns = functions.check_columns_with_one_uniquevalue(application_test)\n",
    "    \n",
    "print(list_columns)\n",
    "print(f\"There are {len(list_columns)} columns with just 1 unique value\")"
   ]
  },
  {
   "cell_type": "code",
   "execution_count": 7,
   "metadata": {},
   "outputs": [],
   "source": [
    "data = data.drop(list_columns, axis = 1)"
   ]
  },
  {
   "cell_type": "markdown",
   "metadata": {},
   "source": [
    "## **Reduce Memory Usage**"
   ]
  },
  {
   "cell_type": "code",
   "execution_count": 9,
   "metadata": {},
   "outputs": [
    {
     "name": "stdout",
     "output_type": "stream",
     "text": [
      "Memory usage of dataframe is 301.70 MB\n",
      "Memory usage after optimization is: 103.62 MB\n",
      "Decreased by 65.7%\n"
     ]
    }
   ],
   "source": [
    "data = functions.reduce_memory_usage(data)"
   ]
  },
  {
   "cell_type": "markdown",
   "metadata": {},
   "source": [
    "### **Correlation between each Feature and the Target Feature**"
   ]
  },
  {
   "cell_type": "code",
   "execution_count": 10,
   "metadata": {},
   "outputs": [
    {
     "data": {
      "text/plain": [
       "TARGET                          1.000000\n",
       "DAYS_BIRTH                      0.078239\n",
       "REGION_RATING_CLIENT_W_CITY     0.060893\n",
       "REGION_RATING_CLIENT            0.058899\n",
       "DAYS_LAST_PHONE_CHANGE          0.055219\n",
       "DAYS_ID_PUBLISH                 0.051457\n",
       "REG_CITY_NOT_WORK_CITY          0.050994\n",
       "FLAG_EMP_PHONE                  0.045982\n",
       "REG_CITY_NOT_LIVE_CITY          0.044395\n",
       "FLAG_DOCUMENT_3                 0.044346\n",
       "DAYS_REGISTRATION               0.041975\n",
       "OWN_CAR_AGE                     0.037612\n",
       "LIVE_CITY_NOT_WORK_CITY         0.032518\n",
       "DEF_30_CNT_SOCIAL_CIRCLE        0.032248\n",
       "DEF_60_CNT_SOCIAL_CIRCLE        0.031276\n",
       "FLAG_WORK_PHONE                 0.028524\n",
       "AMT_REQ_CREDIT_BUREAU_YEAR      0.019930\n",
       "CNT_CHILDREN                    0.019187\n",
       "CNT_FAM_MEMBERS                 0.009308\n",
       "OBS_30_CNT_SOCIAL_CIRCLE        0.009131\n",
       "OBS_60_CNT_SOCIAL_CIRCLE        0.009022\n",
       "REG_REGION_NOT_WORK_REGION      0.006942\n",
       "REG_REGION_NOT_LIVE_REGION      0.005576\n",
       "LIVE_REGION_NOT_WORK_REGION     0.002819\n",
       "AMT_REQ_CREDIT_BUREAU_DAY       0.002704\n",
       "AMT_REQ_CREDIT_BUREAU_HOUR      0.000930\n",
       "AMT_REQ_CREDIT_BUREAU_WEEK      0.000788\n",
       "FLAG_MOBIL                      0.000534\n",
       "FLAG_CONT_MOBILE                0.000370\n",
       "FLAG_DOCUMENT_5                -0.000316\n",
       "FLAG_DOCUMENT_7                -0.001520\n",
       "NONLIVINGAPARTMENTS_MODE       -0.001557\n",
       "FLAG_EMAIL                     -0.001758\n",
       "AMT_REQ_CREDIT_BUREAU_QRT      -0.002022\n",
       "SK_ID_CURR                     -0.002108\n",
       "FLAG_DOCUMENT_4                -0.002672\n",
       "NONLIVINGAPARTMENTS_MEDI       -0.002756\n",
       "NONLIVINGAPARTMENTS_AVG        -0.003176\n",
       "AMT_INCOME_TOTAL               -0.003982\n",
       "FLAG_DOCUMENT_11               -0.004229\n",
       "FLAG_DOCUMENT_9                -0.004352\n",
       "FLAG_DOCUMENT_18               -0.007952\n",
       "FLAG_DOCUMENT_8                -0.008040\n",
       "YEARS_BEGINEXPLUATATION_MODE   -0.009058\n",
       "YEARS_BEGINEXPLUATATION_AVG    -0.009752\n",
       "YEARS_BEGINEXPLUATATION_MEDI   -0.010015\n",
       "LANDAREA_MODE                  -0.010174\n",
       "LANDAREA_AVG                   -0.010884\n",
       "LANDAREA_MEDI                  -0.011255\n",
       "AMT_REQ_CREDIT_BUREAU_MON      -0.012462\n",
       "NONLIVINGAREA_MODE             -0.012710\n",
       "AMT_ANNUITY                    -0.012817\n",
       "NONLIVINGAREA_MEDI             -0.013336\n",
       "NONLIVINGAREA_AVG              -0.013579\n",
       "COMMONAREA_MODE                -0.016340\n",
       "ENTRANCES_MODE                 -0.017388\n",
       "COMMONAREA_AVG                 -0.018550\n",
       "COMMONAREA_MEDI                -0.018574\n",
       "ENTRANCES_MEDI                 -0.019026\n",
       "ENTRANCES_AVG                  -0.019173\n",
       "BASEMENTAREA_MODE              -0.019953\n",
       "YEARS_BUILD_MODE               -0.022073\n",
       "BASEMENTAREA_MEDI              -0.022081\n",
       "YEARS_BUILD_AVG                -0.022150\n",
       "YEARS_BUILD_MEDI               -0.022321\n",
       "BASEMENTAREA_AVG               -0.022746\n",
       "LIVINGAPARTMENTS_MODE          -0.023393\n",
       "FLAG_PHONE                     -0.023806\n",
       "HOUR_APPR_PROCESS_START        -0.024166\n",
       "LIVINGAPARTMENTS_MEDI          -0.024621\n",
       "LIVINGAPARTMENTS_AVG           -0.025030\n",
       "APARTMENTS_MODE                -0.027284\n",
       "FLAG_DOCUMENT_6                -0.028602\n",
       "APARTMENTS_MEDI                -0.029184\n",
       "APARTMENTS_AVG                 -0.029497\n",
       "AMT_CREDIT                     -0.030369\n",
       "LIVINGAREA_MODE                -0.030684\n",
       "ELEVATORS_MODE                 -0.032132\n",
       "TOTALAREA_MODE                 -0.032596\n",
       "FLOORSMIN_MODE                 -0.032699\n",
       "LIVINGAREA_MEDI                -0.032740\n",
       "LIVINGAREA_AVG                 -0.032998\n",
       "FLOORSMIN_MEDI                 -0.033396\n",
       "FLOORSMIN_AVG                  -0.033615\n",
       "ELEVATORS_MEDI                 -0.033863\n",
       "ELEVATORS_AVG                  -0.034199\n",
       "REGION_POPULATION_RELATIVE     -0.037231\n",
       "AMT_GOODS_PRICE                -0.039645\n",
       "FLOORSMAX_MODE                 -0.043228\n",
       "FLOORSMAX_MEDI                 -0.043769\n",
       "FLOORSMAX_AVG                  -0.044005\n",
       "DAYS_EMPLOYED                  -0.044932\n",
       "EXT_SOURCE_1                   -0.155318\n",
       "EXT_SOURCE_2                   -0.160471\n",
       "EXT_SOURCE_3                   -0.178918\n",
       "Name: TARGET, dtype: float64"
      ]
     },
     "execution_count": 10,
     "metadata": {},
     "output_type": "execute_result"
    }
   ],
   "source": [
    "corr_matrix = data.corr(numeric_only=True)\n",
    "corr_matrix[target].sort_values(ascending=False)"
   ]
  },
  {
   "cell_type": "markdown",
   "metadata": {},
   "source": [
    "# **Missing Values**"
   ]
  },
  {
   "cell_type": "code",
   "execution_count": null,
   "metadata": {},
   "outputs": [],
   "source": [
    "functions.MissingValues(data)"
   ]
  },
  {
   "cell_type": "markdown",
   "metadata": {},
   "source": [
    "## **External Source Features**"
   ]
  },
  {
   "cell_type": "code",
   "execution_count": null,
   "metadata": {},
   "outputs": [],
   "source": [
    "selected_columns = ['EXT_SOURCE_1', 'EXT_SOURCE_2', 'EXT_SOURCE_3']\n",
    "\n",
    "ext_source = data[selected_columns]\n",
    "data.drop(selected_columns, axis=1, inplace=True)"
   ]
  },
  {
   "cell_type": "markdown",
   "metadata": {},
   "source": [
    "### **Random Sample Imputer**"
   ]
  },
  {
   "cell_type": "code",
   "execution_count": 18,
   "metadata": {},
   "outputs": [],
   "source": [
    "rsi = RandomSampleImputer()\n",
    "rsi.fit(data)\n",
    "data = rsi.transform(data)"
   ]
  },
  {
   "cell_type": "markdown",
   "metadata": {},
   "source": [
    "### **Correlation between each Feature and the Target Feature**"
   ]
  },
  {
   "cell_type": "code",
   "execution_count": 19,
   "metadata": {},
   "outputs": [
    {
     "data": {
      "text/plain": [
       "TARGET                          1.000000\n",
       "DAYS_BIRTH                      0.067364\n",
       "REGION_RATING_CLIENT_W_CITY     0.051895\n",
       "REGION_RATING_CLIENT            0.050461\n",
       "DAYS_LAST_PHONE_CHANGE          0.047765\n",
       "DAYS_ID_PUBLISH                 0.045284\n",
       "REG_CITY_NOT_WORK_CITY          0.043265\n",
       "FLAG_DOCUMENT_3                 0.039890\n",
       "FLAG_EMP_PHONE                  0.039294\n",
       "REG_CITY_NOT_LIVE_CITY          0.038268\n",
       "DAYS_REGISTRATION               0.035678\n",
       "LIVE_CITY_NOT_WORK_CITY         0.027048\n",
       "DEF_30_CNT_SOCIAL_CIRCLE        0.026397\n",
       "DEF_60_CNT_SOCIAL_CIRCLE        0.025728\n",
       "FLAG_WORK_PHONE                 0.024067\n",
       "CNT_CHILDREN                    0.016634\n",
       "AMT_REQ_CREDIT_BUREAU_YEAR      0.014347\n",
       "OWN_CAR_AGE                     0.011270\n",
       "CNT_FAM_MEMBERS                 0.007942\n",
       "OBS_30_CNT_SOCIAL_CIRCLE        0.007108\n",
       "OBS_60_CNT_SOCIAL_CIRCLE        0.007025\n",
       "REG_REGION_NOT_WORK_REGION      0.006659\n",
       "REG_REGION_NOT_LIVE_REGION      0.006000\n",
       "LIVE_REGION_NOT_WORK_REGION     0.003075\n",
       "AMT_REQ_CREDIT_BUREAU_DAY       0.002054\n",
       "FLAG_MOBIL                      0.000702\n",
       "FLAG_CONT_MOBILE                0.000627\n",
       "AMT_REQ_CREDIT_BUREAU_WEEK      0.000276\n",
       "FLAG_DOCUMENT_5                 0.000256\n",
       "AMT_REQ_CREDIT_BUREAU_HOUR     -0.000261\n",
       "NONLIVINGAPARTMENTS_MEDI       -0.000391\n",
       "NONLIVINGAPARTMENTS_MODE       -0.001106\n",
       "FLAG_DOCUMENT_7                -0.001513\n",
       "FLAG_DOCUMENT_4                -0.001595\n",
       "NONLIVINGAREA_MODE             -0.001724\n",
       "FLAG_EMAIL                     -0.001750\n",
       "AMT_REQ_CREDIT_BUREAU_QRT      -0.001872\n",
       "SK_ID_CURR                     -0.002500\n",
       "NONLIVINGAPARTMENTS_AVG        -0.002811\n",
       "FLAG_DOCUMENT_9                -0.002835\n",
       "AMT_INCOME_TOTAL               -0.003471\n",
       "NONLIVINGAREA_AVG              -0.003480\n",
       "FLAG_DOCUMENT_11               -0.003585\n",
       "YEARS_BEGINEXPLUATATION_MODE   -0.003588\n",
       "LANDAREA_MEDI                  -0.003754\n",
       "LANDAREA_MODE                  -0.003775\n",
       "NONLIVINGAREA_MEDI             -0.003845\n",
       "LIVINGAPARTMENTS_MEDI          -0.004208\n",
       "LANDAREA_AVG                   -0.004451\n",
       "COMMONAREA_MODE                -0.004746\n",
       "COMMONAREA_MEDI                -0.004937\n",
       "COMMONAREA_AVG                 -0.005244\n",
       "LIVINGAPARTMENTS_AVG           -0.005301\n",
       "YEARS_BUILD_AVG                -0.005851\n",
       "BASEMENTAREA_MODE              -0.005923\n",
       "ENTRANCES_MEDI                 -0.005961\n",
       "YEARS_BUILD_MODE               -0.005994\n",
       "YEARS_BEGINEXPLUATATION_MEDI   -0.006084\n",
       "YEARS_BUILD_MEDI               -0.006613\n",
       "FLOORSMIN_MEDI                 -0.007009\n",
       "LIVINGAPARTMENTS_MODE          -0.007322\n",
       "YEARS_BEGINEXPLUATATION_AVG    -0.007348\n",
       "BASEMENTAREA_MEDI              -0.007453\n",
       "FLAG_DOCUMENT_18               -0.007520\n",
       "FLAG_DOCUMENT_8                -0.007597\n",
       "ENTRANCES_AVG                  -0.007811\n",
       "BASEMENTAREA_AVG               -0.008091\n",
       "ENTRANCES_MODE                 -0.008371\n",
       "FLOORSMIN_AVG                  -0.008843\n",
       "FLOORSMIN_MODE                 -0.009159\n",
       "AMT_ANNUITY                    -0.010399\n",
       "APARTMENTS_MODE                -0.010826\n",
       "AMT_REQ_CREDIT_BUREAU_MON      -0.010897\n",
       "ELEVATORS_MODE                 -0.012302\n",
       "APARTMENTS_MEDI                -0.012885\n",
       "APARTMENTS_AVG                 -0.012963\n",
       "ELEVATORS_AVG                  -0.013505\n",
       "ELEVATORS_MEDI                 -0.014477\n",
       "TOTALAREA_MODE                 -0.014835\n",
       "LIVINGAREA_MODE                -0.015022\n",
       "LIVINGAREA_AVG                 -0.015376\n",
       "LIVINGAREA_MEDI                -0.015568\n",
       "FLOORSMAX_MODE                 -0.017940\n",
       "FLOORSMAX_MEDI                 -0.018366\n",
       "FLOORSMAX_AVG                  -0.019242\n",
       "HOUR_APPR_PROCESS_START        -0.020189\n",
       "FLAG_PHONE                     -0.020377\n",
       "FLAG_DOCUMENT_6                -0.025851\n",
       "AMT_CREDIT                     -0.026185\n",
       "REGION_POPULATION_RELATIVE     -0.032762\n",
       "AMT_GOODS_PRICE                -0.034333\n",
       "DAYS_EMPLOYED                  -0.038388\n",
       "Name: TARGET, dtype: float64"
      ]
     },
     "execution_count": 19,
     "metadata": {},
     "output_type": "execute_result"
    }
   ],
   "source": [
    "corr_matrix = data.corr(numeric_only=True)\n",
    "corr_matrix[target].sort_values(ascending=False)"
   ]
  },
  {
   "cell_type": "markdown",
   "metadata": {},
   "source": [
    "## **WoE Encoder**"
   ]
  },
  {
   "cell_type": "code",
   "execution_count": null,
   "metadata": {},
   "outputs": [],
   "source": [
    "woe = WoEEncoder(fill_value=0.0001)\n",
    "woe.fit(application_train, application_train[target])\n",
    "application_train = woe.transform(application_train)"
   ]
  }
 ],
 "metadata": {
  "kernelspec": {
   "display_name": "riskvenv",
   "language": "python",
   "name": "python3"
  },
  "language_info": {
   "codemirror_mode": {
    "name": "ipython",
    "version": 3
   },
   "file_extension": ".py",
   "mimetype": "text/x-python",
   "name": "python",
   "nbconvert_exporter": "python",
   "pygments_lexer": "ipython3",
   "version": "3.10.1"
  }
 },
 "nbformat": 4,
 "nbformat_minor": 2
}
