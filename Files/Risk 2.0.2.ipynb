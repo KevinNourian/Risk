{
 "cells": [
  {
   "cell_type": "markdown",
   "metadata": {},
   "source": [
    "# **Libraries**"
   ]
  },
  {
   "cell_type": "code",
   "execution_count": 17,
   "metadata": {},
   "outputs": [],
   "source": [
    "import pandas as pd\n",
    "import numpy as np\n",
    "\n",
    "from feature_engine.imputation import AddMissingIndicator\n",
    "from feature_engine.imputation import RandomSampleImputer\n",
    "from feature_engine.encoding import WoEEncoder\n",
    "\n",
    "import functions\n",
    "import importlib\n",
    "importlib.reload(functions)\n",
    "\n",
    "import warnings"
   ]
  },
  {
   "cell_type": "markdown",
   "metadata": {},
   "source": [
    "# **Display**"
   ]
  },
  {
   "cell_type": "code",
   "execution_count": 4,
   "metadata": {},
   "outputs": [],
   "source": [
    "%matplotlib inline\n",
    "\n",
    "pd.options.display.max_rows = 300000\n",
    "pd.options.display.max_columns = 999\n",
    "pd.options.display.max_colwidth = 500\n",
    "\n",
    "warnings.filterwarnings(\"ignore\")\n",
    "warnings.simplefilter(action=\"ignore\", category=FutureWarning)\n",
    "\n",
    "pd.set_option('display.max_rows', 200)\n",
    "\n",
    "size = 20"
   ]
  },
  {
   "cell_type": "markdown",
   "metadata": {},
   "source": [
    "# **Variables**"
   ]
  },
  {
   "cell_type": "code",
   "execution_count": 5,
   "metadata": {},
   "outputs": [],
   "source": [
    "random_state = 101\n",
    "target = 'TARGET'"
   ]
  },
  {
   "cell_type": "markdown",
   "metadata": {},
   "source": [
    "# **Data**"
   ]
  },
  {
   "cell_type": "markdown",
   "metadata": {},
   "source": [
    "## **Load Data**"
   ]
  },
  {
   "cell_type": "code",
   "execution_count": 48,
   "metadata": {},
   "outputs": [],
   "source": [
    "application_train = pd.read_csv(\n",
    "    r\"C:\\Users\\Dell\\Documents\\AI\\Risk\\Data\\application_train.csv\",\n",
    "    index_col=False\n",
    ")\n",
    "\n",
    "\n",
    "application_test = pd.read_csv(\n",
    "    r\"C:\\Users\\Dell\\Documents\\AI\\Risk\\Data\\application_test.csv\",\n",
    "    index_col=False\n",
    ")"
   ]
  },
  {
   "cell_type": "markdown",
   "metadata": {},
   "source": [
    "# **Combine Train and Test Data**"
   ]
  },
  {
   "cell_type": "code",
   "execution_count": 49,
   "metadata": {},
   "outputs": [],
   "source": [
    "data = pd.concat([application_train, application_test], axis=0).reset_index (drop=True)"
   ]
  },
  {
   "cell_type": "markdown",
   "metadata": {},
   "source": [
    "# **Data Cleaning**"
   ]
  },
  {
   "cell_type": "markdown",
   "metadata": {},
   "source": [
    "## **Removing Empty Features**"
   ]
  },
  {
   "cell_type": "code",
   "execution_count": 50,
   "metadata": {},
   "outputs": [
    {
     "name": "stdout",
     "output_type": "stream",
     "text": [
      "['FLAG_DOCUMENT_2', 'FLAG_DOCUMENT_10', 'FLAG_DOCUMENT_12', 'FLAG_DOCUMENT_13', 'FLAG_DOCUMENT_14', 'FLAG_DOCUMENT_15', 'FLAG_DOCUMENT_16', 'FLAG_DOCUMENT_17', 'FLAG_DOCUMENT_19', 'FLAG_DOCUMENT_20', 'FLAG_DOCUMENT_21']\n",
      "There are 11 columns with just 1 unique value\n"
     ]
    }
   ],
   "source": [
    "list_columns = functions.check_columns_with_one_uniquevalue(application_test)\n",
    "    \n",
    "print(list_columns)\n",
    "print(f\"There are {len(list_columns)} columns with just 1 unique value\")"
   ]
  },
  {
   "cell_type": "code",
   "execution_count": 43,
   "metadata": {},
   "outputs": [],
   "source": [
    "data = data.drop(list_columns, axis = 1)\n",
    "application_test = application_test.drop(list_columns, axis = 1)"
   ]
  },
  {
   "cell_type": "markdown",
   "metadata": {},
   "source": [
    "## **Reduce Memory Usage**"
   ]
  },
  {
   "cell_type": "code",
   "execution_count": 44,
   "metadata": {},
   "outputs": [
    {
     "name": "stdout",
     "output_type": "stream",
     "text": [
      "Memory usage of dataframe is 260.42 MB\n",
      "Memory usage after optimization is: 89.15 MB\n",
      "Decreased by 65.8%\n"
     ]
    }
   ],
   "source": [
    "application_train = functions.reduce_memory_usage(application_train)"
   ]
  },
  {
   "cell_type": "code",
   "execution_count": 27,
   "metadata": {},
   "outputs": [
    {
     "name": "stdout",
     "output_type": "stream",
     "text": [
      "Memory usage of dataframe is 40.91 MB\n",
      "Memory usage after optimization is: 14.09 MB\n",
      "Decreased by 65.6%\n"
     ]
    }
   ],
   "source": [
    "application_test = functions.reduce_memory_usage(application_test)"
   ]
  },
  {
   "cell_type": "markdown",
   "metadata": {},
   "source": [
    "### **Correlation between each Feature and the Target Feature**"
   ]
  },
  {
   "cell_type": "code",
   "execution_count": 45,
   "metadata": {},
   "outputs": [
    {
     "data": {
      "text/plain": [
       "TARGET                          1.000000\n",
       "DAYS_BIRTH                      0.078239\n",
       "REGION_RATING_CLIENT_W_CITY     0.060893\n",
       "REGION_RATING_CLIENT            0.058899\n",
       "DAYS_LAST_PHONE_CHANGE          0.055219\n",
       "DAYS_ID_PUBLISH                 0.051457\n",
       "REG_CITY_NOT_WORK_CITY          0.050994\n",
       "FLAG_EMP_PHONE                  0.045982\n",
       "REG_CITY_NOT_LIVE_CITY          0.044395\n",
       "FLAG_DOCUMENT_3                 0.044346\n",
       "DAYS_REGISTRATION               0.041975\n",
       "OWN_CAR_AGE                     0.037612\n",
       "LIVE_CITY_NOT_WORK_CITY         0.032518\n",
       "DEF_30_CNT_SOCIAL_CIRCLE        0.032248\n",
       "DEF_60_CNT_SOCIAL_CIRCLE        0.031276\n",
       "FLAG_WORK_PHONE                 0.028524\n",
       "AMT_REQ_CREDIT_BUREAU_YEAR      0.019930\n",
       "CNT_CHILDREN                    0.019187\n",
       "CNT_FAM_MEMBERS                 0.009308\n",
       "OBS_30_CNT_SOCIAL_CIRCLE        0.009131\n",
       "OBS_60_CNT_SOCIAL_CIRCLE        0.009022\n",
       "REG_REGION_NOT_WORK_REGION      0.006942\n",
       "REG_REGION_NOT_LIVE_REGION      0.005576\n",
       "LIVE_REGION_NOT_WORK_REGION     0.002819\n",
       "AMT_REQ_CREDIT_BUREAU_DAY       0.002704\n",
       "AMT_REQ_CREDIT_BUREAU_HOUR      0.000930\n",
       "AMT_REQ_CREDIT_BUREAU_WEEK      0.000788\n",
       "FLAG_MOBIL                      0.000534\n",
       "FLAG_CONT_MOBILE                0.000370\n",
       "FLAG_DOCUMENT_5                -0.000316\n",
       "FLAG_DOCUMENT_7                -0.001520\n",
       "NONLIVINGAPARTMENTS_MODE       -0.001557\n",
       "FLAG_EMAIL                     -0.001758\n",
       "AMT_REQ_CREDIT_BUREAU_QRT      -0.002022\n",
       "SK_ID_CURR                     -0.002108\n",
       "FLAG_DOCUMENT_4                -0.002672\n",
       "NONLIVINGAPARTMENTS_MEDI       -0.002756\n",
       "NONLIVINGAPARTMENTS_AVG        -0.003176\n",
       "AMT_INCOME_TOTAL               -0.003982\n",
       "FLAG_DOCUMENT_11               -0.004229\n",
       "FLAG_DOCUMENT_9                -0.004352\n",
       "FLAG_DOCUMENT_18               -0.007952\n",
       "FLAG_DOCUMENT_8                -0.008040\n",
       "YEARS_BEGINEXPLUATATION_MODE   -0.009058\n",
       "YEARS_BEGINEXPLUATATION_AVG    -0.009752\n",
       "YEARS_BEGINEXPLUATATION_MEDI   -0.010015\n",
       "LANDAREA_MODE                  -0.010174\n",
       "LANDAREA_AVG                   -0.010884\n",
       "LANDAREA_MEDI                  -0.011255\n",
       "AMT_REQ_CREDIT_BUREAU_MON      -0.012462\n",
       "NONLIVINGAREA_MODE             -0.012710\n",
       "AMT_ANNUITY                    -0.012817\n",
       "NONLIVINGAREA_MEDI             -0.013336\n",
       "NONLIVINGAREA_AVG              -0.013579\n",
       "COMMONAREA_MODE                -0.016340\n",
       "ENTRANCES_MODE                 -0.017388\n",
       "COMMONAREA_AVG                 -0.018550\n",
       "COMMONAREA_MEDI                -0.018574\n",
       "ENTRANCES_MEDI                 -0.019026\n",
       "ENTRANCES_AVG                  -0.019173\n",
       "BASEMENTAREA_MODE              -0.019953\n",
       "YEARS_BUILD_MODE               -0.022073\n",
       "BASEMENTAREA_MEDI              -0.022081\n",
       "YEARS_BUILD_AVG                -0.022150\n",
       "YEARS_BUILD_MEDI               -0.022321\n",
       "BASEMENTAREA_AVG               -0.022746\n",
       "LIVINGAPARTMENTS_MODE          -0.023393\n",
       "FLAG_PHONE                     -0.023806\n",
       "HOUR_APPR_PROCESS_START        -0.024166\n",
       "LIVINGAPARTMENTS_MEDI          -0.024621\n",
       "LIVINGAPARTMENTS_AVG           -0.025030\n",
       "APARTMENTS_MODE                -0.027284\n",
       "FLAG_DOCUMENT_6                -0.028602\n",
       "APARTMENTS_MEDI                -0.029184\n",
       "APARTMENTS_AVG                 -0.029497\n",
       "AMT_CREDIT                     -0.030369\n",
       "LIVINGAREA_MODE                -0.030684\n",
       "ELEVATORS_MODE                 -0.032132\n",
       "TOTALAREA_MODE                 -0.032596\n",
       "FLOORSMIN_MODE                 -0.032699\n",
       "LIVINGAREA_MEDI                -0.032740\n",
       "LIVINGAREA_AVG                 -0.032998\n",
       "FLOORSMIN_MEDI                 -0.033396\n",
       "FLOORSMIN_AVG                  -0.033615\n",
       "ELEVATORS_MEDI                 -0.033863\n",
       "ELEVATORS_AVG                  -0.034199\n",
       "REGION_POPULATION_RELATIVE     -0.037231\n",
       "AMT_GOODS_PRICE                -0.039645\n",
       "FLOORSMAX_MODE                 -0.043228\n",
       "FLOORSMAX_MEDI                 -0.043769\n",
       "FLOORSMAX_AVG                  -0.044005\n",
       "DAYS_EMPLOYED                  -0.044932\n",
       "EXT_SOURCE_1                   -0.155318\n",
       "EXT_SOURCE_2                   -0.160471\n",
       "EXT_SOURCE_3                   -0.178918\n",
       "Name: TARGET, dtype: float64"
      ]
     },
     "execution_count": 45,
     "metadata": {},
     "output_type": "execute_result"
    }
   ],
   "source": [
    "corr_matrix = application_train.corr(numeric_only=True)\n",
    "corr_matrix[target].sort_values(ascending=False)"
   ]
  },
  {
   "cell_type": "markdown",
   "metadata": {},
   "source": [
    "# **Missing Values**"
   ]
  },
  {
   "cell_type": "code",
   "execution_count": 39,
   "metadata": {},
   "outputs": [
    {
     "data": {
      "text/html": [
       "<div>\n",
       "<style scoped>\n",
       "    .dataframe tbody tr th:only-of-type {\n",
       "        vertical-align: middle;\n",
       "    }\n",
       "\n",
       "    .dataframe tbody tr th {\n",
       "        vertical-align: top;\n",
       "    }\n",
       "\n",
       "    .dataframe thead th {\n",
       "        text-align: right;\n",
       "    }\n",
       "</style>\n",
       "<table border=\"1\" class=\"dataframe\">\n",
       "  <thead>\n",
       "    <tr style=\"text-align: right;\">\n",
       "      <th></th>\n",
       "      <th>NumberMissing</th>\n",
       "      <th>PercentageMissing</th>\n",
       "    </tr>\n",
       "  </thead>\n",
       "  <tbody>\n",
       "  </tbody>\n",
       "</table>\n",
       "</div>"
      ],
      "text/plain": [
       "Empty DataFrame\n",
       "Columns: [NumberMissing, PercentageMissing]\n",
       "Index: []"
      ]
     },
     "execution_count": 39,
     "metadata": {},
     "output_type": "execute_result"
    }
   ],
   "source": [
    "functions.MissingValues(application_train)"
   ]
  },
  {
   "cell_type": "markdown",
   "metadata": {},
   "source": [
    "### **Random Sample Imputer**"
   ]
  },
  {
   "cell_type": "code",
   "execution_count": 46,
   "metadata": {},
   "outputs": [],
   "source": [
    "rsi = RandomSampleImputer()\n",
    "rsi.fit(application_train)\n",
    "application_train = rsi.transform(application_train)"
   ]
  },
  {
   "cell_type": "markdown",
   "metadata": {},
   "source": [
    "### **Correlation between each Feature and the Target Feature**"
   ]
  },
  {
   "cell_type": "code",
   "execution_count": 47,
   "metadata": {},
   "outputs": [
    {
     "data": {
      "text/plain": [
       "TARGET                          1.000000\n",
       "DAYS_BIRTH                      0.078239\n",
       "REGION_RATING_CLIENT_W_CITY     0.060893\n",
       "REGION_RATING_CLIENT            0.058899\n",
       "DAYS_LAST_PHONE_CHANGE          0.055218\n",
       "DAYS_ID_PUBLISH                 0.051457\n",
       "REG_CITY_NOT_WORK_CITY          0.050994\n",
       "FLAG_EMP_PHONE                  0.045982\n",
       "REG_CITY_NOT_LIVE_CITY          0.044395\n",
       "FLAG_DOCUMENT_3                 0.044346\n",
       "DAYS_REGISTRATION               0.041975\n",
       "LIVE_CITY_NOT_WORK_CITY         0.032518\n",
       "DEF_30_CNT_SOCIAL_CIRCLE        0.032301\n",
       "DEF_60_CNT_SOCIAL_CIRCLE        0.031192\n",
       "FLAG_WORK_PHONE                 0.028524\n",
       "CNT_CHILDREN                    0.019187\n",
       "AMT_REQ_CREDIT_BUREAU_YEAR      0.017877\n",
       "OWN_CAR_AGE                     0.011295\n",
       "CNT_FAM_MEMBERS                 0.009307\n",
       "OBS_30_CNT_SOCIAL_CIRCLE        0.009016\n",
       "OBS_60_CNT_SOCIAL_CIRCLE        0.009013\n",
       "REG_REGION_NOT_WORK_REGION      0.006942\n",
       "REG_REGION_NOT_LIVE_REGION      0.005576\n",
       "NONLIVINGAPARTMENTS_MODE        0.003975\n",
       "LIVE_REGION_NOT_WORK_REGION     0.002819\n",
       "AMT_REQ_CREDIT_BUREAU_DAY       0.002606\n",
       "AMT_REQ_CREDIT_BUREAU_HOUR      0.000776\n",
       "FLAG_MOBIL                      0.000534\n",
       "FLAG_CONT_MOBILE                0.000370\n",
       "AMT_REQ_CREDIT_BUREAU_WEEK     -0.000049\n",
       "FLAG_DOCUMENT_5                -0.000316\n",
       "NONLIVINGAPARTMENTS_MEDI       -0.001174\n",
       "AMT_REQ_CREDIT_BUREAU_QRT      -0.001281\n",
       "FLAG_DOCUMENT_7                -0.001520\n",
       "FLAG_EMAIL                     -0.001758\n",
       "COMMONAREA_MODE                -0.002028\n",
       "SK_ID_CURR                     -0.002108\n",
       "FLAG_DOCUMENT_4                -0.002672\n",
       "NONLIVINGAPARTMENTS_AVG        -0.002835\n",
       "YEARS_BEGINEXPLUATATION_MODE   -0.003611\n",
       "AMT_INCOME_TOTAL               -0.003982\n",
       "FLAG_DOCUMENT_11               -0.004229\n",
       "YEARS_BEGINEXPLUATATION_MEDI   -0.004306\n",
       "FLAG_DOCUMENT_9                -0.004352\n",
       "LANDAREA_MODE                  -0.004650\n",
       "LANDAREA_MEDI                  -0.004679\n",
       "COMMONAREA_AVG                 -0.004748\n",
       "BASEMENTAREA_MODE              -0.004896\n",
       "NONLIVINGAREA_AVG              -0.005033\n",
       "YEARS_BEGINEXPLUATATION_AVG    -0.005276\n",
       "LANDAREA_AVG                   -0.005296\n",
       "YEARS_BUILD_MEDI               -0.005776\n",
       "COMMONAREA_MEDI                -0.005785\n",
       "NONLIVINGAREA_MEDI             -0.005827\n",
       "BASEMENTAREA_MEDI              -0.005868\n",
       "NONLIVINGAREA_MODE             -0.005968\n",
       "ENTRANCES_AVG                  -0.006991\n",
       "ENTRANCES_MODE                 -0.007059\n",
       "LIVINGAPARTMENTS_AVG           -0.007349\n",
       "LIVINGAPARTMENTS_MEDI          -0.007475\n",
       "YEARS_BUILD_MODE               -0.007506\n",
       "BASEMENTAREA_AVG               -0.007521\n",
       "FLAG_DOCUMENT_18               -0.007952\n",
       "LIVINGAPARTMENTS_MODE          -0.007972\n",
       "FLAG_DOCUMENT_8                -0.008040\n",
       "YEARS_BUILD_AVG                -0.008267\n",
       "FLOORSMIN_MEDI                 -0.010472\n",
       "ENTRANCES_MEDI                 -0.010733\n",
       "AMT_REQ_CREDIT_BUREAU_MON      -0.010801\n",
       "FLOORSMIN_MODE                 -0.010974\n",
       "FLOORSMIN_AVG                  -0.011868\n",
       "APARTMENTS_MODE                -0.012073\n",
       "LIVINGAREA_MODE                -0.012458\n",
       "AMT_ANNUITY                    -0.012820\n",
       "APARTMENTS_AVG                 -0.013321\n",
       "APARTMENTS_MEDI                -0.014943\n",
       "LIVINGAREA_AVG                 -0.014951\n",
       "ELEVATORS_MODE                 -0.015501\n",
       "TOTALAREA_MODE                 -0.015614\n",
       "ELEVATORS_MEDI                 -0.015684\n",
       "ELEVATORS_AVG                  -0.016385\n",
       "LIVINGAREA_MEDI                -0.017820\n",
       "FLOORSMAX_AVG                  -0.018876\n",
       "FLOORSMAX_MODE                 -0.019897\n",
       "FLOORSMAX_MEDI                 -0.023373\n",
       "FLAG_PHONE                     -0.023806\n",
       "HOUR_APPR_PROCESS_START        -0.024166\n",
       "FLAG_DOCUMENT_6                -0.028602\n",
       "AMT_CREDIT                     -0.030369\n",
       "REGION_POPULATION_RELATIVE     -0.037231\n",
       "AMT_GOODS_PRICE                -0.039559\n",
       "DAYS_EMPLOYED                  -0.044932\n",
       "EXT_SOURCE_1                   -0.065675\n",
       "EXT_SOURCE_3                   -0.141009\n",
       "EXT_SOURCE_2                   -0.160243\n",
       "Name: TARGET, dtype: float64"
      ]
     },
     "execution_count": 47,
     "metadata": {},
     "output_type": "execute_result"
    }
   ],
   "source": [
    "corr_matrix = application_train.corr(numeric_only=True)\n",
    "corr_matrix[target].sort_values(ascending=False)"
   ]
  },
  {
   "cell_type": "markdown",
   "metadata": {},
   "source": [
    "## **WoE Encoder**"
   ]
  },
  {
   "cell_type": "code",
   "execution_count": 38,
   "metadata": {},
   "outputs": [],
   "source": [
    "woe = WoEEncoder(fill_value=0.0001)\n",
    "woe.fit(application_train, application_train[target])\n",
    "application_train = woe.transform(application_train)"
   ]
  },
  {
   "cell_type": "markdown",
   "metadata": {},
   "source": [
    "### **Correlation between each Feature and the Target Feature**"
   ]
  },
  {
   "cell_type": "code",
   "execution_count": 40,
   "metadata": {},
   "outputs": [
    {
     "data": {
      "text/plain": [
       "TARGET                          1.000000\n",
       "DAYS_BIRTH                      0.078239\n",
       "ORGANIZATION_TYPE               0.071869\n",
       "NAME_INCOME_TYPE                0.063318\n",
       "REGION_RATING_CLIENT_W_CITY     0.060893\n",
       "REGION_RATING_CLIENT            0.058899\n",
       "OCCUPATION_TYPE                 0.058193\n",
       "NAME_EDUCATION_TYPE             0.057441\n",
       "DAYS_LAST_PHONE_CHANGE          0.055220\n",
       "CODE_GENDER                     0.054633\n",
       "DAYS_ID_PUBLISH                 0.051457\n",
       "REG_CITY_NOT_WORK_CITY          0.050994\n",
       "FLAG_EMP_PHONE                  0.045982\n",
       "REG_CITY_NOT_LIVE_CITY          0.044395\n",
       "FLAG_DOCUMENT_3                 0.044346\n",
       "DAYS_REGISTRATION               0.041975\n",
       "NAME_FAMILY_STATUS              0.040291\n",
       "NAME_HOUSING_TYPE               0.036947\n",
       "LIVE_CITY_NOT_WORK_CITY         0.032518\n",
       "DEF_30_CNT_SOCIAL_CIRCLE        0.032141\n",
       "DEF_60_CNT_SOCIAL_CIRCLE        0.031193\n",
       "NAME_CONTRACT_TYPE              0.030896\n",
       "FLAG_WORK_PHONE                 0.028524\n",
       "FLAG_OWN_CAR                    0.021851\n",
       "CNT_CHILDREN                    0.019187\n",
       "AMT_REQ_CREDIT_BUREAU_YEAR      0.015086\n",
       "OWN_CAR_AGE                     0.012291\n",
       "WALLSMATERIAL_MODE              0.012188\n",
       "NAME_TYPE_SUITE                 0.010286\n",
       "CNT_FAM_MEMBERS                 0.009309\n",
       "OBS_30_CNT_SOCIAL_CIRCLE        0.009106\n",
       "OBS_60_CNT_SOCIAL_CIRCLE        0.008964\n",
       "FONDKAPREMONT_MODE              0.008541\n",
       "WEEKDAY_APPR_PROCESS_START      0.007073\n",
       "REG_REGION_NOT_WORK_REGION      0.006942\n",
       "FLAG_OWN_REALTY                 0.006148\n",
       "HOUSETYPE_MODE                  0.006084\n",
       "EMERGENCYSTATE_MODE             0.005773\n",
       "REG_REGION_NOT_LIVE_REGION      0.005576\n",
       "AMT_REQ_CREDIT_BUREAU_DAY       0.004366\n",
       "LIVE_REGION_NOT_WORK_REGION     0.002819\n",
       "AMT_REQ_CREDIT_BUREAU_HOUR      0.002114\n",
       "NONLIVINGAPARTMENTS_MODE        0.001289\n",
       "FLAG_MOBIL                      0.000534\n",
       "FLAG_CONT_MOBILE                0.000370\n",
       "NONLIVINGAPARTMENTS_AVG         0.000196\n",
       "AMT_REQ_CREDIT_BUREAU_WEEK      0.000160\n",
       "FLAG_DOCUMENT_5                -0.000316\n",
       "AMT_REQ_CREDIT_BUREAU_QRT      -0.000868\n",
       "NONLIVINGAPARTMENTS_MEDI       -0.001357\n",
       "FLAG_DOCUMENT_7                -0.001520\n",
       "FLAG_EMAIL                     -0.001758\n",
       "SK_ID_CURR                     -0.002108\n",
       "COMMONAREA_AVG                 -0.002121\n",
       "YEARS_BEGINEXPLUATATION_MODE   -0.002393\n",
       "FLAG_DOCUMENT_4                -0.002672\n",
       "LANDAREA_MODE                  -0.003518\n",
       "COMMONAREA_MODE                -0.003785\n",
       "AMT_INCOME_TOTAL               -0.003982\n",
       "FLAG_DOCUMENT_11               -0.004229\n",
       "FLAG_DOCUMENT_9                -0.004352\n",
       "YEARS_BEGINEXPLUATATION_MEDI   -0.004432\n",
       "LANDAREA_AVG                   -0.004861\n",
       "LIVINGAPARTMENTS_AVG           -0.005273\n",
       "LIVINGAPARTMENTS_MODE          -0.005382\n",
       "LIVINGAPARTMENTS_MEDI          -0.005560\n",
       "NONLIVINGAREA_MEDI             -0.006316\n",
       "COMMONAREA_MEDI                -0.006360\n",
       "NONLIVINGAREA_MODE             -0.006480\n",
       "YEARS_BEGINEXPLUATATION_AVG    -0.006568\n",
       "YEARS_BUILD_MODE               -0.007410\n",
       "LANDAREA_MEDI                  -0.007510\n",
       "NONLIVINGAREA_AVG              -0.007609\n",
       "YEARS_BUILD_AVG                -0.007850\n",
       "FLAG_DOCUMENT_18               -0.007952\n",
       "FLAG_DOCUMENT_8                -0.008040\n",
       "FLOORSMIN_AVG                  -0.008045\n",
       "ENTRANCES_MODE                 -0.008046\n",
       "ENTRANCES_MEDI                 -0.008447\n",
       "BASEMENTAREA_AVG               -0.008747\n",
       "BASEMENTAREA_MODE              -0.008931\n",
       "YEARS_BUILD_MEDI               -0.008943\n",
       "BASEMENTAREA_MEDI              -0.009061\n",
       "ENTRANCES_AVG                  -0.009590\n",
       "APARTMENTS_MODE                -0.010859\n",
       "FLOORSMIN_MEDI                 -0.010932\n",
       "AMT_REQ_CREDIT_BUREAU_MON      -0.011015\n",
       "FLOORSMIN_MODE                 -0.011071\n",
       "APARTMENTS_MEDI                -0.012395\n",
       "AMT_ANNUITY                    -0.012817\n",
       "ELEVATORS_MODE                 -0.013515\n",
       "LIVINGAREA_MODE                -0.013703\n",
       "TOTALAREA_MODE                 -0.014171\n",
       "LIVINGAREA_AVG                 -0.014398\n",
       "APARTMENTS_AVG                 -0.014941\n",
       "ELEVATORS_AVG                  -0.015089\n",
       "ELEVATORS_MEDI                 -0.015102\n",
       "LIVINGAREA_MEDI                -0.016708\n",
       "FLOORSMAX_MODE                 -0.019796\n",
       "FLOORSMAX_AVG                  -0.019910\n",
       "FLOORSMAX_MEDI                 -0.020402\n",
       "FLAG_PHONE                     -0.023806\n",
       "HOUR_APPR_PROCESS_START        -0.024166\n",
       "FLAG_DOCUMENT_6                -0.028602\n",
       "AMT_CREDIT                     -0.030369\n",
       "REGION_POPULATION_RELATIVE     -0.037231\n",
       "AMT_GOODS_PRICE                -0.039632\n",
       "DAYS_EMPLOYED                  -0.044932\n",
       "EXT_SOURCE_1                   -0.068516\n",
       "EXT_SOURCE_3                   -0.142121\n",
       "EXT_SOURCE_2                   -0.160153\n",
       "Name: TARGET, dtype: float64"
      ]
     },
     "execution_count": 40,
     "metadata": {},
     "output_type": "execute_result"
    }
   ],
   "source": [
    "corr_matrix = application_train.corr(numeric_only=True)\n",
    "corr_matrix[target].sort_values(ascending=False)"
   ]
  }
 ],
 "metadata": {
  "kernelspec": {
   "display_name": "riskvenv",
   "language": "python",
   "name": "python3"
  },
  "language_info": {
   "codemirror_mode": {
    "name": "ipython",
    "version": 3
   },
   "file_extension": ".py",
   "mimetype": "text/x-python",
   "name": "python",
   "nbconvert_exporter": "python",
   "pygments_lexer": "ipython3",
   "version": "3.10.1"
  }
 },
 "nbformat": 4,
 "nbformat_minor": 2
}
