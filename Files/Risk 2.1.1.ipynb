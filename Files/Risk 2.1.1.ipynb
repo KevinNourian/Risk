{
 "cells": [
  {
   "cell_type": "markdown",
   "metadata": {},
   "source": [
    "# **Libraries**"
   ]
  },
  {
   "cell_type": "code",
   "execution_count": 1,
   "metadata": {},
   "outputs": [],
   "source": [
    "import pandas as pd\n",
    "import numpy as np\n",
    "\n",
    "from feature_engine.imputation import AddMissingIndicator\n",
    "from feature_engine.imputation import RandomSampleImputer\n",
    "from feature_engine.encoding import WoEEncoder\n",
    "\n",
    "from xgboost import XGBRegressor\n",
    "\n",
    "import functions\n",
    "import importlib\n",
    "importlib.reload(functions)\n",
    "\n",
    "import warnings"
   ]
  },
  {
   "cell_type": "markdown",
   "metadata": {},
   "source": [
    "# **Display**"
   ]
  },
  {
   "cell_type": "code",
   "execution_count": 2,
   "metadata": {},
   "outputs": [],
   "source": [
    "%matplotlib inline\n",
    "\n",
    "pd.options.display.max_rows = 300000\n",
    "pd.options.display.max_columns = 999\n",
    "pd.options.display.max_colwidth = 500\n",
    "\n",
    "warnings.filterwarnings(\"ignore\")\n",
    "warnings.simplefilter(action=\"ignore\", category=FutureWarning)\n",
    "\n",
    "pd.set_option('display.max_rows', 200)\n",
    "\n",
    "size = 20"
   ]
  },
  {
   "cell_type": "markdown",
   "metadata": {},
   "source": [
    "# **Variables**"
   ]
  },
  {
   "cell_type": "code",
   "execution_count": 19,
   "metadata": {},
   "outputs": [],
   "source": [
    "random_state = 101\n",
    "target = 'TARGET'"
   ]
  },
  {
   "cell_type": "markdown",
   "metadata": {},
   "source": [
    "# **Data**"
   ]
  },
  {
   "cell_type": "markdown",
   "metadata": {},
   "source": [
    "## **Load Data**"
   ]
  },
  {
   "cell_type": "code",
   "execution_count": 3,
   "metadata": {},
   "outputs": [],
   "source": [
    "app_train = pd.read_csv(\n",
    "    r\"C:\\Users\\Dell\\Documents\\AI\\Risk\\Data\\application_train.csv\",\n",
    "    index_col=False\n",
    ")\n",
    "\n",
    "\n",
    "app_test = pd.read_csv(\n",
    "    r\"C:\\Users\\Dell\\Documents\\AI\\Risk\\Data\\application_test.csv\",\n",
    "    index_col=False\n",
    ")"
   ]
  },
  {
   "cell_type": "markdown",
   "metadata": {},
   "source": [
    "# **Data Cleaning**"
   ]
  },
  {
   "cell_type": "markdown",
   "metadata": {},
   "source": [
    "## **Removing Empty Features**"
   ]
  },
  {
   "cell_type": "code",
   "execution_count": 37,
   "metadata": {},
   "outputs": [
    {
     "name": "stdout",
     "output_type": "stream",
     "text": [
      "There are 11 columns with just 1 unique value\n"
     ]
    }
   ],
   "source": [
    "list_columns = functions.check_columns_with_one_uniquevalue(app_test)\n",
    "    \n",
    "print(f\"There are {len(list_columns)} columns with just 1 unique value\")"
   ]
  },
  {
   "cell_type": "code",
   "execution_count": 38,
   "metadata": {},
   "outputs": [],
   "source": [
    "app_trian = app_train.drop(list_columns, axis = 1)\n",
    "app_test = app_test.drop(list_columns, axis = 1)"
   ]
  },
  {
   "cell_type": "markdown",
   "metadata": {},
   "source": [
    "## **Reduce Memory Usage**"
   ]
  },
  {
   "cell_type": "code",
   "execution_count": 39,
   "metadata": {},
   "outputs": [
    {
     "name": "stdout",
     "output_type": "stream",
     "text": [
      "Memory usage of dataframe is 260.42 MB\n",
      "Memory usage after optimization is: 89.15 MB\n",
      "Decreased by 65.8%\n"
     ]
    }
   ],
   "source": [
    "app_train = functions.reduce_memory_usage(app_train)"
   ]
  },
  {
   "cell_type": "code",
   "execution_count": 40,
   "metadata": {},
   "outputs": [
    {
     "name": "stdout",
     "output_type": "stream",
     "text": [
      "Memory usage of dataframe is 40.91 MB\n",
      "Memory usage after optimization is: 14.09 MB\n",
      "Decreased by 65.6%\n"
     ]
    }
   ],
   "source": [
    "app_test = functions.reduce_memory_usage(app_test)"
   ]
  },
  {
   "cell_type": "markdown",
   "metadata": {},
   "source": [
    "### **Correlation between each Feature and the Target Feature**"
   ]
  },
  {
   "cell_type": "code",
   "execution_count": null,
   "metadata": {},
   "outputs": [],
   "source": [
    "corr_matrix = app_trian.corr(numeric_only=True)\n",
    "corr_matrix[target].sort_values(ascending=False)"
   ]
  },
  {
   "cell_type": "markdown",
   "metadata": {},
   "source": [
    "## **External Source Features**"
   ]
  },
  {
   "cell_type": "markdown",
   "metadata": {},
   "source": [
    "### **Predicting with XGB Model**"
   ]
  },
  {
   "cell_type": "code",
   "execution_count": null,
   "metadata": {},
   "outputs": [],
   "source": [
    "#using only numeric columns for predicting the EXT_SOURCES\n",
    "columns_for_modelling = list(set(application_test.dtypes[application_test.dtypes != 'object'].index.tolist())\n",
    "                                 - set(['EXT_SOURCE_1','EXT_SOURCE_2','EXT_SOURCE_3','SK_ID_CURR']))\n",
    "#we'll train an XGB Regression model for predicting missing EXT_SOURCE values\n",
    "#we will predict in the order of least number of missing value columns to max.\n",
    "for ext_col in ['EXT_SOURCE_2','EXT_SOURCE_3','EXT_SOURCE_1']:\n",
    "#X_model - datapoints which do not have missing values of given column\n",
    "#Y_train - values of column trying to predict with non missing values\n",
    "#X_train_missing - datapoints in application_train with missing values\n",
    "#X_test_missing - datapoints in application_test with missing values\n",
    "X_model, X_train_missing, X_test_missing, Y_train = application_train[~application_train[ext_col].isna()][columns_for_modelling], application_train[\n",
    "                                                    application_train[ext_col].isna()][columns_for_modelling], application_test[\n",
    "                                                    application_test[ext_col].isna()][columns_for_modelling], application_train[\n",
    "                                                    ext_col][~application_train[ext_col].isna()]\n",
    "xg = XGBRegressor(n_estimators = 1000, max_depth = 3, learning_rate = 0.1, n_jobs = -1, random_state = 59)\n",
    "xg.fit(X_model, Y_train)\n",
    "application_train[ext_col][application_train[ext_col].isna()] = xg.predict(X_train_missing)\n",
    "application_test[ext_col][application_test[ext_col].isna()] = xg.predict(X_test_missing)\n",
    "#adding the predicted column to columns for modelling for next column's prediction\n",
    "columns_for_modelling = columns_for_modelling + [ext_col]"
   ]
  },
  {
   "cell_type": "code",
   "execution_count": 25,
   "metadata": {},
   "outputs": [],
   "source": [
    "reduced_app_train = app_trian.copy()\n",
    "\n",
    "selected_columns = ['SK_ID_CURR','EXT_SOURCE_1', 'EXT_SOURCE_2', 'EXT_SOURCE_3']\n",
    "\n",
    "ext_source = reduced_app_train [selected_columns]\n",
    "reduced_app_train.drop(['EXT_SOURCE_1', 'EXT_SOURCE_2', 'EXT_SOURCE_3'], axis=1, inplace=True)"
   ]
  },
  {
   "cell_type": "markdown",
   "metadata": {},
   "source": [
    "# **Missing Values**"
   ]
  },
  {
   "cell_type": "code",
   "execution_count": null,
   "metadata": {},
   "outputs": [],
   "source": [
    "functions.MissingValues(reduced_app_train)"
   ]
  },
  {
   "cell_type": "code",
   "execution_count": 27,
   "metadata": {},
   "outputs": [
    {
     "name": "stdout",
     "output_type": "stream",
     "text": [
      "The value -99999 does not exist in the DataFrame.\n"
     ]
    }
   ],
   "source": [
    "num_value = -99999\n",
    "\n",
    "if (reduced_app_train == num_value ).any().any():\n",
    "    print(f\"The value {num_value} exists in the DataFrame.\")\n",
    "else:\n",
    "    print(f\"The value {num_value} does not exist in the DataFrame.\")"
   ]
  },
  {
   "cell_type": "code",
   "execution_count": 28,
   "metadata": {},
   "outputs": [],
   "source": [
    "for col in reduced_app_train.select_dtypes(include=['float16', 'float32', 'float64']).columns:\n",
    "    reduced_app_train[col].fillna(num_value, inplace=True)"
   ]
  },
  {
   "cell_type": "code",
   "execution_count": null,
   "metadata": {},
   "outputs": [],
   "source": [
    "for col in reduced_app_train.select_dtypes(include=['float16', 'float32', 'float64']).columns:\n",
    "    reduced_app_train[col].fillna(num_value, inplace=True)"
   ]
  },
  {
   "cell_type": "code",
   "execution_count": 29,
   "metadata": {},
   "outputs": [
    {
     "name": "stdout",
     "output_type": "stream",
     "text": [
      "The value UNKNOWN does not exist in the DataFrame.\n"
     ]
    }
   ],
   "source": [
    "cat_value = 'UNKNOWN'\n",
    "\n",
    "if (app_train == cat_value).any().any():\n",
    "    print(f\"The value {cat_value} exists in the DataFrame.\")\n",
    "else:\n",
    "    print(f\"The value {cat_value} does not exist in the DataFrame.\")"
   ]
  },
  {
   "cell_type": "code",
   "execution_count": 30,
   "metadata": {},
   "outputs": [],
   "source": [
    "for col in reduced_app_train.select_dtypes(include=['object']).columns:\n",
    "    reduced_app_train[col].fillna(cat_value, inplace=True)"
   ]
  },
  {
   "cell_type": "markdown",
   "metadata": {},
   "source": [
    "## **WoE Encoder**"
   ]
  },
  {
   "cell_type": "code",
   "execution_count": 31,
   "metadata": {},
   "outputs": [],
   "source": [
    "woe = WoEEncoder(fill_value=0.0001)\n",
    "woe.fit(reduced_app_train, reduced_app_train[target])\n",
    "data = woe.transform(reduced_app_train)"
   ]
  },
  {
   "cell_type": "markdown",
   "metadata": {},
   "source": [
    "## **Merge EXT Source Data Back**"
   ]
  },
  {
   "cell_type": "code",
   "execution_count": 32,
   "metadata": {},
   "outputs": [],
   "source": [
    "app_train = ext_source.merge(reduced_app_train, how='inner')"
   ]
  },
  {
   "cell_type": "code",
   "execution_count": 33,
   "metadata": {},
   "outputs": [],
   "source": [
    "data = reduced_app_train.replace([np.inf, -np.inf], np.nan, inplace=True)  \n",
    "\n",
    "def impute_column(data, column):\n",
    "\n",
    "    data_missing = data[data[column].isna()] \n",
    "    data_no_missing = data.dropna(subset=[column])  \n",
    "    \n",
    "    X_train = data_no_missing.drop(columns=[column]) \n",
    "    y_train = data_no_missing[column]  \n",
    "\n",
    "    X_to_predict = data_missing.drop(columns=[column])  \n",
    "\n",
    "    xgb_reg = XGBRegressor()\n",
    "    xgb_reg.fit(X_train, y_train)\n",
    "\n",
    "    predicted_values = xgb_reg.predict(X_to_predict)\n",
    "\n",
    "    data.loc[data[column].isna(), column] = predicted_values\n",
    "    \n",
    "    return data\n",
    "\n",
    "columns_to_impute = ['EXT_SOURCE_1', 'EXT_SOURCE_2', 'EXT_SOURCE_3']\n",
    "\n",
    "for col in columns_to_impute:\n",
    "    data = impute_column(data, col)"
   ]
  },
  {
   "cell_type": "markdown",
   "metadata": {},
   "source": [
    "### **Correlation between each Feature and the Target Feature**"
   ]
  },
  {
   "cell_type": "code",
   "execution_count": 35,
   "metadata": {},
   "outputs": [
    {
     "data": {
      "text/plain": [
       "TARGET                          1.000000\n",
       "OCCUPATION_TYPE                 0.079664\n",
       "DAYS_BIRTH                      0.078239\n",
       "ORGANIZATION_TYPE               0.071869\n",
       "NAME_INCOME_TYPE                0.063318\n",
       "REGION_RATING_CLIENT_W_CITY     0.060893\n",
       "REGION_RATING_CLIENT            0.058899\n",
       "NAME_EDUCATION_TYPE             0.057441\n",
       "DAYS_LAST_PHONE_CHANGE          0.055219\n",
       "CODE_GENDER                     0.054633\n",
       "DAYS_ID_PUBLISH                 0.051457\n",
       "REG_CITY_NOT_WORK_CITY          0.050994\n",
       "FLAG_EMP_PHONE                  0.045982\n",
       "REG_CITY_NOT_LIVE_CITY          0.044395\n",
       "FLAG_DOCUMENT_3                 0.044346\n",
       "WALLSMATERIAL_MODE              0.044065\n",
       "EMERGENCYSTATE_MODE             0.042213\n",
       "DAYS_REGISTRATION               0.041975\n",
       "HOUSETYPE_MODE                  0.040699\n",
       "NAME_FAMILY_STATUS              0.040291\n",
       "OWN_CAR_AGE                     0.037612\n",
       "NAME_HOUSING_TYPE               0.036947\n",
       "LIVE_CITY_NOT_WORK_CITY         0.032518\n",
       "DEF_30_CNT_SOCIAL_CIRCLE        0.032248\n",
       "DEF_60_CNT_SOCIAL_CIRCLE        0.031276\n",
       "NAME_CONTRACT_TYPE              0.030896\n",
       "FONDKAPREMONT_MODE              0.030249\n",
       "FLAG_WORK_PHONE                 0.028524\n",
       "FLAG_OWN_CAR                    0.021851\n",
       "AMT_REQ_CREDIT_BUREAU_YEAR      0.019930\n",
       "CNT_CHILDREN                    0.019187\n",
       "NAME_TYPE_SUITE                 0.012075\n",
       "CNT_FAM_MEMBERS                 0.009308\n",
       "OBS_30_CNT_SOCIAL_CIRCLE        0.009131\n",
       "OBS_60_CNT_SOCIAL_CIRCLE        0.009022\n",
       "WEEKDAY_APPR_PROCESS_START      0.007073\n",
       "REG_REGION_NOT_WORK_REGION      0.006942\n",
       "FLAG_OWN_REALTY                 0.006148\n",
       "REG_REGION_NOT_LIVE_REGION      0.005576\n",
       "LIVE_REGION_NOT_WORK_REGION     0.002819\n",
       "AMT_REQ_CREDIT_BUREAU_DAY       0.002704\n",
       "AMT_REQ_CREDIT_BUREAU_HOUR      0.000930\n",
       "AMT_REQ_CREDIT_BUREAU_WEEK      0.000788\n",
       "FLAG_MOBIL                      0.000534\n",
       "FLAG_CONT_MOBILE                0.000370\n",
       "FLAG_DOCUMENT_5                -0.000316\n",
       "FLAG_DOCUMENT_7                -0.001520\n",
       "NONLIVINGAPARTMENTS_MODE       -0.001557\n",
       "FLAG_EMAIL                     -0.001758\n",
       "AMT_REQ_CREDIT_BUREAU_QRT      -0.002022\n",
       "SK_ID_CURR                     -0.002108\n",
       "FLAG_DOCUMENT_4                -0.002672\n",
       "NONLIVINGAPARTMENTS_MEDI       -0.002756\n",
       "NONLIVINGAPARTMENTS_AVG        -0.003176\n",
       "AMT_INCOME_TOTAL               -0.003982\n",
       "FLAG_DOCUMENT_11               -0.004229\n",
       "FLAG_DOCUMENT_9                -0.004352\n",
       "FLAG_DOCUMENT_18               -0.007952\n",
       "FLAG_DOCUMENT_8                -0.008040\n",
       "YEARS_BEGINEXPLUATATION_MODE   -0.009058\n",
       "YEARS_BEGINEXPLUATATION_AVG    -0.009752\n",
       "YEARS_BEGINEXPLUATATION_MEDI   -0.010015\n",
       "LANDAREA_MODE                  -0.010174\n",
       "LANDAREA_AVG                   -0.010884\n",
       "LANDAREA_MEDI                  -0.011255\n",
       "AMT_REQ_CREDIT_BUREAU_MON      -0.012462\n",
       "AMT_ANNUITY                    -0.012696\n",
       "NONLIVINGAREA_MODE             -0.012710\n",
       "NONLIVINGAREA_MEDI             -0.013336\n",
       "NONLIVINGAREA_AVG              -0.013579\n",
       "COMMONAREA_MODE                -0.016340\n",
       "ENTRANCES_MODE                 -0.017388\n",
       "COMMONAREA_AVG                 -0.018550\n",
       "COMMONAREA_MEDI                -0.018574\n",
       "ENTRANCES_MEDI                 -0.019026\n",
       "ENTRANCES_AVG                  -0.019173\n",
       "BASEMENTAREA_MODE              -0.019953\n",
       "YEARS_BUILD_MODE               -0.022073\n",
       "BASEMENTAREA_MEDI              -0.022081\n",
       "YEARS_BUILD_AVG                -0.022150\n",
       "YEARS_BUILD_MEDI               -0.022321\n",
       "BASEMENTAREA_AVG               -0.022746\n",
       "LIVINGAPARTMENTS_MODE          -0.023393\n",
       "FLAG_PHONE                     -0.023806\n",
       "HOUR_APPR_PROCESS_START        -0.024166\n",
       "LIVINGAPARTMENTS_MEDI          -0.024621\n",
       "LIVINGAPARTMENTS_AVG           -0.025030\n",
       "APARTMENTS_MODE                -0.027284\n",
       "FLAG_DOCUMENT_6                -0.028602\n",
       "APARTMENTS_MEDI                -0.029184\n",
       "APARTMENTS_AVG                 -0.029497\n",
       "AMT_CREDIT                     -0.030369\n",
       "LIVINGAREA_MODE                -0.030684\n",
       "ELEVATORS_MODE                 -0.032132\n",
       "TOTALAREA_MODE                 -0.032596\n",
       "FLOORSMIN_MODE                 -0.032699\n",
       "LIVINGAREA_MEDI                -0.032740\n",
       "LIVINGAREA_AVG                 -0.032998\n",
       "FLOORSMIN_MEDI                 -0.033396\n",
       "FLOORSMIN_AVG                  -0.033615\n",
       "ELEVATORS_MEDI                 -0.033863\n",
       "ELEVATORS_AVG                  -0.034199\n",
       "REGION_POPULATION_RELATIVE     -0.037231\n",
       "AMT_GOODS_PRICE                -0.039545\n",
       "FLOORSMAX_MODE                 -0.043228\n",
       "FLOORSMAX_MEDI                 -0.043769\n",
       "FLOORSMAX_AVG                  -0.044005\n",
       "DAYS_EMPLOYED                  -0.044932\n",
       "EXT_SOURCE_2                   -0.160576\n",
       "EXT_SOURCE_3                   -0.192481\n",
       "EXT_SOURCE_1                   -0.193733\n",
       "Name: TARGET, dtype: float64"
      ]
     },
     "execution_count": 35,
     "metadata": {},
     "output_type": "execute_result"
    }
   ],
   "source": [
    "corr_matrix = data.corr(numeric_only=True)\n",
    "corr_matrix[target].sort_values(ascending=False)"
   ]
  }
 ],
 "metadata": {
  "kernelspec": {
   "display_name": "riskvenv",
   "language": "python",
   "name": "python3"
  },
  "language_info": {
   "codemirror_mode": {
    "name": "ipython",
    "version": 3
   },
   "file_extension": ".py",
   "mimetype": "text/x-python",
   "name": "python",
   "nbconvert_exporter": "python",
   "pygments_lexer": "ipython3",
   "version": "3.10.1"
  }
 },
 "nbformat": 4,
 "nbformat_minor": 2
}
