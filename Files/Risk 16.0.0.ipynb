{
 "cells": [
  {
   "cell_type": "markdown",
   "metadata": {},
   "source": [
    "# **Libraries**"
   ]
  },
  {
   "cell_type": "code",
   "execution_count": 1,
   "metadata": {},
   "outputs": [],
   "source": [
    "import pandas as pd\n",
    "import numpy as np\n",
    "\n",
    "from feature_engine.selection import DropCorrelatedFeatures\n",
    "from sklearn.utils import shuffle\n",
    "from sklearn.model_selection import train_test_split\n",
    "\n",
    "import lightgbm as lgb\n",
    "from sklearn.metrics import roc_auc_score\n",
    "\n",
    "from feature_engine.encoding import WoEEncoder\n",
    "from feature_engine.imputation import CategoricalImputer\n",
    "from feature_engine.imputation import ArbitraryNumberImputer\n",
    "\n",
    "import functions\n",
    "import importlib\n",
    "importlib.reload(functions)\n",
    "\n",
    "import warnings"
   ]
  },
  {
   "cell_type": "markdown",
   "metadata": {},
   "source": [
    "# **Display**"
   ]
  },
  {
   "cell_type": "code",
   "execution_count": 2,
   "metadata": {},
   "outputs": [],
   "source": [
    "%matplotlib inline\n",
    "\n",
    "pd.options.display.max_rows = 300000\n",
    "pd.options.display.max_columns = 999\n",
    "pd.options.display.max_colwidth = 500\n",
    "\n",
    "warnings.filterwarnings(\"ignore\")\n",
    "warnings.simplefilter(action=\"ignore\", category=FutureWarning)\n",
    "\n",
    "pd.set_option('display.max_rows', 200)\n",
    "\n",
    "size = 20"
   ]
  },
  {
   "cell_type": "markdown",
   "metadata": {},
   "source": [
    "# **Load Data**"
   ]
  },
  {
   "cell_type": "code",
   "execution_count": 3,
   "metadata": {},
   "outputs": [],
   "source": [
    "train = pd.read_csv(\n",
    "    r\"C:\\Users\\Dell\\Documents\\AI\\Risk\\Data\\application_train.csv\",\n",
    "    index_col=False\n",
    ")\n",
    "\n",
    "\n",
    "test = pd.read_csv(\n",
    "    r\"C:\\Users\\Dell\\Documents\\AI\\Risk\\Data\\application_test.csv\",\n",
    "    index_col=False\n",
    ")"
   ]
  },
  {
   "cell_type": "markdown",
   "metadata": {},
   "source": [
    "# **Variables**"
   ]
  },
  {
   "cell_type": "code",
   "execution_count": 4,
   "metadata": {},
   "outputs": [],
   "source": [
    "random_state = 101\n",
    "target = 'TARGET'"
   ]
  },
  {
   "cell_type": "markdown",
   "metadata": {},
   "source": [
    "## **Remove Empty Features**"
   ]
  },
  {
   "cell_type": "code",
   "execution_count": 5,
   "metadata": {},
   "outputs": [],
   "source": [
    "list_columns = functions.check_columns_with_one_uniquevalue(test)"
   ]
  },
  {
   "cell_type": "code",
   "execution_count": 6,
   "metadata": {},
   "outputs": [],
   "source": [
    "train = train.drop(list_columns, axis = 1)"
   ]
  },
  {
   "cell_type": "markdown",
   "metadata": {},
   "source": [
    "## **Reduce Memory Usage**"
   ]
  },
  {
   "cell_type": "code",
   "execution_count": 7,
   "metadata": {},
   "outputs": [
    {
     "name": "stdout",
     "output_type": "stream",
     "text": [
      "Memory usage of dataframe is 260.42 MB\n",
      "Memory usage after optimization is: 89.15 MB\n",
      "Decreased by 65.8%\n"
     ]
    }
   ],
   "source": [
    "train = functions.reduce_memory_usage(train)"
   ]
  },
  {
   "cell_type": "markdown",
   "metadata": {},
   "source": [
    "# **Data Cleaning**"
   ]
  },
  {
   "cell_type": "code",
   "execution_count": 8,
   "metadata": {},
   "outputs": [],
   "source": [
    "train = train[train['CODE_GENDER'] != 'XNA']\n",
    "train['DAYS_EMPLOYED'][train['DAYS_EMPLOYED'] == 365243] = np.nan"
   ]
  },
  {
   "cell_type": "markdown",
   "metadata": {},
   "source": [
    "# **Feature Engineering**"
   ]
  },
  {
   "cell_type": "markdown",
   "metadata": {},
   "source": [
    "## **'DAY_BIRTH' to 'AGE' in Years**"
   ]
  },
  {
   "cell_type": "code",
   "execution_count": 9,
   "metadata": {},
   "outputs": [
    {
     "data": {
      "text/plain": [
       "count    307507.000000\n",
       "mean         43.937061\n",
       "std          11.956116\n",
       "min          20.517808\n",
       "25%          34.008219\n",
       "50%          43.150685\n",
       "75%          53.923288\n",
       "max          69.120548\n",
       "Name: Age, dtype: float64"
      ]
     },
     "execution_count": 9,
     "metadata": {},
     "output_type": "execute_result"
    }
   ],
   "source": [
    "train[\"DAYS_BIRTH\"] = abs(train[\"DAYS_BIRTH\"])\n",
    "train[\"DAYS_BIRTH\"] = train[\"DAYS_BIRTH\"]/365\n",
    "train.rename(columns={'DAYS_BIRTH': 'AGE'}, inplace=True)\n",
    "train[\"AGE\"].describe()  "
   ]
  },
  {
   "cell_type": "markdown",
   "metadata": {},
   "source": [
    "## **'DAYS_EMPLOYED' to 'YEARS_EMPLOYED'**"
   ]
  },
  {
   "cell_type": "code",
   "execution_count": 10,
   "metadata": {},
   "outputs": [
    {
     "data": {
      "text/plain": [
       "count    252133.000000\n",
       "mean          6.531897\n",
       "std           6.406377\n",
       "min           0.000000\n",
       "25%           2.101370\n",
       "50%           4.515068\n",
       "75%           8.698630\n",
       "max          49.073973\n",
       "Name: YEARS_EMPLOYED, dtype: float64"
      ]
     },
     "execution_count": 10,
     "metadata": {},
     "output_type": "execute_result"
    }
   ],
   "source": [
    "train[\"DAYS_EMPLOYED\"] = abs(train[\"DAYS_EMPLOYED\"])\n",
    "train[\"DAYS_EMPLOYED\"] = train[\"DAYS_EMPLOYED\"]/365\n",
    "train.rename(columns={\"DAYS_EMPLOYED\": 'YEARS_EMPLOYED'}, inplace=True)\n",
    "train[\"YEARS_EMPLOYED\"].describe()  "
   ]
  },
  {
   "cell_type": "markdown",
   "metadata": {},
   "source": [
    "## **'DAYS_ID_PUBLISH' to 'YEARS_ID_PUBLISH'**"
   ]
  },
  {
   "cell_type": "code",
   "execution_count": 11,
   "metadata": {},
   "outputs": [
    {
     "data": {
      "text/plain": [
       "count    307507.000000\n",
       "mean          8.203292\n",
       "std           4.135492\n",
       "min           0.000000\n",
       "25%           4.712329\n",
       "50%           8.915068\n",
       "75%          11.778082\n",
       "max          19.717808\n",
       "Name: YEARS_ID_PUBLISH, dtype: float64"
      ]
     },
     "execution_count": 11,
     "metadata": {},
     "output_type": "execute_result"
    }
   ],
   "source": [
    "train[\"DAYS_ID_PUBLISH\"] = abs(train[\"DAYS_ID_PUBLISH\"])\n",
    "train[\"DAYS_ID_PUBLISH\"] = train[\"DAYS_ID_PUBLISH\"]/365\n",
    "train.rename(columns={\"DAYS_ID_PUBLISH\": 'YEARS_ID_PUBLISH'}, inplace=True)\n",
    "train[\"YEARS_ID_PUBLISH\"].describe()  "
   ]
  },
  {
   "cell_type": "markdown",
   "metadata": {},
   "source": [
    "## **'DAYS_REGISTRATION' to 'YEARS_REGISTRATION'**"
   ]
  },
  {
   "cell_type": "code",
   "execution_count": 12,
   "metadata": {},
   "outputs": [
    {
     "data": {
      "text/plain": [
       "count    307507.000000\n",
       "mean               NaN\n",
       "std           0.000000\n",
       "min           0.000000\n",
       "25%           5.507812\n",
       "50%          12.335938\n",
       "75%          20.500000\n",
       "max          67.625000\n",
       "Name: YEARS_REGISTRATION, dtype: float64"
      ]
     },
     "execution_count": 12,
     "metadata": {},
     "output_type": "execute_result"
    }
   ],
   "source": [
    "train[\"DAYS_REGISTRATION\"] = abs(train[\"DAYS_REGISTRATION\"])\n",
    "train[\"DAYS_REGISTRATION\"] = train[\"DAYS_REGISTRATION\"]/365\n",
    "train.rename(columns={\"DAYS_REGISTRATION\": 'YEARS_REGISTRATION'}, inplace=True)\n",
    "train[\"YEARS_REGISTRATION\"].describe()  "
   ]
  },
  {
   "cell_type": "markdown",
   "metadata": {},
   "source": [
    "## **'DAYS_LAST_PHONE_CHANGE' to 'YEARS_LAST_PHONE_CHANGE'**"
   ]
  },
  {
   "cell_type": "code",
   "execution_count": 13,
   "metadata": {},
   "outputs": [
    {
     "data": {
      "text/plain": [
       "count    307506.000000\n",
       "mean               NaN\n",
       "std           0.000000\n",
       "min           0.000000\n",
       "25%           0.750488\n",
       "50%           2.074219\n",
       "75%           4.300781\n",
       "max          11.757812\n",
       "Name: YEARS_LAST_PHONE_CHANGE, dtype: float64"
      ]
     },
     "execution_count": 13,
     "metadata": {},
     "output_type": "execute_result"
    }
   ],
   "source": [
    "train[\"DAYS_LAST_PHONE_CHANGE\"] = abs(train[\"DAYS_LAST_PHONE_CHANGE\"])\n",
    "train[\"DAYS_LAST_PHONE_CHANGE\"] = train[\"DAYS_LAST_PHONE_CHANGE\"]/365\n",
    "train.rename(columns={\"DAYS_LAST_PHONE_CHANGE\": 'YEARS_LAST_PHONE_CHANGE'}, inplace=True)\n",
    "train[\"YEARS_LAST_PHONE_CHANGE\"].describe()  "
   ]
  },
  {
   "cell_type": "markdown",
   "metadata": {},
   "source": [
    "## **Ratio of Credit Amount to Client's Income**"
   ]
  },
  {
   "cell_type": "code",
   "execution_count": 14,
   "metadata": {},
   "outputs": [],
   "source": [
    "train['CREDIT_INCOME_RATIO'] = train['AMT_CREDIT'] / train['AMT_INCOME_TOTAL']"
   ]
  },
  {
   "cell_type": "markdown",
   "metadata": {},
   "source": [
    "## **Ratio of the Loan Annuity to a Client's Income**"
   ]
  },
  {
   "cell_type": "code",
   "execution_count": 15,
   "metadata": {},
   "outputs": [],
   "source": [
    "train['ANNUITY_INCOME_RATIO'] = train['AMT_ANNUITY'] / train['AMT_INCOME_TOTAL']"
   ]
  },
  {
   "cell_type": "markdown",
   "metadata": {},
   "source": [
    "## **Income per Family Member**"
   ]
  },
  {
   "cell_type": "code",
   "execution_count": null,
   "metadata": {},
   "outputs": [],
   "source": [
    "train['INCOME_PER_FAMILY_MEMBER'] = train['AMT_INCOME_TOTAL'] / train['CNT_FAM_MEMBERS']"
   ]
  },
  {
   "cell_type": "markdown",
   "metadata": {},
   "source": [
    "## **Length of the Payment**"
   ]
  },
  {
   "cell_type": "code",
   "execution_count": 16,
   "metadata": {},
   "outputs": [],
   "source": [
    "train['CREDIT_TERM'] = train['AMT_ANNUITY'] / train['AMT_CREDIT'] "
   ]
  },
  {
   "cell_type": "markdown",
   "metadata": {},
   "source": [
    "## **Ratio of the Days Employed to the Client's Age**"
   ]
  },
  {
   "cell_type": "code",
   "execution_count": 17,
   "metadata": {},
   "outputs": [],
   "source": [
    "train['YEARS_EMPLOYED_Ratio'] = train['YEARS_EMPLOYED'] / train['AGE']"
   ]
  },
  {
   "cell_type": "markdown",
   "metadata": {},
   "source": [
    "## **Average of External Sources**"
   ]
  },
  {
   "cell_type": "code",
   "execution_count": null,
   "metadata": {},
   "outputs": [],
   "source": [
    "train['EXT_SOURCE_MEAN'] = train[['EXT_SOURCE_1', 'EXT_SOURCE_2', 'EXT_SOURCE_3']].mean(axis=1)"
   ]
  },
  {
   "cell_type": "markdown",
   "metadata": {},
   "source": [
    "## **Ratio of Dependents to Family Size**"
   ]
  },
  {
   "cell_type": "code",
   "execution_count": null,
   "metadata": {},
   "outputs": [],
   "source": [
    "train['DEPENDENTS_TO_FAMILY_SIZE'] = train['CNT_CHILDREN'] / train['CNT_FAM_MEMBERS']"
   ]
  },
  {
   "cell_type": "markdown",
   "metadata": {},
   "source": [
    "# **Missing Values**"
   ]
  },
  {
   "cell_type": "code",
   "execution_count": null,
   "metadata": {},
   "outputs": [],
   "source": [
    "functions.MissingValues(train)"
   ]
  },
  {
   "cell_type": "markdown",
   "metadata": {},
   "source": [
    "## **Imputation**"
   ]
  },
  {
   "cell_type": "code",
   "execution_count": 19,
   "metadata": {},
   "outputs": [],
   "source": [
    "ani = ArbitraryNumberImputer(arbitrary_number=-99999)\n",
    "ani.fit(train)\n",
    "train = ani.transform(train)"
   ]
  },
  {
   "cell_type": "code",
   "execution_count": 20,
   "metadata": {},
   "outputs": [],
   "source": [
    "ci = CategoricalImputer(imputation_method='missing', fill_value='UNKNOWN')\n",
    "ci.fit(train)\n",
    "train = ci.transform(train)"
   ]
  },
  {
   "cell_type": "markdown",
   "metadata": {},
   "source": [
    "## **WoE Encoder**"
   ]
  },
  {
   "cell_type": "code",
   "execution_count": 21,
   "metadata": {},
   "outputs": [],
   "source": [
    "woe = WoEEncoder(fill_value=0.0001)\n",
    "woe.fit(train, train[target])\n",
    "train = woe.transform(train)"
   ]
  },
  {
   "cell_type": "markdown",
   "metadata": {},
   "source": [
    "## **Train Test Split**"
   ]
  },
  {
   "cell_type": "code",
   "execution_count": 22,
   "metadata": {},
   "outputs": [],
   "source": [
    "X = train.drop('TARGET', axis=1)\n",
    "y = train['TARGET']\n",
    "\n",
    "X, y = shuffle(X, y, random_state=random_state)\n",
    "X_train, X_test, y_train, y_test = train_test_split(X, y, test_size=0.2, stratify=y, random_state=random_state)"
   ]
  },
  {
   "cell_type": "markdown",
   "metadata": {},
   "source": [
    "### **LGBM**"
   ]
  },
  {
   "cell_type": "code",
   "execution_count": 23,
   "metadata": {},
   "outputs": [
    {
     "name": "stdout",
     "output_type": "stream",
     "text": [
      "AUC Score: 0.76\n"
     ]
    }
   ],
   "source": [
    "model = lgb.LGBMClassifier(boosting_type='gbdt', \n",
    "                           num_leaves=31, \n",
    "                           max_depth=-1, \n",
    "                           learning_rate=0.1, \n",
    "                           n_estimators=100,\n",
    "                           verbose=-1)\n",
    "\n",
    "model.fit(X_train, y_train)\n",
    "\n",
    "y_prob = model.predict_proba(X_test)[:, 1]  \n",
    "\n",
    "auc_score = roc_auc_score(y_test, y_prob)\n",
    "print(f\"AUC Score: {auc_score:.2f}\")"
   ]
  },
  {
   "cell_type": "markdown",
   "metadata": {},
   "source": [
    "## **Feature Importance**"
   ]
  },
  {
   "cell_type": "code",
   "execution_count": 24,
   "metadata": {},
   "outputs": [
    {
     "data": {
      "text/html": [
       "<div>\n",
       "<style scoped>\n",
       "    .dataframe tbody tr th:only-of-type {\n",
       "        vertical-align: middle;\n",
       "    }\n",
       "\n",
       "    .dataframe tbody tr th {\n",
       "        vertical-align: top;\n",
       "    }\n",
       "\n",
       "    .dataframe thead th {\n",
       "        text-align: right;\n",
       "    }\n",
       "</style>\n",
       "<table border=\"1\" class=\"dataframe\">\n",
       "  <thead>\n",
       "    <tr style=\"text-align: right;\">\n",
       "      <th></th>\n",
       "      <th>Feature</th>\n",
       "      <th>Importance</th>\n",
       "    </tr>\n",
       "  </thead>\n",
       "  <tbody>\n",
       "    <tr>\n",
       "      <th>112</th>\n",
       "      <td>CREDIT_TERM</td>\n",
       "      <td>333</td>\n",
       "    </tr>\n",
       "    <tr>\n",
       "      <th>42</th>\n",
       "      <td>EXT_SOURCE_3</td>\n",
       "      <td>202</td>\n",
       "    </tr>\n",
       "    <tr>\n",
       "      <th>41</th>\n",
       "      <td>EXT_SOURCE_2</td>\n",
       "      <td>197</td>\n",
       "    </tr>\n",
       "    <tr>\n",
       "      <th>40</th>\n",
       "      <td>EXT_SOURCE_1</td>\n",
       "      <td>167</td>\n",
       "    </tr>\n",
       "    <tr>\n",
       "      <th>16</th>\n",
       "      <td>Age</td>\n",
       "      <td>160</td>\n",
       "    </tr>\n",
       "    <tr>\n",
       "      <th>19</th>\n",
       "      <td>YEARS_ID_PUBLISH</td>\n",
       "      <td>119</td>\n",
       "    </tr>\n",
       "    <tr>\n",
       "      <th>8</th>\n",
       "      <td>AMT_ANNUITY</td>\n",
       "      <td>105</td>\n",
       "    </tr>\n",
       "    <tr>\n",
       "      <th>9</th>\n",
       "      <td>AMT_GOODS_PRICE</td>\n",
       "      <td>92</td>\n",
       "    </tr>\n",
       "    <tr>\n",
       "      <th>113</th>\n",
       "      <td>YEARS_EMPLOYED_PERCENT</td>\n",
       "      <td>80</td>\n",
       "    </tr>\n",
       "    <tr>\n",
       "      <th>17</th>\n",
       "      <td>YEARS_EMPLOYED</td>\n",
       "      <td>76</td>\n",
       "    </tr>\n",
       "    <tr>\n",
       "      <th>7</th>\n",
       "      <td>AMT_CREDIT</td>\n",
       "      <td>75</td>\n",
       "    </tr>\n",
       "    <tr>\n",
       "      <th>39</th>\n",
       "      <td>ORGANIZATION_TYPE</td>\n",
       "      <td>74</td>\n",
       "    </tr>\n",
       "    <tr>\n",
       "      <th>18</th>\n",
       "      <td>YEARS_REGISTRATION</td>\n",
       "      <td>74</td>\n",
       "    </tr>\n",
       "    <tr>\n",
       "      <th>111</th>\n",
       "      <td>ANNUITY_INCOME_PERCENT</td>\n",
       "      <td>72</td>\n",
       "    </tr>\n",
       "    <tr>\n",
       "      <th>94</th>\n",
       "      <td>YEARS_LAST_PHONE_CHANGE</td>\n",
       "      <td>65</td>\n",
       "    </tr>\n",
       "    <tr>\n",
       "      <th>110</th>\n",
       "      <td>CREDIT_INCOME_PERCENT</td>\n",
       "      <td>59</td>\n",
       "    </tr>\n",
       "    <tr>\n",
       "      <th>2</th>\n",
       "      <td>CODE_GENDER</td>\n",
       "      <td>48</td>\n",
       "    </tr>\n",
       "    <tr>\n",
       "      <th>0</th>\n",
       "      <td>SK_ID_CURR</td>\n",
       "      <td>46</td>\n",
       "    </tr>\n",
       "    <tr>\n",
       "      <th>20</th>\n",
       "      <td>OWN_CAR_AGE</td>\n",
       "      <td>44</td>\n",
       "    </tr>\n",
       "    <tr>\n",
       "      <th>27</th>\n",
       "      <td>OCCUPATION_TYPE</td>\n",
       "      <td>40</td>\n",
       "    </tr>\n",
       "    <tr>\n",
       "      <th>15</th>\n",
       "      <td>REGION_POPULATION_RELATIVE</td>\n",
       "      <td>40</td>\n",
       "    </tr>\n",
       "    <tr>\n",
       "      <th>13</th>\n",
       "      <td>NAME_FAMILY_STATUS</td>\n",
       "      <td>35</td>\n",
       "    </tr>\n",
       "    <tr>\n",
       "      <th>12</th>\n",
       "      <td>NAME_EDUCATION_TYPE</td>\n",
       "      <td>33</td>\n",
       "    </tr>\n",
       "    <tr>\n",
       "      <th>109</th>\n",
       "      <td>AMT_REQ_CREDIT_BUREAU_YEAR</td>\n",
       "      <td>30</td>\n",
       "    </tr>\n",
       "    <tr>\n",
       "      <th>6</th>\n",
       "      <td>AMT_INCOME_TOTAL</td>\n",
       "      <td>29</td>\n",
       "    </tr>\n",
       "    <tr>\n",
       "      <th>3</th>\n",
       "      <td>FLAG_OWN_CAR</td>\n",
       "      <td>26</td>\n",
       "    </tr>\n",
       "    <tr>\n",
       "      <th>1</th>\n",
       "      <td>NAME_CONTRACT_TYPE</td>\n",
       "      <td>25</td>\n",
       "    </tr>\n",
       "    <tr>\n",
       "      <th>30</th>\n",
       "      <td>REGION_RATING_CLIENT_W_CITY</td>\n",
       "      <td>24</td>\n",
       "    </tr>\n",
       "    <tr>\n",
       "      <th>91</th>\n",
       "      <td>DEF_30_CNT_SOCIAL_CIRCLE</td>\n",
       "      <td>22</td>\n",
       "    </tr>\n",
       "    <tr>\n",
       "      <th>87</th>\n",
       "      <td>TOTALAREA_MODE</td>\n",
       "      <td>22</td>\n",
       "    </tr>\n",
       "    <tr>\n",
       "      <th>108</th>\n",
       "      <td>AMT_REQ_CREDIT_BUREAU_QRT</td>\n",
       "      <td>22</td>\n",
       "    </tr>\n",
       "    <tr>\n",
       "      <th>32</th>\n",
       "      <td>HOUR_APPR_PROCESS_START</td>\n",
       "      <td>21</td>\n",
       "    </tr>\n",
       "    <tr>\n",
       "      <th>23</th>\n",
       "      <td>FLAG_WORK_PHONE</td>\n",
       "      <td>20</td>\n",
       "    </tr>\n",
       "    <tr>\n",
       "      <th>31</th>\n",
       "      <td>WEEKDAY_APPR_PROCESS_START</td>\n",
       "      <td>19</td>\n",
       "    </tr>\n",
       "    <tr>\n",
       "      <th>28</th>\n",
       "      <td>CNT_FAM_MEMBERS</td>\n",
       "      <td>19</td>\n",
       "    </tr>\n",
       "    <tr>\n",
       "      <th>95</th>\n",
       "      <td>FLAG_DOCUMENT_3</td>\n",
       "      <td>17</td>\n",
       "    </tr>\n",
       "    <tr>\n",
       "      <th>90</th>\n",
       "      <td>OBS_30_CNT_SOCIAL_CIRCLE</td>\n",
       "      <td>17</td>\n",
       "    </tr>\n",
       "    <tr>\n",
       "      <th>49</th>\n",
       "      <td>ENTRANCES_AVG</td>\n",
       "      <td>16</td>\n",
       "    </tr>\n",
       "    <tr>\n",
       "      <th>52</th>\n",
       "      <td>LANDAREA_AVG</td>\n",
       "      <td>16</td>\n",
       "    </tr>\n",
       "    <tr>\n",
       "      <th>66</th>\n",
       "      <td>LANDAREA_MODE</td>\n",
       "      <td>16</td>\n",
       "    </tr>\n",
       "    <tr>\n",
       "      <th>47</th>\n",
       "      <td>COMMONAREA_AVG</td>\n",
       "      <td>15</td>\n",
       "    </tr>\n",
       "    <tr>\n",
       "      <th>70</th>\n",
       "      <td>NONLIVINGAREA_MODE</td>\n",
       "      <td>14</td>\n",
       "    </tr>\n",
       "    <tr>\n",
       "      <th>36</th>\n",
       "      <td>REG_CITY_NOT_LIVE_CITY</td>\n",
       "      <td>14</td>\n",
       "    </tr>\n",
       "    <tr>\n",
       "      <th>93</th>\n",
       "      <td>DEF_60_CNT_SOCIAL_CIRCLE</td>\n",
       "      <td>13</td>\n",
       "    </tr>\n",
       "    <tr>\n",
       "      <th>11</th>\n",
       "      <td>NAME_INCOME_TYPE</td>\n",
       "      <td>13</td>\n",
       "    </tr>\n",
       "    <tr>\n",
       "      <th>50</th>\n",
       "      <td>FLOORSMAX_AVG</td>\n",
       "      <td>12</td>\n",
       "    </tr>\n",
       "    <tr>\n",
       "      <th>43</th>\n",
       "      <td>APARTMENTS_AVG</td>\n",
       "      <td>12</td>\n",
       "    </tr>\n",
       "    <tr>\n",
       "      <th>10</th>\n",
       "      <td>NAME_TYPE_SUITE</td>\n",
       "      <td>11</td>\n",
       "    </tr>\n",
       "    <tr>\n",
       "      <th>67</th>\n",
       "      <td>LIVINGAPARTMENTS_MODE</td>\n",
       "      <td>11</td>\n",
       "    </tr>\n",
       "    <tr>\n",
       "      <th>57</th>\n",
       "      <td>APARTMENTS_MODE</td>\n",
       "      <td>11</td>\n",
       "    </tr>\n",
       "    <tr>\n",
       "      <th>45</th>\n",
       "      <td>YEARS_BEGINEXPLUATATION_AVG</td>\n",
       "      <td>10</td>\n",
       "    </tr>\n",
       "    <tr>\n",
       "      <th>14</th>\n",
       "      <td>NAME_HOUSING_TYPE</td>\n",
       "      <td>10</td>\n",
       "    </tr>\n",
       "    <tr>\n",
       "      <th>58</th>\n",
       "      <td>BASEMENTAREA_MODE</td>\n",
       "      <td>10</td>\n",
       "    </tr>\n",
       "    <tr>\n",
       "      <th>104</th>\n",
       "      <td>AMT_REQ_CREDIT_BUREAU_HOUR</td>\n",
       "      <td>10</td>\n",
       "    </tr>\n",
       "    <tr>\n",
       "      <th>68</th>\n",
       "      <td>LIVINGAREA_MODE</td>\n",
       "      <td>10</td>\n",
       "    </tr>\n",
       "    <tr>\n",
       "      <th>55</th>\n",
       "      <td>NONLIVINGAPARTMENTS_AVG</td>\n",
       "      <td>10</td>\n",
       "    </tr>\n",
       "    <tr>\n",
       "      <th>92</th>\n",
       "      <td>OBS_60_CNT_SOCIAL_CIRCLE</td>\n",
       "      <td>9</td>\n",
       "    </tr>\n",
       "    <tr>\n",
       "      <th>88</th>\n",
       "      <td>WALLSMATERIAL_MODE</td>\n",
       "      <td>9</td>\n",
       "    </tr>\n",
       "    <tr>\n",
       "      <th>82</th>\n",
       "      <td>LIVINGAREA_MEDI</td>\n",
       "      <td>9</td>\n",
       "    </tr>\n",
       "    <tr>\n",
       "      <th>54</th>\n",
       "      <td>LIVINGAREA_AVG</td>\n",
       "      <td>9</td>\n",
       "    </tr>\n",
       "    <tr>\n",
       "      <th>59</th>\n",
       "      <td>YEARS_BEGINEXPLUATATION_MODE</td>\n",
       "      <td>9</td>\n",
       "    </tr>\n",
       "    <tr>\n",
       "      <th>73</th>\n",
       "      <td>YEARS_BEGINEXPLUATATION_MEDI</td>\n",
       "      <td>9</td>\n",
       "    </tr>\n",
       "    <tr>\n",
       "      <th>53</th>\n",
       "      <td>LIVINGAPARTMENTS_AVG</td>\n",
       "      <td>9</td>\n",
       "    </tr>\n",
       "    <tr>\n",
       "      <th>56</th>\n",
       "      <td>NONLIVINGAREA_AVG</td>\n",
       "      <td>8</td>\n",
       "    </tr>\n",
       "    <tr>\n",
       "      <th>69</th>\n",
       "      <td>NONLIVINGAPARTMENTS_MODE</td>\n",
       "      <td>8</td>\n",
       "    </tr>\n",
       "    <tr>\n",
       "      <th>5</th>\n",
       "      <td>CNT_CHILDREN</td>\n",
       "      <td>7</td>\n",
       "    </tr>\n",
       "    <tr>\n",
       "      <th>84</th>\n",
       "      <td>NONLIVINGAREA_MEDI</td>\n",
       "      <td>7</td>\n",
       "    </tr>\n",
       "    <tr>\n",
       "      <th>77</th>\n",
       "      <td>ENTRANCES_MEDI</td>\n",
       "      <td>7</td>\n",
       "    </tr>\n",
       "    <tr>\n",
       "      <th>60</th>\n",
       "      <td>YEARS_BUILD_MODE</td>\n",
       "      <td>6</td>\n",
       "    </tr>\n",
       "    <tr>\n",
       "      <th>107</th>\n",
       "      <td>AMT_REQ_CREDIT_BUREAU_MON</td>\n",
       "      <td>6</td>\n",
       "    </tr>\n",
       "    <tr>\n",
       "      <th>72</th>\n",
       "      <td>BASEMENTAREA_MEDI</td>\n",
       "      <td>6</td>\n",
       "    </tr>\n",
       "    <tr>\n",
       "      <th>51</th>\n",
       "      <td>FLOORSMIN_AVG</td>\n",
       "      <td>6</td>\n",
       "    </tr>\n",
       "    <tr>\n",
       "      <th>46</th>\n",
       "      <td>YEARS_BUILD_AVG</td>\n",
       "      <td>6</td>\n",
       "    </tr>\n",
       "    <tr>\n",
       "      <th>61</th>\n",
       "      <td>COMMONAREA_MODE</td>\n",
       "      <td>6</td>\n",
       "    </tr>\n",
       "    <tr>\n",
       "      <th>80</th>\n",
       "      <td>LANDAREA_MEDI</td>\n",
       "      <td>5</td>\n",
       "    </tr>\n",
       "    <tr>\n",
       "      <th>29</th>\n",
       "      <td>REGION_RATING_CLIENT</td>\n",
       "      <td>5</td>\n",
       "    </tr>\n",
       "    <tr>\n",
       "      <th>25</th>\n",
       "      <td>FLAG_PHONE</td>\n",
       "      <td>5</td>\n",
       "    </tr>\n",
       "    <tr>\n",
       "      <th>48</th>\n",
       "      <td>ELEVATORS_AVG</td>\n",
       "      <td>5</td>\n",
       "    </tr>\n",
       "    <tr>\n",
       "      <th>44</th>\n",
       "      <td>BASEMENTAREA_AVG</td>\n",
       "      <td>5</td>\n",
       "    </tr>\n",
       "    <tr>\n",
       "      <th>71</th>\n",
       "      <td>APARTMENTS_MEDI</td>\n",
       "      <td>5</td>\n",
       "    </tr>\n",
       "    <tr>\n",
       "      <th>78</th>\n",
       "      <td>FLOORSMAX_MEDI</td>\n",
       "      <td>5</td>\n",
       "    </tr>\n",
       "    <tr>\n",
       "      <th>75</th>\n",
       "      <td>COMMONAREA_MEDI</td>\n",
       "      <td>4</td>\n",
       "    </tr>\n",
       "    <tr>\n",
       "      <th>98</th>\n",
       "      <td>FLAG_DOCUMENT_6</td>\n",
       "      <td>4</td>\n",
       "    </tr>\n",
       "    <tr>\n",
       "      <th>103</th>\n",
       "      <td>FLAG_DOCUMENT_18</td>\n",
       "      <td>4</td>\n",
       "    </tr>\n",
       "    <tr>\n",
       "      <th>85</th>\n",
       "      <td>FONDKAPREMONT_MODE</td>\n",
       "      <td>3</td>\n",
       "    </tr>\n",
       "    <tr>\n",
       "      <th>65</th>\n",
       "      <td>FLOORSMIN_MODE</td>\n",
       "      <td>3</td>\n",
       "    </tr>\n",
       "    <tr>\n",
       "      <th>63</th>\n",
       "      <td>ENTRANCES_MODE</td>\n",
       "      <td>3</td>\n",
       "    </tr>\n",
       "    <tr>\n",
       "      <th>81</th>\n",
       "      <td>LIVINGAPARTMENTS_MEDI</td>\n",
       "      <td>3</td>\n",
       "    </tr>\n",
       "    <tr>\n",
       "      <th>74</th>\n",
       "      <td>YEARS_BUILD_MEDI</td>\n",
       "      <td>3</td>\n",
       "    </tr>\n",
       "    <tr>\n",
       "      <th>83</th>\n",
       "      <td>NONLIVINGAPARTMENTS_MEDI</td>\n",
       "      <td>2</td>\n",
       "    </tr>\n",
       "    <tr>\n",
       "      <th>34</th>\n",
       "      <td>REG_REGION_NOT_WORK_REGION</td>\n",
       "      <td>2</td>\n",
       "    </tr>\n",
       "    <tr>\n",
       "      <th>4</th>\n",
       "      <td>FLAG_OWN_REALTY</td>\n",
       "      <td>2</td>\n",
       "    </tr>\n",
       "    <tr>\n",
       "      <th>64</th>\n",
       "      <td>FLOORSMAX_MODE</td>\n",
       "      <td>2</td>\n",
       "    </tr>\n",
       "    <tr>\n",
       "      <th>76</th>\n",
       "      <td>ELEVATORS_MEDI</td>\n",
       "      <td>2</td>\n",
       "    </tr>\n",
       "    <tr>\n",
       "      <th>100</th>\n",
       "      <td>FLAG_DOCUMENT_8</td>\n",
       "      <td>2</td>\n",
       "    </tr>\n",
       "    <tr>\n",
       "      <th>86</th>\n",
       "      <td>HOUSETYPE_MODE</td>\n",
       "      <td>2</td>\n",
       "    </tr>\n",
       "    <tr>\n",
       "      <th>35</th>\n",
       "      <td>LIVE_REGION_NOT_WORK_REGION</td>\n",
       "      <td>1</td>\n",
       "    </tr>\n",
       "    <tr>\n",
       "      <th>26</th>\n",
       "      <td>FLAG_EMAIL</td>\n",
       "      <td>1</td>\n",
       "    </tr>\n",
       "    <tr>\n",
       "      <th>89</th>\n",
       "      <td>EMERGENCYSTATE_MODE</td>\n",
       "      <td>1</td>\n",
       "    </tr>\n",
       "    <tr>\n",
       "      <th>105</th>\n",
       "      <td>AMT_REQ_CREDIT_BUREAU_DAY</td>\n",
       "      <td>1</td>\n",
       "    </tr>\n",
       "    <tr>\n",
       "      <th>106</th>\n",
       "      <td>AMT_REQ_CREDIT_BUREAU_WEEK</td>\n",
       "      <td>1</td>\n",
       "    </tr>\n",
       "    <tr>\n",
       "      <th>38</th>\n",
       "      <td>LIVE_CITY_NOT_WORK_CITY</td>\n",
       "      <td>0</td>\n",
       "    </tr>\n",
       "    <tr>\n",
       "      <th>24</th>\n",
       "      <td>FLAG_CONT_MOBILE</td>\n",
       "      <td>0</td>\n",
       "    </tr>\n",
       "    <tr>\n",
       "      <th>22</th>\n",
       "      <td>FLAG_EMP_PHONE</td>\n",
       "      <td>0</td>\n",
       "    </tr>\n",
       "    <tr>\n",
       "      <th>21</th>\n",
       "      <td>FLAG_MOBIL</td>\n",
       "      <td>0</td>\n",
       "    </tr>\n",
       "    <tr>\n",
       "      <th>33</th>\n",
       "      <td>REG_REGION_NOT_LIVE_REGION</td>\n",
       "      <td>0</td>\n",
       "    </tr>\n",
       "    <tr>\n",
       "      <th>37</th>\n",
       "      <td>REG_CITY_NOT_WORK_CITY</td>\n",
       "      <td>0</td>\n",
       "    </tr>\n",
       "    <tr>\n",
       "      <th>62</th>\n",
       "      <td>ELEVATORS_MODE</td>\n",
       "      <td>0</td>\n",
       "    </tr>\n",
       "    <tr>\n",
       "      <th>79</th>\n",
       "      <td>FLOORSMIN_MEDI</td>\n",
       "      <td>0</td>\n",
       "    </tr>\n",
       "    <tr>\n",
       "      <th>96</th>\n",
       "      <td>FLAG_DOCUMENT_4</td>\n",
       "      <td>0</td>\n",
       "    </tr>\n",
       "    <tr>\n",
       "      <th>97</th>\n",
       "      <td>FLAG_DOCUMENT_5</td>\n",
       "      <td>0</td>\n",
       "    </tr>\n",
       "    <tr>\n",
       "      <th>102</th>\n",
       "      <td>FLAG_DOCUMENT_11</td>\n",
       "      <td>0</td>\n",
       "    </tr>\n",
       "    <tr>\n",
       "      <th>99</th>\n",
       "      <td>FLAG_DOCUMENT_7</td>\n",
       "      <td>0</td>\n",
       "    </tr>\n",
       "    <tr>\n",
       "      <th>101</th>\n",
       "      <td>FLAG_DOCUMENT_9</td>\n",
       "      <td>0</td>\n",
       "    </tr>\n",
       "  </tbody>\n",
       "</table>\n",
       "</div>"
      ],
      "text/plain": [
       "                          Feature  Importance\n",
       "112                   CREDIT_TERM         333\n",
       "42                   EXT_SOURCE_3         202\n",
       "41                   EXT_SOURCE_2         197\n",
       "40                   EXT_SOURCE_1         167\n",
       "16                            Age         160\n",
       "19               YEARS_ID_PUBLISH         119\n",
       "8                     AMT_ANNUITY         105\n",
       "9                 AMT_GOODS_PRICE          92\n",
       "113        YEARS_EMPLOYED_PERCENT          80\n",
       "17                 YEARS_EMPLOYED          76\n",
       "7                      AMT_CREDIT          75\n",
       "39              ORGANIZATION_TYPE          74\n",
       "18             YEARS_REGISTRATION          74\n",
       "111        ANNUITY_INCOME_PERCENT          72\n",
       "94        YEARS_LAST_PHONE_CHANGE          65\n",
       "110         CREDIT_INCOME_PERCENT          59\n",
       "2                     CODE_GENDER          48\n",
       "0                      SK_ID_CURR          46\n",
       "20                    OWN_CAR_AGE          44\n",
       "27                OCCUPATION_TYPE          40\n",
       "15     REGION_POPULATION_RELATIVE          40\n",
       "13             NAME_FAMILY_STATUS          35\n",
       "12            NAME_EDUCATION_TYPE          33\n",
       "109    AMT_REQ_CREDIT_BUREAU_YEAR          30\n",
       "6                AMT_INCOME_TOTAL          29\n",
       "3                    FLAG_OWN_CAR          26\n",
       "1              NAME_CONTRACT_TYPE          25\n",
       "30    REGION_RATING_CLIENT_W_CITY          24\n",
       "91       DEF_30_CNT_SOCIAL_CIRCLE          22\n",
       "87                 TOTALAREA_MODE          22\n",
       "108     AMT_REQ_CREDIT_BUREAU_QRT          22\n",
       "32        HOUR_APPR_PROCESS_START          21\n",
       "23                FLAG_WORK_PHONE          20\n",
       "31     WEEKDAY_APPR_PROCESS_START          19\n",
       "28                CNT_FAM_MEMBERS          19\n",
       "95                FLAG_DOCUMENT_3          17\n",
       "90       OBS_30_CNT_SOCIAL_CIRCLE          17\n",
       "49                  ENTRANCES_AVG          16\n",
       "52                   LANDAREA_AVG          16\n",
       "66                  LANDAREA_MODE          16\n",
       "47                 COMMONAREA_AVG          15\n",
       "70             NONLIVINGAREA_MODE          14\n",
       "36         REG_CITY_NOT_LIVE_CITY          14\n",
       "93       DEF_60_CNT_SOCIAL_CIRCLE          13\n",
       "11               NAME_INCOME_TYPE          13\n",
       "50                  FLOORSMAX_AVG          12\n",
       "43                 APARTMENTS_AVG          12\n",
       "10                NAME_TYPE_SUITE          11\n",
       "67          LIVINGAPARTMENTS_MODE          11\n",
       "57                APARTMENTS_MODE          11\n",
       "45    YEARS_BEGINEXPLUATATION_AVG          10\n",
       "14              NAME_HOUSING_TYPE          10\n",
       "58              BASEMENTAREA_MODE          10\n",
       "104    AMT_REQ_CREDIT_BUREAU_HOUR          10\n",
       "68                LIVINGAREA_MODE          10\n",
       "55        NONLIVINGAPARTMENTS_AVG          10\n",
       "92       OBS_60_CNT_SOCIAL_CIRCLE           9\n",
       "88             WALLSMATERIAL_MODE           9\n",
       "82                LIVINGAREA_MEDI           9\n",
       "54                 LIVINGAREA_AVG           9\n",
       "59   YEARS_BEGINEXPLUATATION_MODE           9\n",
       "73   YEARS_BEGINEXPLUATATION_MEDI           9\n",
       "53           LIVINGAPARTMENTS_AVG           9\n",
       "56              NONLIVINGAREA_AVG           8\n",
       "69       NONLIVINGAPARTMENTS_MODE           8\n",
       "5                    CNT_CHILDREN           7\n",
       "84             NONLIVINGAREA_MEDI           7\n",
       "77                 ENTRANCES_MEDI           7\n",
       "60               YEARS_BUILD_MODE           6\n",
       "107     AMT_REQ_CREDIT_BUREAU_MON           6\n",
       "72              BASEMENTAREA_MEDI           6\n",
       "51                  FLOORSMIN_AVG           6\n",
       "46                YEARS_BUILD_AVG           6\n",
       "61                COMMONAREA_MODE           6\n",
       "80                  LANDAREA_MEDI           5\n",
       "29           REGION_RATING_CLIENT           5\n",
       "25                     FLAG_PHONE           5\n",
       "48                  ELEVATORS_AVG           5\n",
       "44               BASEMENTAREA_AVG           5\n",
       "71                APARTMENTS_MEDI           5\n",
       "78                 FLOORSMAX_MEDI           5\n",
       "75                COMMONAREA_MEDI           4\n",
       "98                FLAG_DOCUMENT_6           4\n",
       "103              FLAG_DOCUMENT_18           4\n",
       "85             FONDKAPREMONT_MODE           3\n",
       "65                 FLOORSMIN_MODE           3\n",
       "63                 ENTRANCES_MODE           3\n",
       "81          LIVINGAPARTMENTS_MEDI           3\n",
       "74               YEARS_BUILD_MEDI           3\n",
       "83       NONLIVINGAPARTMENTS_MEDI           2\n",
       "34     REG_REGION_NOT_WORK_REGION           2\n",
       "4                 FLAG_OWN_REALTY           2\n",
       "64                 FLOORSMAX_MODE           2\n",
       "76                 ELEVATORS_MEDI           2\n",
       "100               FLAG_DOCUMENT_8           2\n",
       "86                 HOUSETYPE_MODE           2\n",
       "35    LIVE_REGION_NOT_WORK_REGION           1\n",
       "26                     FLAG_EMAIL           1\n",
       "89            EMERGENCYSTATE_MODE           1\n",
       "105     AMT_REQ_CREDIT_BUREAU_DAY           1\n",
       "106    AMT_REQ_CREDIT_BUREAU_WEEK           1\n",
       "38        LIVE_CITY_NOT_WORK_CITY           0\n",
       "24               FLAG_CONT_MOBILE           0\n",
       "22                 FLAG_EMP_PHONE           0\n",
       "21                     FLAG_MOBIL           0\n",
       "33     REG_REGION_NOT_LIVE_REGION           0\n",
       "37         REG_CITY_NOT_WORK_CITY           0\n",
       "62                 ELEVATORS_MODE           0\n",
       "79                 FLOORSMIN_MEDI           0\n",
       "96                FLAG_DOCUMENT_4           0\n",
       "97                FLAG_DOCUMENT_5           0\n",
       "102              FLAG_DOCUMENT_11           0\n",
       "99                FLAG_DOCUMENT_7           0\n",
       "101               FLAG_DOCUMENT_9           0"
      ]
     },
     "execution_count": 24,
     "metadata": {},
     "output_type": "execute_result"
    }
   ],
   "source": [
    "feature_importance = model.feature_importances_\n",
    "feature_names = X.columns\n",
    "\n",
    "importance_df = pd.DataFrame({'Feature': feature_names, 'Importance': feature_importance})\n",
    "importance_df = importance_df.sort_values(by='Importance', ascending=False).reset_index(drop=True)\n",
    "\n",
    "importance_df"
   ]
  },
  {
   "cell_type": "markdown",
   "metadata": {},
   "source": [
    "## **Keep Columns**"
   ]
  },
  {
   "cell_type": "code",
   "execution_count": 25,
   "metadata": {},
   "outputs": [],
   "source": [
    "columns = ['CREDIT_TERM',\n",
    "                   'EXT_SOURCE_3',\n",
    "                   'EXT_SOURCE_1',\n",
    "                   'EXT_SOURCE_2',\n",
    "                   'YEARS_ID_PUBLISH',\n",
    "                   'AMT_ANNUITY', \n",
    "                   'AMT_GOODS_PRICE', \n",
    "                   'YEARS_EMPLOYED_PERCENT',\n",
    "                   'YEARS_EMPLOYED',\n",
    "                   'ORGANIZATION_TYPE',\n",
    "                   'AMT_CREDIT',\n",
    "                   'YEARS_REGISTRATION',\n",
    "                   'YEARS_LAST_PHONE_CHANGE',\n",
    "                   'ANNUITY_INCOME_PERCENT',\n",
    "                   'CREDIT_INCOME_PERCENT',\n",
    "                   'OCCUPATION_TYPE',\n",
    "                   'OWN_CAR_AGE',\n",
    "                   'CODE_GENDER',\n",
    "                   'REGION_POPULATION_RELATIVE',\n",
    "                   'TARGET'] \n",
    "train = train[columns]"
   ]
  },
  {
   "cell_type": "markdown",
   "metadata": {},
   "source": [
    "### **LGBM**"
   ]
  },
  {
   "cell_type": "code",
   "execution_count": 27,
   "metadata": {},
   "outputs": [],
   "source": [
    "X = train.drop('TARGET', axis=1)\n",
    "y = train['TARGET']\n",
    "\n",
    "X, y = shuffle(X, y, random_state=random_state)\n",
    "X_train, X_test, y_train, y_test = train_test_split(X, y, test_size=0.2, stratify=y, random_state=random_state)"
   ]
  },
  {
   "cell_type": "code",
   "execution_count": 28,
   "metadata": {},
   "outputs": [
    {
     "name": "stdout",
     "output_type": "stream",
     "text": [
      "AUC Score: 0.76\n"
     ]
    }
   ],
   "source": [
    "model = lgb.LGBMClassifier(boosting_type='gbdt', \n",
    "                           num_leaves=31, \n",
    "                           max_depth=-1, \n",
    "                           learning_rate=0.1, \n",
    "                           n_estimators=100,\n",
    "                           verbose=-1)\n",
    "\n",
    "model.fit(X_train, y_train)\n",
    "\n",
    "y_prob = model.predict_proba(X_test)[:, 1]  \n",
    "\n",
    "auc_score = roc_auc_score(y_test, y_prob)\n",
    "print(f\"AUC Score: {auc_score:.2f}\")"
   ]
  },
  {
   "cell_type": "markdown",
   "metadata": {},
   "source": [
    "## **Feature Importance**"
   ]
  },
  {
   "cell_type": "code",
   "execution_count": 29,
   "metadata": {},
   "outputs": [
    {
     "data": {
      "text/html": [
       "<div>\n",
       "<style scoped>\n",
       "    .dataframe tbody tr th:only-of-type {\n",
       "        vertical-align: middle;\n",
       "    }\n",
       "\n",
       "    .dataframe tbody tr th {\n",
       "        vertical-align: top;\n",
       "    }\n",
       "\n",
       "    .dataframe thead th {\n",
       "        text-align: right;\n",
       "    }\n",
       "</style>\n",
       "<table border=\"1\" class=\"dataframe\">\n",
       "  <thead>\n",
       "    <tr style=\"text-align: right;\">\n",
       "      <th></th>\n",
       "      <th>Feature</th>\n",
       "      <th>Importance</th>\n",
       "    </tr>\n",
       "  </thead>\n",
       "  <tbody>\n",
       "    <tr>\n",
       "      <th>0</th>\n",
       "      <td>CREDIT_TERM</td>\n",
       "      <td>460</td>\n",
       "    </tr>\n",
       "    <tr>\n",
       "      <th>1</th>\n",
       "      <td>EXT_SOURCE_3</td>\n",
       "      <td>271</td>\n",
       "    </tr>\n",
       "    <tr>\n",
       "      <th>3</th>\n",
       "      <td>EXT_SOURCE_2</td>\n",
       "      <td>248</td>\n",
       "    </tr>\n",
       "    <tr>\n",
       "      <th>2</th>\n",
       "      <td>EXT_SOURCE_1</td>\n",
       "      <td>218</td>\n",
       "    </tr>\n",
       "    <tr>\n",
       "      <th>4</th>\n",
       "      <td>YEARS_ID_PUBLISH</td>\n",
       "      <td>177</td>\n",
       "    </tr>\n",
       "    <tr>\n",
       "      <th>5</th>\n",
       "      <td>AMT_ANNUITY</td>\n",
       "      <td>156</td>\n",
       "    </tr>\n",
       "    <tr>\n",
       "      <th>6</th>\n",
       "      <td>AMT_GOODS_PRICE</td>\n",
       "      <td>148</td>\n",
       "    </tr>\n",
       "    <tr>\n",
       "      <th>11</th>\n",
       "      <td>YEARS_REGISTRATION</td>\n",
       "      <td>147</td>\n",
       "    </tr>\n",
       "    <tr>\n",
       "      <th>12</th>\n",
       "      <td>YEARS_LAST_PHONE_CHANGE</td>\n",
       "      <td>132</td>\n",
       "    </tr>\n",
       "    <tr>\n",
       "      <th>13</th>\n",
       "      <td>ANNUITY_INCOME_PERCENT</td>\n",
       "      <td>132</td>\n",
       "    </tr>\n",
       "    <tr>\n",
       "      <th>8</th>\n",
       "      <td>YEARS_EMPLOYED</td>\n",
       "      <td>128</td>\n",
       "    </tr>\n",
       "    <tr>\n",
       "      <th>9</th>\n",
       "      <td>ORGANIZATION_TYPE</td>\n",
       "      <td>126</td>\n",
       "    </tr>\n",
       "    <tr>\n",
       "      <th>10</th>\n",
       "      <td>AMT_CREDIT</td>\n",
       "      <td>126</td>\n",
       "    </tr>\n",
       "    <tr>\n",
       "      <th>7</th>\n",
       "      <td>YEARS_EMPLOYED_PERCENT</td>\n",
       "      <td>121</td>\n",
       "    </tr>\n",
       "    <tr>\n",
       "      <th>16</th>\n",
       "      <td>OWN_CAR_AGE</td>\n",
       "      <td>105</td>\n",
       "    </tr>\n",
       "    <tr>\n",
       "      <th>18</th>\n",
       "      <td>REGION_POPULATION_RELATIVE</td>\n",
       "      <td>99</td>\n",
       "    </tr>\n",
       "    <tr>\n",
       "      <th>14</th>\n",
       "      <td>CREDIT_INCOME_PERCENT</td>\n",
       "      <td>93</td>\n",
       "    </tr>\n",
       "    <tr>\n",
       "      <th>15</th>\n",
       "      <td>OCCUPATION_TYPE</td>\n",
       "      <td>70</td>\n",
       "    </tr>\n",
       "    <tr>\n",
       "      <th>17</th>\n",
       "      <td>CODE_GENDER</td>\n",
       "      <td>43</td>\n",
       "    </tr>\n",
       "  </tbody>\n",
       "</table>\n",
       "</div>"
      ],
      "text/plain": [
       "                       Feature  Importance\n",
       "0                  CREDIT_TERM         460\n",
       "1                 EXT_SOURCE_3         271\n",
       "3                 EXT_SOURCE_2         248\n",
       "2                 EXT_SOURCE_1         218\n",
       "4             YEARS_ID_PUBLISH         177\n",
       "5                  AMT_ANNUITY         156\n",
       "6              AMT_GOODS_PRICE         148\n",
       "11          YEARS_REGISTRATION         147\n",
       "12     YEARS_LAST_PHONE_CHANGE         132\n",
       "13      ANNUITY_INCOME_PERCENT         132\n",
       "8               YEARS_EMPLOYED         128\n",
       "9            ORGANIZATION_TYPE         126\n",
       "10                  AMT_CREDIT         126\n",
       "7       YEARS_EMPLOYED_PERCENT         121\n",
       "16                 OWN_CAR_AGE         105\n",
       "18  REGION_POPULATION_RELATIVE          99\n",
       "14       CREDIT_INCOME_PERCENT          93\n",
       "15             OCCUPATION_TYPE          70\n",
       "17                 CODE_GENDER          43"
      ]
     },
     "execution_count": 29,
     "metadata": {},
     "output_type": "execute_result"
    }
   ],
   "source": [
    "feature_importance = model.feature_importances_\n",
    "feature_names = X.columns\n",
    "\n",
    "importance_df = pd.DataFrame({'Feature': feature_names, 'Importance': feature_importance})\n",
    "importance_df = importance_df.sort_values(by='Importance', ascending=False).reset_index(drop=True)\n",
    "\n",
    "importance_df"
   ]
  },
  {
   "cell_type": "markdown",
   "metadata": {},
   "source": [
    "## **Drop Columns**"
   ]
  },
  {
   "cell_type": "code",
   "execution_count": 30,
   "metadata": {},
   "outputs": [],
   "source": [
    "columns = ['CODE_GENDER'\n",
    "                ] \n",
    "train = train.drop(columns=columns)"
   ]
  },
  {
   "cell_type": "markdown",
   "metadata": {},
   "source": [
    "### **LGBM**"
   ]
  },
  {
   "cell_type": "code",
   "execution_count": 31,
   "metadata": {},
   "outputs": [],
   "source": [
    "X = train.drop('TARGET', axis=1)\n",
    "y = train['TARGET']\n",
    "\n",
    "X, y = shuffle(X, y, random_state=random_state)\n",
    "X_train, X_test, y_train, y_test = train_test_split(X, y, test_size=0.2, stratify=y, random_state=random_state)"
   ]
  },
  {
   "cell_type": "code",
   "execution_count": 32,
   "metadata": {},
   "outputs": [
    {
     "name": "stdout",
     "output_type": "stream",
     "text": [
      "AUC Score: 0.76\n"
     ]
    }
   ],
   "source": [
    "model = lgb.LGBMClassifier(boosting_type='gbdt', \n",
    "                           num_leaves=31, \n",
    "                           max_depth=-1, \n",
    "                           learning_rate=0.1, \n",
    "                           n_estimators=100,\n",
    "                           verbose=-1)\n",
    "\n",
    "model.fit(X_train, y_train)\n",
    "\n",
    "y_prob = model.predict_proba(X_test)[:, 1]  \n",
    "\n",
    "auc_score = roc_auc_score(y_test, y_prob)\n",
    "print(f\"AUC Score: {auc_score:.2f}\")"
   ]
  },
  {
   "cell_type": "markdown",
   "metadata": {},
   "source": [
    "## **Feature Importance**"
   ]
  },
  {
   "cell_type": "code",
   "execution_count": 34,
   "metadata": {},
   "outputs": [
    {
     "data": {
      "text/html": [
       "<div>\n",
       "<style scoped>\n",
       "    .dataframe tbody tr th:only-of-type {\n",
       "        vertical-align: middle;\n",
       "    }\n",
       "\n",
       "    .dataframe tbody tr th {\n",
       "        vertical-align: top;\n",
       "    }\n",
       "\n",
       "    .dataframe thead th {\n",
       "        text-align: right;\n",
       "    }\n",
       "</style>\n",
       "<table border=\"1\" class=\"dataframe\">\n",
       "  <thead>\n",
       "    <tr style=\"text-align: right;\">\n",
       "      <th></th>\n",
       "      <th>Feature</th>\n",
       "      <th>Importance</th>\n",
       "    </tr>\n",
       "  </thead>\n",
       "  <tbody>\n",
       "    <tr>\n",
       "      <th>0</th>\n",
       "      <td>CREDIT_TERM</td>\n",
       "      <td>425</td>\n",
       "    </tr>\n",
       "    <tr>\n",
       "      <th>1</th>\n",
       "      <td>EXT_SOURCE_3</td>\n",
       "      <td>292</td>\n",
       "    </tr>\n",
       "    <tr>\n",
       "      <th>2</th>\n",
       "      <td>EXT_SOURCE_2</td>\n",
       "      <td>261</td>\n",
       "    </tr>\n",
       "    <tr>\n",
       "      <th>3</th>\n",
       "      <td>EXT_SOURCE_1</td>\n",
       "      <td>220</td>\n",
       "    </tr>\n",
       "    <tr>\n",
       "      <th>4</th>\n",
       "      <td>YEARS_REGISTRATION</td>\n",
       "      <td>168</td>\n",
       "    </tr>\n",
       "    <tr>\n",
       "      <th>5</th>\n",
       "      <td>YEARS_ID_PUBLISH</td>\n",
       "      <td>159</td>\n",
       "    </tr>\n",
       "    <tr>\n",
       "      <th>6</th>\n",
       "      <td>YEARS_EMPLOYED</td>\n",
       "      <td>156</td>\n",
       "    </tr>\n",
       "    <tr>\n",
       "      <th>7</th>\n",
       "      <td>AMT_GOODS_PRICE</td>\n",
       "      <td>143</td>\n",
       "    </tr>\n",
       "    <tr>\n",
       "      <th>8</th>\n",
       "      <td>AMT_CREDIT</td>\n",
       "      <td>143</td>\n",
       "    </tr>\n",
       "    <tr>\n",
       "      <th>9</th>\n",
       "      <td>AMT_ANNUITY</td>\n",
       "      <td>140</td>\n",
       "    </tr>\n",
       "    <tr>\n",
       "      <th>10</th>\n",
       "      <td>ORGANIZATION_TYPE</td>\n",
       "      <td>136</td>\n",
       "    </tr>\n",
       "    <tr>\n",
       "      <th>11</th>\n",
       "      <td>YEARS_LAST_PHONE_CHANGE</td>\n",
       "      <td>131</td>\n",
       "    </tr>\n",
       "    <tr>\n",
       "      <th>12</th>\n",
       "      <td>ANNUITY_INCOME_PERCENT</td>\n",
       "      <td>126</td>\n",
       "    </tr>\n",
       "    <tr>\n",
       "      <th>13</th>\n",
       "      <td>REGION_POPULATION_RELATIVE</td>\n",
       "      <td>111</td>\n",
       "    </tr>\n",
       "    <tr>\n",
       "      <th>14</th>\n",
       "      <td>OCCUPATION_TYPE</td>\n",
       "      <td>102</td>\n",
       "    </tr>\n",
       "    <tr>\n",
       "      <th>15</th>\n",
       "      <td>YEARS_EMPLOYED_PERCENT</td>\n",
       "      <td>101</td>\n",
       "    </tr>\n",
       "    <tr>\n",
       "      <th>16</th>\n",
       "      <td>OWN_CAR_AGE</td>\n",
       "      <td>97</td>\n",
       "    </tr>\n",
       "    <tr>\n",
       "      <th>17</th>\n",
       "      <td>CREDIT_INCOME_PERCENT</td>\n",
       "      <td>89</td>\n",
       "    </tr>\n",
       "  </tbody>\n",
       "</table>\n",
       "</div>"
      ],
      "text/plain": [
       "                       Feature  Importance\n",
       "0                  CREDIT_TERM         425\n",
       "1                 EXT_SOURCE_3         292\n",
       "2                 EXT_SOURCE_2         261\n",
       "3                 EXT_SOURCE_1         220\n",
       "4           YEARS_REGISTRATION         168\n",
       "5             YEARS_ID_PUBLISH         159\n",
       "6               YEARS_EMPLOYED         156\n",
       "7              AMT_GOODS_PRICE         143\n",
       "8                   AMT_CREDIT         143\n",
       "9                  AMT_ANNUITY         140\n",
       "10           ORGANIZATION_TYPE         136\n",
       "11     YEARS_LAST_PHONE_CHANGE         131\n",
       "12      ANNUITY_INCOME_PERCENT         126\n",
       "13  REGION_POPULATION_RELATIVE         111\n",
       "14             OCCUPATION_TYPE         102\n",
       "15      YEARS_EMPLOYED_PERCENT         101\n",
       "16                 OWN_CAR_AGE          97\n",
       "17       CREDIT_INCOME_PERCENT          89"
      ]
     },
     "execution_count": 34,
     "metadata": {},
     "output_type": "execute_result"
    }
   ],
   "source": [
    "feature_importance = model.feature_importances_\n",
    "feature_names = X.columns\n",
    "\n",
    "importance_df = pd.DataFrame({'Feature': feature_names, 'Importance': feature_importance})\n",
    "importance_df = importance_df.sort_values(by='Importance', ascending=False).reset_index(drop=True)\n",
    "\n",
    "importance_df"
   ]
  }
 ],
 "metadata": {
  "kernelspec": {
   "display_name": "riskvenv",
   "language": "python",
   "name": "python3"
  },
  "language_info": {
   "codemirror_mode": {
    "name": "ipython",
    "version": 3
   },
   "file_extension": ".py",
   "mimetype": "text/x-python",
   "name": "python",
   "nbconvert_exporter": "python",
   "pygments_lexer": "ipython3",
   "version": "3.10.1"
  }
 },
 "nbformat": 4,
 "nbformat_minor": 2
}
