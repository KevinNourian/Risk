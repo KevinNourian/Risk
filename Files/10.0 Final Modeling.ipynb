{
 "cells": [
  {
   "cell_type": "markdown",
   "metadata": {},
   "source": [
    "# **Libraries**"
   ]
  },
  {
   "cell_type": "code",
   "execution_count": 15,
   "metadata": {},
   "outputs": [],
   "source": [
    "import pandas as pd\n",
    "import numpy as np\n",
    "import matplotlib.pyplot as plt\n",
    "\n",
    "from sklearn.utils import shuffle\n",
    "from sklearn.model_selection import train_test_split\n",
    "\n",
    "from lightgbm import LGBMClassifier\n",
    "import lightgbm as lgb\n",
    "from sklearn.metrics import roc_auc_score\n",
    "from sklearn.linear_model import LogisticRegression\n",
    "from sklearn.ensemble import RandomForestClassifier\n",
    "from sklearn.metrics import roc_auc_score\n",
    "\n",
    "from feature_engine.imputation import ArbitraryNumberImputer\n",
    "\n",
    "from sklearn.preprocessing import StandardScaler\n",
    "from sklearn.pipeline import Pipeline\n",
    "\n",
    "from sklearn.pipeline import Pipeline\n",
    "from sklearn.model_selection import cross_val_predict\n",
    "from sklearn.metrics import roc_auc_score\n",
    "from sklearn.feature_selection import RFECV\n",
    "\n",
    "import optuna\n",
    "import pickle\n",
    "import warnings\n",
    "import time"
   ]
  },
  {
   "cell_type": "markdown",
   "metadata": {},
   "source": [
    "# **Display**"
   ]
  },
  {
   "cell_type": "code",
   "execution_count": 16,
   "metadata": {},
   "outputs": [],
   "source": [
    "%matplotlib inline\n",
    "\n",
    "pd.options.display.max_rows = 300000\n",
    "pd.options.display.max_columns = 999\n",
    "pd.options.display.max_colwidth = 500\n",
    "\n",
    "warnings.filterwarnings(\"ignore\")\n",
    "\n",
    "warnings.simplefilter(action=\"ignore\", category=FutureWarning)\n",
    "\n",
    "pd.set_option('display.max_rows', 200)"
   ]
  },
  {
   "cell_type": "markdown",
   "metadata": {},
   "source": [
    "# **Load Data**"
   ]
  },
  {
   "cell_type": "code",
   "execution_count": 17,
   "metadata": {},
   "outputs": [],
   "source": [
    "pd.set_option('use_inf_as_na', True)\n",
    "\n",
    "data = pd.read_csv(\n",
    "    r\"C:\\Users\\Dell\\Documents\\AI\\Risk\\Data\\Data\\data 27.csv\",\n",
    "    index_col=False\n",
    ")\n",
    "\n",
    "data = data.drop('SK_ID_CURR', axis=1)"
   ]
  },
  {
   "cell_type": "markdown",
   "metadata": {},
   "source": [
    "## **Random Sampling**"
   ]
  },
  {
   "cell_type": "code",
   "execution_count": 4,
   "metadata": {},
   "outputs": [],
   "source": [
    "data = data.sample(frac=0.2, random_state=42)"
   ]
  },
  {
   "cell_type": "code",
   "execution_count": 5,
   "metadata": {},
   "outputs": [
    {
     "data": {
      "text/plain": [
       "ANNUITY_TO_CREDIT_RATIO                 float64\n",
       "EXT_SOURCE_3                            float64\n",
       "EXT_SOURCE_1                            float64\n",
       "EXT_SOURCE_2                            float64\n",
       "EXT_SOURCE_MEAN                         float64\n",
       "ANNUAL_PAYMENT_TO_CREDIT_RATIO          float64\n",
       "AGE                                     float64\n",
       "YEARS_ID_PUBLISH                        float64\n",
       "AMT_ANNUITY                             float64\n",
       "AMT_GOODS_PRICE                         float64\n",
       "ANNUITY_TO_INCOME_RATIO                 float64\n",
       "ORGANIZATION_TYPE                       float64\n",
       "YEARS_REGISTRATION                      float64\n",
       "YEARS_LAST_PHONE_CHANGE                 float64\n",
       "YEARS_EMPLOYED_AGE_PRODUCT              float64\n",
       "INCOME_TO_AGE_RATIO                     float64\n",
       "REGION_POPULATION_RELATIVE              float64\n",
       "TARGET                                    int64\n",
       "NUM_LOANS                                 int64\n",
       "TOTAL_NUM_MONTHS                        float64\n",
       "TOTAL_SUM_STATUSES                      float64\n",
       "AVG_MAX_DPD                             float64\n",
       "TOTAL_NUM_CLOSED                        float64\n",
       "TOTAL_NUM_UNKNOWN                       float64\n",
       "NUM_ACTIVE_LOANS                          int64\n",
       "TOTAL_DEBIT                             float64\n",
       "TOTAL_CREDIT_AMT                        float64\n",
       "DEBT_CREDIT_RATIO                       float64\n",
       "TOTAL_OVERDUE                           float64\n",
       "MAX_OVERDUE                             float64\n",
       "AVG_DAYS_OVERDUE                        float64\n",
       "NUM_PROLONGED_LOANS                       int64\n",
       "NUM_PREVIOUS_APPLICATIONS_x               int64\n",
       "AVG_ANNUITY_AMOUNT                      float64\n",
       "AVG_DAYS_DECISION                       float64\n",
       "MAX_DAYS_DECISION                         int64\n",
       "MIN_DAYS_DECISION                         int64\n",
       "SUM_CNT_PAYMENT                         float64\n",
       "RANGE_DAYS_FIRST_DUE                    float64\n",
       "RANGE_DAYS_LAST_DUE                     float64\n",
       "NUM_PREVIOUS_APPLICATIONS_y               int64\n",
       "SUM_AMT_INSTALMENT                      float64\n",
       "AVG_AMT_INSTALMENT                      float64\n",
       "SUM_AMT_PAYMENT                         float64\n",
       "AVG_AMT_PAYMENT                         float64\n",
       "MAX_AMT_PAYMENT                         float64\n",
       "MIN_AMT_PAYMENT                         float64\n",
       "SUM_AMT_PAYMENT/SUM_AMT_INSTALMENT      float64\n",
       "MEAN_AMT_PAYMENT-MEAN_AMT_INSTALMENT    float64\n",
       "dtype: object"
      ]
     },
     "execution_count": 5,
     "metadata": {},
     "output_type": "execute_result"
    }
   ],
   "source": [
    "data.dtypes"
   ]
  },
  {
   "cell_type": "markdown",
   "metadata": {},
   "source": [
    "## **Remove Infinity Values**"
   ]
  },
  {
   "cell_type": "code",
   "execution_count": 6,
   "metadata": {},
   "outputs": [],
   "source": [
    "data = data.replace([np.inf, -np.inf], np.nan)"
   ]
  },
  {
   "cell_type": "markdown",
   "metadata": {},
   "source": [
    "## **Variables**"
   ]
  },
  {
   "cell_type": "code",
   "execution_count": 7,
   "metadata": {},
   "outputs": [],
   "source": [
    "random_state = 101\n",
    "target = 'TARGET'"
   ]
  },
  {
   "cell_type": "markdown",
   "metadata": {},
   "source": [
    "## **Imputation**"
   ]
  },
  {
   "cell_type": "code",
   "execution_count": 8,
   "metadata": {},
   "outputs": [],
   "source": [
    "ani = ArbitraryNumberImputer(arbitrary_number=-99999)\n",
    "ani.fit(data)\n",
    "data = ani.transform(data)"
   ]
  },
  {
   "cell_type": "markdown",
   "metadata": {},
   "source": [
    "## **Train Test Split**"
   ]
  },
  {
   "cell_type": "code",
   "execution_count": 9,
   "metadata": {},
   "outputs": [],
   "source": [
    "X = data.drop(target, axis=1)\n",
    "y = data[target]\n",
    "\n",
    "X, y = shuffle(X, y, random_state=random_state)\n",
    "X_train, X_test, y_train, y_test = train_test_split(X, y, test_size=0.2, stratify=y, random_state=random_state)"
   ]
  },
  {
   "cell_type": "markdown",
   "metadata": {},
   "source": [
    "## **Recursive Feature Elimination**"
   ]
  },
  {
   "cell_type": "code",
   "execution_count": null,
   "metadata": {},
   "outputs": [],
   "source": [
    "lgb_clf = LGBMClassifier(verbosity=-1)\n",
    "\n",
    "scaler = StandardScaler()\n",
    "X_train_scaled = scaler.fit_transform(X_train)\n",
    "X_test_scaled = scaler.transform(X_test)\n",
    "\n",
    "rfecv = RFECV(estimator=lgb_clf, step=1, cv=5, scoring='roc_auc')\n",
    "\n",
    "rfecv.fit(X_train_scaled, y_train)\n",
    "\n",
    "print(\"Optimal number of features (LightGBM): \", rfecv.n_features_)\n",
    "\n",
    "plt.figure()\n",
    "plt.xlabel(\"Number of features selected\")\n",
    "plt.ylabel(\"Cross-validation score (roc_auc)\")\n",
    "\n",
    "if hasattr(rfecv, 'grid_scores_'):\n",
    "    plt.plot(range(1, len(rfecv.grid_scores_) + 1), rfecv.grid_scores_)\n",
    "else:\n",
    "    plt.plot(range(1, len(rfecv.cv_results_['mean_test_score']) + 1), rfecv.cv_results_['mean_test_score'])\n",
    "\n",
    "plt.show()"
   ]
  },
  {
   "cell_type": "markdown",
   "metadata": {},
   "source": [
    "## **Modeling**"
   ]
  },
  {
   "cell_type": "code",
   "execution_count": 13,
   "metadata": {},
   "outputs": [
    {
     "name": "stdout",
     "output_type": "stream",
     "text": [
      "Logistic Regression: ROC AUC = 0.69 (0.09 minutes)\n",
      "Random Forest: ROC AUC = 0.73 (4.67 minutes)\n",
      "LightGBM: ROC AUC = 0.75 (0.28 minutes)\n"
     ]
    }
   ],
   "source": [
    "lg_model = LogisticRegression(class_weight='balanced', random_state=random_state, max_iter=5000)\n",
    "lg_pipeline = Pipeline(steps=[\n",
    "    ('scaler', StandardScaler()),\n",
    "    ('lg', lg_model)\n",
    "])\n",
    "\n",
    "rf_model = RandomForestClassifier(class_weight='balanced', random_state=random_state)\n",
    "rf_pipeline = Pipeline(steps=[\n",
    "    ('scaler', StandardScaler()),\n",
    "    ('random_forest', rf_model)\n",
    "])\n",
    "\n",
    "lgbm_model = LGBMClassifier(class_weight='balanced', random_state=random_state, verbose=0)\n",
    "lgbm_pipeline = Pipeline(steps=[\n",
    "    ('scaler', StandardScaler()),\n",
    "    ('lgbm', lgbm_model)\n",
    "])\n",
    "\n",
    "pipelines = {\n",
    "    \"Logistic Regression\": lg_pipeline,\n",
    "    \"Random Forest\": rf_pipeline,\n",
    "    \"LightGBM\": lgbm_pipeline\n",
    "}\n",
    "\n",
    "for name, pipeline in pipelines.items():\n",
    "    start_time = time.time()\n",
    "\n",
    "    y_pred_proba = cross_val_predict(pipeline, X, y, cv=10, method='predict_proba')[:, 1]\n",
    "    \n",
    "    roc_auc = roc_auc_score(y, y_pred_proba)\n",
    "    \n",
    "    end_time = time.time()\n",
    "    elapsed_time = (end_time - start_time) / 60\n",
    "\n",
    "    print(f\"{name}: ROC AUC = {roc_auc:.2f} ({elapsed_time:.2f} minutes)\")\n"
   ]
  },
  {
   "cell_type": "markdown",
   "metadata": {},
   "source": [
    "## **Optuna**   "
   ]
  },
  {
   "cell_type": "code",
   "execution_count": null,
   "metadata": {},
   "outputs": [],
   "source": [
    "def objective(trial):\n",
    "    param = {\n",
    "        'objective': 'binary',\n",
    "        'metric': 'binary_logloss',\n",
    "        'boosting_type': 'gbdt',\n",
    "        'lambda_l1': trial.suggest_loguniform('lambda_l1', 1e-8, 10.0),\n",
    "        'lambda_l2': trial.suggest_loguniform('lambda_l2', 1e-8, 10.0),\n",
    "        'num_leaves': trial.suggest_int('num_leaves', 20, 300),\n",
    "        'max_depth': trial.suggest_int('max_depth', 3, 8),\n",
    "        'feature_fraction': trial.suggest_uniform('feature_fraction', 0.4, 1.0),\n",
    "        'bagging_fraction': trial.suggest_uniform('bagging_fraction', 0.4, 1.0),\n",
    "        'bagging_freq': trial.suggest_int('bagging_freq', 1, 7),\n",
    "        'learning_rate': trial.suggest_loguniform('learning_rate', 1e-8, 1.0),\n",
    "        'min_child_samples': trial.suggest_int('min_child_samples', 5, 100),\n",
    "    }\n",
    "\n",
    "    \n",
    "    train_data = lgb.Dataset(X_train, label=y_train)\n",
    "    valid_data = lgb.Dataset(X_test, label=y_test, reference=train_data)  # Validation data for early stopping\n",
    "\n",
    "   \n",
    "    gbm = lgb.train(\n",
    "        param,\n",
    "        train_data,\n",
    "        valid_sets=[valid_data],  \n",
    "        num_boost_round=100,\n",
    "        callbacks=[lgb.early_stopping(stopping_rounds=10, verbose=False)]\n",
    "    )\n",
    "\n",
    "   \n",
    "    y_pred = gbm.predict(X_test, num_iteration=gbm.best_iteration)\n",
    "\n",
    "    roc_auc = roc_auc_score(y_test, y_pred)\n",
    "    \n",
    "    return roc_auc\n",
    "\n",
    "\n",
    "study = optuna.create_study(direction='maximize')\n",
    "study.optimize(objective, n_trials=10)\n",
    "\n",
    "\n",
    "print(\"Best trial:\")\n",
    "trial = study.best_trial\n",
    "\n",
    "print(\"  Value: {}\".format(trial.value))\n",
    "print(\"  Params: \")\n",
    "for key, value in trial.params.items():\n",
    "    print(\"    {}: {}\".format(key, value))\n"
   ]
  },
  {
   "cell_type": "markdown",
   "metadata": {},
   "source": [
    "### **LGBM**"
   ]
  },
  {
   "cell_type": "code",
   "execution_count": 13,
   "metadata": {},
   "outputs": [
    {
     "name": "stdout",
     "output_type": "stream",
     "text": [
      "AUC Score: 0.74\n"
     ]
    }
   ],
   "source": [
    "model = lgb.LGBMClassifier(boosting_type='gbdt', \n",
    "                           lambda_l1=9.076532104622193e-07,\n",
    "                           lambda_l2=2.674112916972291e-08,\n",
    "                           num_leaves=223,\n",
    "                           max_depth=4, \n",
    "                           feature_fraction=0.8114544291399193,\n",
    "                           bagging_fraction=0.980792477313469,\n",
    "                           bagging_freq=2,\n",
    "                           learning_rate= 0.027659573358461607,\n",
    "                           min_child_samples=66,\n",
    "                           verbose=-1)\n",
    "\n",
    "model.fit(X_train, y_train)\n",
    "\n",
    "y_prob = model.predict_proba(X_test)[:, 1]  \n",
    "\n",
    "auc_score = roc_auc_score(y_test, y_prob)\n",
    "print(f\"AUC Score: {auc_score:.2f}\")"
   ]
  },
  {
   "cell_type": "markdown",
   "metadata": {},
   "source": [
    "# **Create a Pickle File for Streamlit Deployment**"
   ]
  },
  {
   "cell_type": "code",
   "execution_count": 14,
   "metadata": {},
   "outputs": [],
   "source": [
    "with open('model.pkl', 'wb') as file:\n",
    "    pickle.dump(model, file)"
   ]
  }
 ],
 "metadata": {
  "kernelspec": {
   "display_name": "riskvenv",
   "language": "python",
   "name": "python3"
  },
  "language_info": {
   "codemirror_mode": {
    "name": "ipython",
    "version": 3
   },
   "file_extension": ".py",
   "mimetype": "text/x-python",
   "name": "python",
   "nbconvert_exporter": "python",
   "pygments_lexer": "ipython3",
   "version": "3.10.1"
  }
 },
 "nbformat": 4,
 "nbformat_minor": 2
}
