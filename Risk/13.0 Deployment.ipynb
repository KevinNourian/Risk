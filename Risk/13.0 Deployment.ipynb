{
 "cells": [
  {
   "cell_type": "markdown",
   "id": "25aaf1b5",
   "metadata": {},
   "source": [
    "# <center> **Home Credit Default Risk Assessment**\n",
    "# <center> **Deployment**"
   ]
  },
  {
   "cell_type": "markdown",
   "id": "2e44a95e",
   "metadata": {},
   "source": [
    "## **Default Prediction Web Application**"
   ]
  },
  {
   "cell_type": "markdown",
   "id": "1be827d1",
   "metadata": {},
   "source": [
    "This deployment is made for demonstration purposes using 3 features only."
   ]
  },
  {
   "cell_type": "markdown",
   "id": "8601d7cb",
   "metadata": {},
   "source": [
    "# <center> [Default Prediction](https://k7wwqra2pgijjzzhg3pakz.streamlit.app/)"
   ]
  }
 ],
 "metadata": {
  "kernelspec": {
   "display_name": "Python 3 (ipykernel)",
   "language": "python",
   "name": "python3"
  },
  "language_info": {
   "codemirror_mode": {
    "name": "ipython",
    "version": 3
   },
   "file_extension": ".py",
   "mimetype": "text/x-python",
   "name": "python",
   "nbconvert_exporter": "python",
   "pygments_lexer": "ipython3",
   "version": "3.10.1"
  },
  "toc": {
   "base_numbering": 1,
   "nav_menu": {},
   "number_sections": true,
   "sideBar": true,
   "skip_h1_title": false,
   "title_cell": "Table of Contents",
   "title_sidebar": "Contents",
   "toc_cell": false,
   "toc_position": {},
   "toc_section_display": true,
   "toc_window_display": true
  }
 },
 "nbformat": 4,
 "nbformat_minor": 5
}
