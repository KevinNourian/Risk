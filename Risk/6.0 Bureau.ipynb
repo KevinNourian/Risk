{
 "cells": [
  {
   "cell_type": "markdown",
   "metadata": {},
   "source": [
    "# <center> **Home Credit Default Risk Assessment**\n",
    "# <center> **Bureau | Bureau_Balance Datasets**"
   ]
  },
  {
   "cell_type": "markdown",
   "metadata": {},
   "source": [
    "# **Introduction**"
   ]
  },
  {
   "cell_type": "markdown",
   "metadata": {},
   "source": [
    "In this part of the project, I aggregate features in the bureau and bureau-balance tables and merged them into a table I call bureau. Through the aggregation new features are created that I will merge with the main application_train table in a later stage."
   ]
  },
  {
   "cell_type": "markdown",
   "metadata": {},
   "source": [
    "# **Libraries**"
   ]
  },
  {
   "cell_type": "code",
   "execution_count": 1,
   "metadata": {},
   "outputs": [],
   "source": [
    "import pandas as pd\n",
    "import numpy as np\n",
    "\n",
    "from feature_engine.imputation import CategoricalImputer\n",
    "from feature_engine.imputation import ArbitraryNumberImputer\n",
    "\n",
    "import functions\n",
    "import importlib\n",
    "importlib.reload(functions)\n",
    "\n",
    "import warnings"
   ]
  },
  {
   "cell_type": "markdown",
   "metadata": {},
   "source": [
    "# **Display**"
   ]
  },
  {
   "cell_type": "code",
   "execution_count": 2,
   "metadata": {},
   "outputs": [],
   "source": [
    "%matplotlib inline\n",
    "\n",
    "pd.options.display.max_rows = 300000\n",
    "pd.options.display.max_columns = 999\n",
    "pd.options.display.max_colwidth = 500\n",
    "\n",
    "warnings.filterwarnings(\"ignore\")\n",
    "warnings.simplefilter(action=\"ignore\", category=FutureWarning)\n",
    "\n",
    "pd.set_option('display.max_rows', 200)\n",
    "\n",
    "size = 20"
   ]
  },
  {
   "cell_type": "markdown",
   "metadata": {},
   "source": [
    "## **Load Data**"
   ]
  },
  {
   "cell_type": "code",
   "execution_count": 3,
   "metadata": {},
   "outputs": [],
   "source": [
    "bureau = pd.read_csv(\n",
    "    r\"C:\\Users\\Dell\\Documents\\AI\\Risk\\Data\\bureau.csv\",\n",
    "    index_col=False\n",
    ")\n",
    "\n",
    "balance = pd.read_csv(\n",
    "    r\"C:\\Users\\Dell\\Documents\\AI\\Risk\\Data\\bureau_balance.csv\",\n",
    "    index_col=False\n",
    ")"
   ]
  },
  {
   "cell_type": "markdown",
   "metadata": {},
   "source": [
    "## **Reduce Memory Usage**"
   ]
  },
  {
   "cell_type": "markdown",
   "metadata": {},
   "source": [
    "Changing datatypes to a lower level to save on system resources."
   ]
  },
  {
   "cell_type": "code",
   "execution_count": 4,
   "metadata": {},
   "outputs": [
    {
     "name": "stdout",
     "output_type": "stream",
     "text": [
      "Memory usage of dataframe is 222.62 MB\n",
      "Memory usage after optimization is: 112.95 MB\n",
      "Decreased by 49.3%\n"
     ]
    }
   ],
   "source": [
    "bureau = functions.reduce_memory_usage(bureau)"
   ]
  },
  {
   "cell_type": "code",
   "execution_count": 5,
   "metadata": {},
   "outputs": [
    {
     "name": "stdout",
     "output_type": "stream",
     "text": [
      "Memory usage of dataframe is 624.85 MB\n",
      "Memory usage after optimization is: 338.46 MB\n",
      "Decreased by 45.8%\n"
     ]
    }
   ],
   "source": [
    "balance = functions.reduce_memory_usage(balance)"
   ]
  },
  {
   "cell_type": "markdown",
   "metadata": {},
   "source": [
    "## **Remove Infinity Values**"
   ]
  },
  {
   "cell_type": "markdown",
   "metadata": {},
   "source": [
    "Replace inf and -inf with NAN."
   ]
  },
  {
   "cell_type": "code",
   "execution_count": 6,
   "metadata": {},
   "outputs": [],
   "source": [
    "bureau.replace([np.inf, -np.inf], np.nan, inplace=True)"
   ]
  },
  {
   "cell_type": "code",
   "execution_count": 7,
   "metadata": {},
   "outputs": [],
   "source": [
    "balance.replace([np.inf, -np.inf], np.nan, inplace=True)"
   ]
  },
  {
   "cell_type": "markdown",
   "metadata": {},
   "source": [
    "## **Imputation**"
   ]
  },
  {
   "cell_type": "markdown",
   "metadata": {},
   "source": [
    "Imputation of missing values. Numerical missing values were imputed with an arbitrary number. Categorical missing values were imputed by \"UNKNOWN\". This is a deliberate choice to not introduce new patterns in the data."
   ]
  },
  {
   "cell_type": "code",
   "execution_count": 8,
   "metadata": {},
   "outputs": [],
   "source": [
    "ani = ArbitraryNumberImputer(arbitrary_number=-99999)\n",
    "ani.fit(bureau)\n",
    "bureau = ani.transform(bureau)"
   ]
  },
  {
   "cell_type": "code",
   "execution_count": 9,
   "metadata": {},
   "outputs": [],
   "source": [
    "ani = ArbitraryNumberImputer(arbitrary_number=-99999)\n",
    "ani.fit(balance)\n",
    "balance = ani.transform(balance)"
   ]
  },
  {
   "cell_type": "code",
   "execution_count": 10,
   "metadata": {},
   "outputs": [],
   "source": [
    "ci = CategoricalImputer(imputation_method='missing', fill_value='UNKNOWN')\n",
    "ci.fit(bureau)\n",
    "bureau = ci.transform(bureau)"
   ]
  },
  {
   "cell_type": "code",
   "execution_count": 11,
   "metadata": {},
   "outputs": [],
   "source": [
    "ci = CategoricalImputer(imputation_method='missing', fill_value='UNKNOWN')\n",
    "ci.fit(balance)\n",
    "balance = ci.transform(balance)"
   ]
  },
  {
   "cell_type": "markdown",
   "metadata": {},
   "source": [
    "## **Aggregation**"
   ]
  },
  {
   "cell_type": "markdown",
   "metadata": {},
   "source": [
    "Aggregation, feature creation in both bureau and bureau_balance tables. I merge bureau and bureau_balance tables after these operations. "
   ]
  },
  {
   "cell_type": "code",
   "execution_count": 12,
   "metadata": {},
   "outputs": [],
   "source": [
    "balance = balance.groupby('SK_ID_BUREAU').agg(\n",
    "    NUM_MONTHS=('MONTHS_BALANCE', 'count'),\n",
    "    SUM_STATUSES=('STATUS', lambda x: (x.isin(['1', '2', '3', '4', '5'])).sum()),\n",
    "    MAX_DPD=('STATUS', lambda x: x.replace({'C': -1, 'X': -1}).astype(int).max()),\n",
    "    NUM_CLOSED=('STATUS', lambda x: (x == 'C').sum()),\n",
    "    NUM_UNKNOWN=('STATUS', lambda x: (x == 'X').sum()),\n",
    ")\n",
    "\n",
    "bureau = bureau.merge(balance, on='SK_ID_BUREAU', how='left')\n",
    "\n",
    "bureau = bureau.groupby('SK_ID_CURR').agg(\n",
    "    NUM_LOANS=('SK_ID_BUREAU', 'count'),\n",
    "    TOTAL_NUM_MONTHS=('NUM_MONTHS', 'sum'),\n",
    "    TOTAL_SUM_STATUSES=('SUM_STATUSES', 'sum'),\n",
    "    AVG_MAX_DPD=('MAX_DPD', 'mean'),\n",
    "    TOTAL_NUM_CLOSED=('NUM_CLOSED', 'sum'),\n",
    "    TOTAL_NUM_UNKNOWN=('NUM_UNKNOWN', 'sum'),\n",
    "    NUM_ACTIVE_LOANS=('CREDIT_ACTIVE', lambda x: (x == 'Active').sum()),\n",
    "    TOTAL_DEBIT=('AMT_CREDIT_SUM_DEBT', 'sum'),\n",
    "    TOTAL_CREDIT_AMT=('AMT_CREDIT_SUM', 'sum'),\n",
    "    DEBT_CREDIT_RATIO=('AMT_CREDIT_SUM_DEBT', lambda x: x.sum() / (bureau.loc[x.index, 'AMT_CREDIT_SUM'].sum() + 1e-5)),\n",
    "    TOTAL_OVERDUE=('AMT_CREDIT_SUM_OVERDUE', 'sum'),\n",
    "    MAX_OVERDUE=('AMT_CREDIT_MAX_OVERDUE', 'max'),\n",
    "    AVG_DAYS_OVERDUE=('CREDIT_DAY_OVERDUE', 'mean'),\n",
    "    NUM_PROLONGED_LOANS=('CNT_CREDIT_PROLONG', lambda x: (x > 0).sum()),\n",
    ")"
   ]
  },
  {
   "cell_type": "code",
   "execution_count": 13,
   "metadata": {},
   "outputs": [
    {
     "data": {
      "text/html": [
       "<div>\n",
       "<style scoped>\n",
       "    .dataframe tbody tr th:only-of-type {\n",
       "        vertical-align: middle;\n",
       "    }\n",
       "\n",
       "    .dataframe tbody tr th {\n",
       "        vertical-align: top;\n",
       "    }\n",
       "\n",
       "    .dataframe thead th {\n",
       "        text-align: right;\n",
       "    }\n",
       "</style>\n",
       "<table border=\"1\" class=\"dataframe\">\n",
       "  <thead>\n",
       "    <tr style=\"text-align: right;\">\n",
       "      <th></th>\n",
       "      <th>SK_ID_CURR</th>\n",
       "      <th>NUM_LOANS</th>\n",
       "      <th>TOTAL_NUM_MONTHS</th>\n",
       "      <th>TOTAL_SUM_STATUSES</th>\n",
       "      <th>AVG_MAX_DPD</th>\n",
       "      <th>TOTAL_NUM_CLOSED</th>\n",
       "      <th>TOTAL_NUM_UNKNOWN</th>\n",
       "      <th>NUM_ACTIVE_LOANS</th>\n",
       "      <th>TOTAL_DEBIT</th>\n",
       "      <th>TOTAL_CREDIT_AMT</th>\n",
       "      <th>DEBT_CREDIT_RATIO</th>\n",
       "      <th>TOTAL_OVERDUE</th>\n",
       "      <th>MAX_OVERDUE</th>\n",
       "      <th>AVG_DAYS_OVERDUE</th>\n",
       "      <th>NUM_PROLONGED_LOANS</th>\n",
       "    </tr>\n",
       "  </thead>\n",
       "  <tbody>\n",
       "    <tr>\n",
       "      <th>0</th>\n",
       "      <td>100001</td>\n",
       "      <td>7</td>\n",
       "      <td>172.0</td>\n",
       "      <td>1.0</td>\n",
       "      <td>0.142857</td>\n",
       "      <td>110.0</td>\n",
       "      <td>30.0</td>\n",
       "      <td>3</td>\n",
       "      <td>596686.5</td>\n",
       "      <td>1.453365e+06</td>\n",
       "      <td>0.410555</td>\n",
       "      <td>0.0</td>\n",
       "      <td>-99999.00000</td>\n",
       "      <td>0.0</td>\n",
       "      <td>0</td>\n",
       "    </tr>\n",
       "    <tr>\n",
       "      <th>1</th>\n",
       "      <td>100002</td>\n",
       "      <td>8</td>\n",
       "      <td>110.0</td>\n",
       "      <td>27.0</td>\n",
       "      <td>0.750000</td>\n",
       "      <td>23.0</td>\n",
       "      <td>15.0</td>\n",
       "      <td>2</td>\n",
       "      <td>-54216.0</td>\n",
       "      <td>8.650556e+05</td>\n",
       "      <td>-0.062673</td>\n",
       "      <td>0.0</td>\n",
       "      <td>5043.64502</td>\n",
       "      <td>0.0</td>\n",
       "      <td>0</td>\n",
       "    </tr>\n",
       "    <tr>\n",
       "      <th>2</th>\n",
       "      <td>100003</td>\n",
       "      <td>4</td>\n",
       "      <td>0.0</td>\n",
       "      <td>0.0</td>\n",
       "      <td>NaN</td>\n",
       "      <td>0.0</td>\n",
       "      <td>0.0</td>\n",
       "      <td>1</td>\n",
       "      <td>0.0</td>\n",
       "      <td>1.017400e+06</td>\n",
       "      <td>0.000000</td>\n",
       "      <td>0.0</td>\n",
       "      <td>0.00000</td>\n",
       "      <td>0.0</td>\n",
       "      <td>0</td>\n",
       "    </tr>\n",
       "    <tr>\n",
       "      <th>3</th>\n",
       "      <td>100004</td>\n",
       "      <td>2</td>\n",
       "      <td>0.0</td>\n",
       "      <td>0.0</td>\n",
       "      <td>NaN</td>\n",
       "      <td>0.0</td>\n",
       "      <td>0.0</td>\n",
       "      <td>0</td>\n",
       "      <td>0.0</td>\n",
       "      <td>1.890378e+05</td>\n",
       "      <td>0.000000</td>\n",
       "      <td>0.0</td>\n",
       "      <td>0.00000</td>\n",
       "      <td>0.0</td>\n",
       "      <td>0</td>\n",
       "    </tr>\n",
       "    <tr>\n",
       "      <th>4</th>\n",
       "      <td>100005</td>\n",
       "      <td>3</td>\n",
       "      <td>21.0</td>\n",
       "      <td>0.0</td>\n",
       "      <td>0.000000</td>\n",
       "      <td>5.0</td>\n",
       "      <td>2.0</td>\n",
       "      <td>2</td>\n",
       "      <td>568408.5</td>\n",
       "      <td>6.571260e+05</td>\n",
       "      <td>0.864992</td>\n",
       "      <td>0.0</td>\n",
       "      <td>0.00000</td>\n",
       "      <td>0.0</td>\n",
       "      <td>0</td>\n",
       "    </tr>\n",
       "  </tbody>\n",
       "</table>\n",
       "</div>"
      ],
      "text/plain": [
       "   SK_ID_CURR  NUM_LOANS  TOTAL_NUM_MONTHS  TOTAL_SUM_STATUSES  AVG_MAX_DPD  \\\n",
       "0      100001          7             172.0                 1.0     0.142857   \n",
       "1      100002          8             110.0                27.0     0.750000   \n",
       "2      100003          4               0.0                 0.0          NaN   \n",
       "3      100004          2               0.0                 0.0          NaN   \n",
       "4      100005          3              21.0                 0.0     0.000000   \n",
       "\n",
       "   TOTAL_NUM_CLOSED  TOTAL_NUM_UNKNOWN  NUM_ACTIVE_LOANS  TOTAL_DEBIT  \\\n",
       "0             110.0               30.0                 3     596686.5   \n",
       "1              23.0               15.0                 2     -54216.0   \n",
       "2               0.0                0.0                 1          0.0   \n",
       "3               0.0                0.0                 0          0.0   \n",
       "4               5.0                2.0                 2     568408.5   \n",
       "\n",
       "   TOTAL_CREDIT_AMT  DEBT_CREDIT_RATIO  TOTAL_OVERDUE  MAX_OVERDUE  \\\n",
       "0      1.453365e+06           0.410555            0.0 -99999.00000   \n",
       "1      8.650556e+05          -0.062673            0.0   5043.64502   \n",
       "2      1.017400e+06           0.000000            0.0      0.00000   \n",
       "3      1.890378e+05           0.000000            0.0      0.00000   \n",
       "4      6.571260e+05           0.864992            0.0      0.00000   \n",
       "\n",
       "   AVG_DAYS_OVERDUE  NUM_PROLONGED_LOANS  \n",
       "0               0.0                    0  \n",
       "1               0.0                    0  \n",
       "2               0.0                    0  \n",
       "3               0.0                    0  \n",
       "4               0.0                    0  "
      ]
     },
     "execution_count": 13,
     "metadata": {},
     "output_type": "execute_result"
    }
   ],
   "source": [
    "bureau = bureau.reset_index()\n",
    "bureau.head()"
   ]
  },
  {
   "cell_type": "markdown",
   "metadata": {},
   "source": [
    "# **Save Dataframe as CSV File**"
   ]
  },
  {
   "cell_type": "markdown",
   "metadata": {},
   "source": [
    "A new dataframe is created to be used in later parts of this project."
   ]
  },
  {
   "cell_type": "code",
   "execution_count": 14,
   "metadata": {},
   "outputs": [],
   "source": [
    "bureau.to_csv(r\"C:\\Users\\Dell\\Documents\\AI\\Risk\\Data\\Data\\bureau 24.csv\", index=False)"
   ]
  },
  {
   "cell_type": "markdown",
   "metadata": {},
   "source": [
    "# **Summary**"
   ]
  },
  {
   "cell_type": "markdown",
   "metadata": {},
   "source": [
    "> * **bureau Table** — I used domain knowledge gained from research to aggregate and create new features from those in the bureau table. \n",
    "> * **bureau_balance Table** — I used domain knowledge gained from research to aggregate and create new features from those in the bureau-balance table.\n",
    "> * **Merging the Two Tables** — I merged the two aggregated tables into a single table, I called bureau.\n",
    "> * **Merge** — I will later merge the new table with the main application_train table in Notebook 10.0."
   ]
  }
 ],
 "metadata": {
  "kernelspec": {
   "display_name": "riskvenv",
   "language": "python",
   "name": "python3"
  },
  "language_info": {
   "codemirror_mode": {
    "name": "ipython",
    "version": 3
   },
   "file_extension": ".py",
   "mimetype": "text/x-python",
   "name": "python",
   "nbconvert_exporter": "python",
   "pygments_lexer": "ipython3",
   "version": "3.10.1"
  }
 },
 "nbformat": 4,
 "nbformat_minor": 2
}
