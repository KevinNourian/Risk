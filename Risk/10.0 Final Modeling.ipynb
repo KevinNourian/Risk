{
 "cells": [
  {
   "cell_type": "markdown",
   "metadata": {},
   "source": [
    "# **Libraries**"
   ]
  },
  {
   "cell_type": "code",
   "execution_count": 15,
   "metadata": {},
   "outputs": [],
   "source": [
    "import pandas as pd\n",
    "import numpy as np\n",
    "import matplotlib.pyplot as plt\n",
    "\n",
    "from sklearn.utils import shuffle\n",
    "from sklearn.model_selection import train_test_split\n",
    "\n",
    "from lightgbm import LGBMClassifier\n",
    "from sklearn.linear_model import LogisticRegression\n",
    "from sklearn.ensemble import RandomForestClassifier\n",
    "from sklearn.metrics import roc_auc_score\n",
    "\n",
    "from feature_engine.imputation import ArbitraryNumberImputer\n",
    "\n",
    "from sklearn.preprocessing import StandardScaler\n",
    "from sklearn.pipeline import Pipeline\n",
    "\n",
    "from sklearn.pipeline import Pipeline\n",
    "from sklearn.model_selection import cross_val_predict\n",
    "from sklearn.metrics import roc_auc_score\n",
    "from sklearn.feature_selection import RFECV\n",
    "\n",
    "\n",
    "import warnings\n",
    "import time"
   ]
  },
  {
   "cell_type": "markdown",
   "metadata": {},
   "source": [
    "# **Display**"
   ]
  },
  {
   "cell_type": "code",
   "execution_count": 2,
   "metadata": {},
   "outputs": [],
   "source": [
    "%matplotlib inline\n",
    "\n",
    "pd.options.display.max_rows = 300000\n",
    "pd.options.display.max_columns = 999\n",
    "pd.options.display.max_colwidth = 500\n",
    "\n",
    "warnings.filterwarnings(\"ignore\")\n",
    "\n",
    "warnings.simplefilter(action=\"ignore\", category=FutureWarning)\n",
    "\n",
    "pd.set_option('display.max_rows', 200)"
   ]
  },
  {
   "cell_type": "markdown",
   "metadata": {},
   "source": [
    "# **Load Data**"
   ]
  },
  {
   "cell_type": "code",
   "execution_count": 3,
   "metadata": {},
   "outputs": [],
   "source": [
    "pd.set_option('use_inf_as_na', True)\n",
    "\n",
    "data = pd.read_csv(\n",
    "    r\"C:\\Users\\Dell\\Documents\\AI\\Risk\\Data\\Data\\data 27.csv\",\n",
    "    index_col=False\n",
    ")"
   ]
  },
  {
   "cell_type": "markdown",
   "metadata": {},
   "source": [
    "## **Random Sampling**"
   ]
  },
  {
   "cell_type": "code",
   "execution_count": 4,
   "metadata": {},
   "outputs": [],
   "source": [
    "data = data.sample(frac=0.2, random_state=42)"
   ]
  },
  {
   "cell_type": "markdown",
   "metadata": {},
   "source": [
    "## **Remove Infinity Values**"
   ]
  },
  {
   "cell_type": "code",
   "execution_count": 5,
   "metadata": {},
   "outputs": [],
   "source": [
    "data = data.replace([np.inf, -np.inf], np.nan)"
   ]
  },
  {
   "cell_type": "markdown",
   "metadata": {},
   "source": [
    "## **Variables**"
   ]
  },
  {
   "cell_type": "code",
   "execution_count": 6,
   "metadata": {},
   "outputs": [],
   "source": [
    "random_state = 101\n",
    "target = 'TARGET'"
   ]
  },
  {
   "cell_type": "markdown",
   "metadata": {},
   "source": [
    "## **Imputation**"
   ]
  },
  {
   "cell_type": "code",
   "execution_count": 7,
   "metadata": {},
   "outputs": [],
   "source": [
    "ani = ArbitraryNumberImputer(arbitrary_number=-99999)\n",
    "ani.fit(data)\n",
    "data = ani.transform(data)"
   ]
  },
  {
   "cell_type": "markdown",
   "metadata": {},
   "source": [
    "## **Train Test Split**"
   ]
  },
  {
   "cell_type": "code",
   "execution_count": 8,
   "metadata": {},
   "outputs": [],
   "source": [
    "X = data.drop(target, axis=1)\n",
    "y = data[target]\n",
    "\n",
    "X, y = shuffle(X, y, random_state=random_state)\n",
    "X_train, X_test, y_train, y_test = train_test_split(X, y, test_size=0.2, stratify=y, random_state=random_state)"
   ]
  },
  {
   "cell_type": "markdown",
   "metadata": {},
   "source": [
    "## **Recursive Feature Elimination**"
   ]
  },
  {
   "cell_type": "code",
   "execution_count": null,
   "metadata": {},
   "outputs": [],
   "source": [
    "lgb_clf = LGBMClassifier(verbosity=-1)\n",
    "\n",
    "scaler = StandardScaler()\n",
    "X_train_scaled = scaler.fit_transform(X_train)\n",
    "X_test_scaled = scaler.transform(X_test)\n",
    "\n",
    "rfecv = RFECV(estimator=lgb_clf, step=1, cv=5, scoring='roc_auc')\n",
    "\n",
    "rfecv.fit(X_train_scaled, y_train)\n",
    "\n",
    "print(\"Optimal number of features (LightGBM): \", rfecv.n_features_)\n",
    "\n",
    "plt.figure()\n",
    "plt.xlabel(\"Number of features selected\")\n",
    "plt.ylabel(\"Cross-validation score (roc_auc)\")\n",
    "\n",
    "if hasattr(rfecv, 'grid_scores_'):\n",
    "    plt.plot(range(1, len(rfecv.grid_scores_) + 1), rfecv.grid_scores_)\n",
    "else:\n",
    "    plt.plot(range(1, len(rfecv.cv_results_['mean_test_score']) + 1), rfecv.cv_results_['mean_test_score'])\n",
    "\n",
    "plt.show()"
   ]
  },
  {
   "cell_type": "markdown",
   "metadata": {},
   "source": [
    "## **Modeling**"
   ]
  },
  {
   "cell_type": "code",
   "execution_count": 43,
   "metadata": {},
   "outputs": [
    {
     "name": "stdout",
     "output_type": "stream",
     "text": [
      "Logistic Regression: ROC AUC = 0.69 (0.09 minutes)\n",
      "Random Forest: ROC AUC = 0.72 (17.49 minutes)\n",
      "LightGBM: ROC AUC = 0.75 (3.79 minutes)\n"
     ]
    }
   ],
   "source": [
    "lg_model = LogisticRegression(random_state=random_state, max_iter=5000)\n",
    "lg_pipeline = Pipeline(steps=[\n",
    "    ('scaler', StandardScaler()),\n",
    "    ('lg', lg_model)\n",
    "])\n",
    "\n",
    "rf_model = RandomForestClassifier(random_state=random_state)\n",
    "rf_pipeline = Pipeline(steps=[\n",
    "    ('scaler', StandardScaler()),\n",
    "    ('random_forest', rf_model)\n",
    "])\n",
    "\n",
    "lgbm_model = LGBMClassifier(random_state=random_state, verbose=0)\n",
    "lgbm_pipeline = Pipeline(steps=[\n",
    "    ('scaler', StandardScaler()),\n",
    "    ('lgbm', lgbm_model)\n",
    "])\n",
    "\n",
    "pipelines = {\n",
    "    \"Logistic Regression\": lg_pipeline,\n",
    "    \"Random Forest\": rf_pipeline,\n",
    "    \"LightGBM\": lgbm_pipeline\n",
    "}\n",
    "\n",
    "for name, pipeline in pipelines.items():\n",
    "    start_time = time.time()\n",
    "\n",
    "    # Get cross-validated predicted probabilities for positive class\n",
    "    y_pred_proba = cross_val_predict(pipeline, X, y, cv=10, method='predict_proba')[:, 1]\n",
    "    \n",
    "    roc_auc = roc_auc_score(y, y_pred_proba)\n",
    "    \n",
    "    end_time = time.time()\n",
    "    elapsed_time = (end_time - start_time) / 60  # Convert time to minutes\n",
    "\n",
    "    print(f\"{name}: ROC AUC = {roc_auc:.2f} ({elapsed_time:.2f} minutes)\")\n"
   ]
  },
  {
   "cell_type": "markdown",
   "metadata": {},
   "source": [
    "## **Optuna**   "
   ]
  },
  {
   "cell_type": "code",
   "execution_count": 14,
   "metadata": {},
   "outputs": [
    {
     "name": "stderr",
     "output_type": "stream",
     "text": [
      "[I 2024-10-16 17:59:38,984] A new study created in memory with name: no-name-88ed2508-8367-4d6b-a075-c0bab1273a77\n",
      "[I 2024-10-16 17:59:53,740] Trial 0 finished with value: 0.7280091682127353 and parameters: {'lambda_l1': 0.021772679006546697, 'lambda_l2': 0.0018634542460999662, 'num_leaves': 174, 'max_depth': 4, 'feature_fraction': 0.46910233595987316, 'bagging_fraction': 0.814475377373456, 'bagging_freq': 1, 'learning_rate': 5.273084476847906e-08, 'min_child_samples': 16}. Best is trial 0 with value: 0.7280091682127353.\n",
      "[I 2024-10-16 18:00:02,462] Trial 1 finished with value: 0.7203328063494786 and parameters: {'lambda_l1': 4.992745299190843e-07, 'lambda_l2': 8.30758298887296e-05, 'num_leaves': 114, 'max_depth': 3, 'feature_fraction': 0.8066805235233381, 'bagging_fraction': 0.7483529200465602, 'bagging_freq': 3, 'learning_rate': 0.0001662530143395022, 'min_child_samples': 47}. Best is trial 0 with value: 0.7280091682127353.\n",
      "[I 2024-10-16 18:00:15,157] Trial 2 finished with value: 0.7187236691480441 and parameters: {'lambda_l1': 3.6388361252538144, 'lambda_l2': 0.018009537745075934, 'num_leaves': 48, 'max_depth': 3, 'feature_fraction': 0.7834778034082223, 'bagging_fraction': 0.8715875355823901, 'bagging_freq': 3, 'learning_rate': 2.146081945237323e-05, 'min_child_samples': 13}. Best is trial 0 with value: 0.7280091682127353.\n",
      "[I 2024-10-16 18:00:43,738] Trial 3 finished with value: 0.7311073164234654 and parameters: {'lambda_l1': 3.8266446530637954e-08, 'lambda_l2': 2.4334998126589905e-07, 'num_leaves': 133, 'max_depth': 5, 'feature_fraction': 0.9876953150723701, 'bagging_fraction': 0.40712393354114257, 'bagging_freq': 2, 'learning_rate': 2.0230731978355217e-07, 'min_child_samples': 28}. Best is trial 3 with value: 0.7311073164234654.\n",
      "[I 2024-10-16 18:01:29,638] Trial 4 finished with value: 0.7246860318797306 and parameters: {'lambda_l1': 0.00015783837282042624, 'lambda_l2': 8.40225141960831e-05, 'num_leaves': 96, 'max_depth': 4, 'feature_fraction': 0.9712942971840469, 'bagging_fraction': 0.6403926999749099, 'bagging_freq': 2, 'learning_rate': 3.141610793772159e-06, 'min_child_samples': 5}. Best is trial 3 with value: 0.7311073164234654.\n",
      "[I 2024-10-16 18:01:57,140] Trial 5 finished with value: 0.7280225155674174 and parameters: {'lambda_l1': 1.3915261447319358e-08, 'lambda_l2': 3.861474951811002e-08, 'num_leaves': 57, 'max_depth': 4, 'feature_fraction': 0.4588205860096095, 'bagging_fraction': 0.8056180391644415, 'bagging_freq': 6, 'learning_rate': 1.09081994410704e-05, 'min_child_samples': 85}. Best is trial 3 with value: 0.7311073164234654.\n",
      "[I 2024-10-16 18:02:03,849] Trial 6 finished with value: 0.7214724432503138 and parameters: {'lambda_l1': 1.592980579577063, 'lambda_l2': 7.923775693813331e-08, 'num_leaves': 53, 'max_depth': 5, 'feature_fraction': 0.7123058907400732, 'bagging_fraction': 0.6680472464557317, 'bagging_freq': 1, 'learning_rate': 0.48635686618142426, 'min_child_samples': 14}. Best is trial 3 with value: 0.7311073164234654.\n",
      "[I 2024-10-16 18:02:36,402] Trial 7 finished with value: 0.739909328863768 and parameters: {'lambda_l1': 9.076532104622193e-07, 'lambda_l2': 2.674112916972291e-08, 'num_leaves': 223, 'max_depth': 4, 'feature_fraction': 0.8114544291399193, 'bagging_fraction': 0.980792477313469, 'bagging_freq': 2, 'learning_rate': 0.027659573358461607, 'min_child_samples': 66}. Best is trial 7 with value: 0.739909328863768.\n",
      "[I 2024-10-16 18:03:22,898] Trial 8 finished with value: 0.7282470067137194 and parameters: {'lambda_l1': 1.688624847154e-05, 'lambda_l2': 0.00025264759094174166, 'num_leaves': 47, 'max_depth': 7, 'feature_fraction': 0.7709875997592821, 'bagging_fraction': 0.9491207245425459, 'bagging_freq': 2, 'learning_rate': 3.650141055262697e-05, 'min_child_samples': 90}. Best is trial 7 with value: 0.739909328863768.\n",
      "[I 2024-10-16 18:03:38,656] Trial 9 finished with value: 0.7262742250937652 and parameters: {'lambda_l1': 2.6029290572473496e-07, 'lambda_l2': 0.13145335643170655, 'num_leaves': 212, 'max_depth': 5, 'feature_fraction': 0.815714878418698, 'bagging_fraction': 0.9112873954620347, 'bagging_freq': 5, 'learning_rate': 8.848225917807711e-07, 'min_child_samples': 85}. Best is trial 7 with value: 0.739909328863768.\n"
     ]
    },
    {
     "name": "stdout",
     "output_type": "stream",
     "text": [
      "Best trial:\n",
      "  Value: 0.739909328863768\n",
      "  Params: \n",
      "    lambda_l1: 9.076532104622193e-07\n",
      "    lambda_l2: 2.674112916972291e-08\n",
      "    num_leaves: 223\n",
      "    max_depth: 4\n",
      "    feature_fraction: 0.8114544291399193\n",
      "    bagging_fraction: 0.980792477313469\n",
      "    bagging_freq: 2\n",
      "    learning_rate: 0.027659573358461607\n",
      "    min_child_samples: 66\n"
     ]
    }
   ],
   "source": [
    "import optuna\n",
    "import lightgbm as lgb\n",
    "from sklearn.metrics import roc_auc_score\n",
    "\n",
    "def objective(trial):\n",
    "    param = {\n",
    "        'objective': 'binary',\n",
    "        'metric': 'binary_logloss',\n",
    "        'boosting_type': 'gbdt',\n",
    "        'lambda_l1': trial.suggest_loguniform('lambda_l1', 1e-8, 10.0),\n",
    "        'lambda_l2': trial.suggest_loguniform('lambda_l2', 1e-8, 10.0),\n",
    "        'num_leaves': trial.suggest_int('num_leaves', 20, 300),\n",
    "        'max_depth': trial.suggest_int('max_depth', 3, 8),\n",
    "        'feature_fraction': trial.suggest_uniform('feature_fraction', 0.4, 1.0),\n",
    "        'bagging_fraction': trial.suggest_uniform('bagging_fraction', 0.4, 1.0),\n",
    "        'bagging_freq': trial.suggest_int('bagging_freq', 1, 7),\n",
    "        'learning_rate': trial.suggest_loguniform('learning_rate', 1e-8, 1.0),\n",
    "        'min_child_samples': trial.suggest_int('min_child_samples', 5, 100),\n",
    "    }\n",
    "\n",
    "    \n",
    "    train_data = lgb.Dataset(X_train, label=y_train)\n",
    "    valid_data = lgb.Dataset(X_test, label=y_test, reference=train_data)  # Validation data for early stopping\n",
    "\n",
    "   \n",
    "    gbm = lgb.train(\n",
    "        param,\n",
    "        train_data,\n",
    "        valid_sets=[valid_data],  \n",
    "        num_boost_round=100,\n",
    "        callbacks=[lgb.early_stopping(stopping_rounds=10, verbose=False)]\n",
    "    )\n",
    "\n",
    "   \n",
    "    y_pred = gbm.predict(X_test, num_iteration=gbm.best_iteration)\n",
    "\n",
    "    roc_auc = roc_auc_score(y_test, y_pred)\n",
    "    \n",
    "    return roc_auc\n",
    "\n",
    "\n",
    "study = optuna.create_study(direction='maximize')\n",
    "study.optimize(objective, n_trials=10)\n",
    "\n",
    "\n",
    "print(\"Best trial:\")\n",
    "trial = study.best_trial\n",
    "\n",
    "print(\"  Value: {}\".format(trial.value))\n",
    "print(\"  Params: \")\n",
    "for key, value in trial.params.items():\n",
    "    print(\"    {}: {}\".format(key, value))\n"
   ]
  },
  {
   "cell_type": "markdown",
   "metadata": {},
   "source": [
    "### **LGBM**"
   ]
  },
  {
   "cell_type": "code",
   "execution_count": 16,
   "metadata": {},
   "outputs": [
    {
     "name": "stdout",
     "output_type": "stream",
     "text": [
      "AUC Score: 0.74\n"
     ]
    }
   ],
   "source": [
    "model = lgb.LGBMClassifier(boosting_type='gbdt', \n",
    "                           lambda_l1=9.076532104622193e-07,\n",
    "                           lambda_l2=2.674112916972291e-08,\n",
    "                           num_leaves=223,\n",
    "                           max_depth=4, \n",
    "                           feature_fraction=0.8114544291399193,\n",
    "                           bagging_fraction=0.980792477313469,\n",
    "                           bagging_freq=2,\n",
    "                           learning_rate= 0.027659573358461607,\n",
    "                           min_child_samples=66,\n",
    "                           verbose=-1)\n",
    "\n",
    "model.fit(X_train, y_train)\n",
    "\n",
    "y_prob = model.predict_proba(X_test)[:, 1]  \n",
    "\n",
    "auc_score = roc_auc_score(y_test, y_prob)\n",
    "print(f\"AUC Score: {auc_score:.2f}\")"
   ]
  }
 ],
 "metadata": {
  "kernelspec": {
   "display_name": "riskvenv",
   "language": "python",
   "name": "python3"
  },
  "language_info": {
   "codemirror_mode": {
    "name": "ipython",
    "version": 3
   },
   "file_extension": ".py",
   "mimetype": "text/x-python",
   "name": "python",
   "nbconvert_exporter": "python",
   "pygments_lexer": "ipython3",
   "version": "3.10.1"
  }
 },
 "nbformat": 4,
 "nbformat_minor": 2
}
