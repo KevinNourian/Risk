{
 "cells": [
  {
   "cell_type": "markdown",
   "metadata": {},
   "source": [
    "# <center> **Home Credit Default Risk Assessment**\n",
    "# <center> **Hypothesis Tests**"
   ]
  },
  {
   "cell_type": "markdown",
   "metadata": {},
   "source": [
    "# **Libraries**"
   ]
  },
  {
   "cell_type": "code",
   "execution_count": 1,
   "metadata": {},
   "outputs": [],
   "source": [
    "import pandas as pd\n",
    "import numpy as np\n",
    "\n",
    "import functions\n",
    "import importlib\n",
    "importlib.reload(functions)\n",
    "\n",
    "import warnings"
   ]
  },
  {
   "cell_type": "markdown",
   "metadata": {},
   "source": [
    "# **Display**"
   ]
  },
  {
   "cell_type": "code",
   "execution_count": 2,
   "metadata": {},
   "outputs": [],
   "source": [
    "%matplotlib inline\n",
    "\n",
    "pd.options.display.max_rows = 300000\n",
    "pd.options.display.max_columns = 999\n",
    "pd.options.display.max_colwidth = 500\n",
    "\n",
    "warnings.filterwarnings(\"ignore\")\n",
    "warnings.simplefilter(action=\"ignore\", category=FutureWarning)\n",
    "\n",
    "pd.set_option('display.max_rows', 200)\n",
    "\n",
    "size = 20"
   ]
  },
  {
   "cell_type": "markdown",
   "metadata": {},
   "source": [
    "# **Data**"
   ]
  },
  {
   "cell_type": "markdown",
   "metadata": {},
   "source": [
    "## **Load Data**"
   ]
  },
  {
   "cell_type": "code",
   "execution_count": 3,
   "metadata": {},
   "outputs": [],
   "source": [
    "train = pd.read_csv(\n",
    "    r\"C:\\Users\\Dell\\Documents\\AI\\Risk\\Data\\application_train.csv\",\n",
    "    index_col=False\n",
    ")"
   ]
  },
  {
   "cell_type": "markdown",
   "metadata": {},
   "source": [
    "## **Reduce Memory Usage**"
   ]
  },
  {
   "cell_type": "code",
   "execution_count": 5,
   "metadata": {},
   "outputs": [
    {
     "name": "stdout",
     "output_type": "stream",
     "text": [
      "Memory usage of dataframe is 286.23 MB\n",
      "Memory usage after optimization is: 92.38 MB\n",
      "Decreased by 67.7%\n"
     ]
    }
   ],
   "source": [
    "train = functions.reduce_memory_usage(train)"
   ]
  },
  {
   "cell_type": "markdown",
   "metadata": {},
   "source": [
    "# **Hypothesis Tests**"
   ]
  },
  {
   "cell_type": "markdown",
   "metadata": {},
   "source": [
    "## **Income Stability and Default Rate (Chi-Square Test)**"
   ]
  },
  {
   "cell_type": "markdown",
   "metadata": {},
   "source": [
    "**Null**: There is no relationship between income stability (such as whether the person is a regular employee or has a stable income) and the default rate. <BR>\n",
    "**Alternative**: There is a significant relationship between income stability and default rate. <BR>\n",
    "**Chi-Square Test**: The chi-square test can be applied to examine whether the proportion of defaults differs across income groups."
   ]
  },
  {
   "cell_type": "code",
   "execution_count": 11,
   "metadata": {},
   "outputs": [
    {
     "name": "stdout",
     "output_type": "stream",
     "text": [
      "Chi-Square Statistic: 1253.4708080924986\n",
      "p-value: 1.9281456056861122e-266\n",
      "Degrees of Freedom: 7\n",
      "Reject the null hypothesis: There is a significant relationship between income stability and default rate.\n"
     ]
    }
   ],
   "source": [
    "import pandas as pd\n",
    "from scipy.stats import chi2_contingency\n",
    "data = train\n",
    "\n",
    "\n",
    "contingency_table = pd.crosstab(data['NAME_INCOME_TYPE'], data['TARGET'])\n",
    "\n",
    "chi2, p_value, dof, expected = chi2_contingency(contingency_table)\n",
    "\n",
    "print(\"Chi-Square Statistic:\", chi2)\n",
    "print(\"p-value:\", p_value)\n",
    "print(\"Degrees of Freedom:\", dof)\n",
    "\n",
    "alpha = 0.05  \n",
    "if p_value < alpha:\n",
    "    print(\"Reject the null hypothesis: There is a significant relationship between income stability and default rate.\")\n",
    "else:\n",
    "    print(\"Fail to reject the null hypothesis: No significant relationship between income stability and default rate.\")"
   ]
  },
  {
   "cell_type": "markdown",
   "metadata": {},
   "source": [
    "## **Credit Amount and Default Risk (T-test)**"
   ]
  },
  {
   "cell_type": "markdown",
   "metadata": {},
   "source": [
    "**Null**: The average credit amount is the same for those who default and those who do not. <BR>\n",
    "**Alternative**: The average credit amount differs between defaulters and non-defaulters. <BR>\n",
    "**Two-Sample T-Test**: Two-sample t-test can be applied to compare the means between the two groups (defaulters vs. non-defaulters)."
   ]
  },
  {
   "cell_type": "code",
   "execution_count": 12,
   "metadata": {},
   "outputs": [
    {
     "name": "stdout",
     "output_type": "stream",
     "text": [
      "T-Statistic: -19.273200010157254\n",
      "p-value: 2.7206132011522836e-82\n",
      "Reject the null hypothesis: There is a significant difference in credit amount between defaulters and non-defaulters.\n"
     ]
    }
   ],
   "source": [
    "import pandas as pd\n",
    "from scipy.stats import ttest_ind\n",
    "\n",
    "data = train\n",
    "default_group = data[data['TARGET'] == 1]['AMT_CREDIT']  \n",
    "non_default_group = data[data['TARGET'] == 0]['AMT_CREDIT']  \n",
    "\n",
    "\n",
    "t_stat, p_value = ttest_ind(default_group, non_default_group, equal_var=False)  # equal_var=False assumes unequal variances\n",
    "\n",
    "\n",
    "print(\"T-Statistic:\", t_stat)\n",
    "print(\"p-value:\", p_value)\n",
    "\n",
    "\n",
    "alpha = 0.05 \n",
    "if p_value < alpha:\n",
    "    print(\"Reject the null hypothesis: There is a significant difference in credit amount between defaulters and non-defaulters.\")\n",
    "else:\n",
    "    print(\"Fail to reject the null hypothesis: No significant difference in credit amount between defaulters and non-defaulters.\")\n"
   ]
  },
  {
   "cell_type": "markdown",
   "metadata": {},
   "source": [
    "## **Hypothesis Test for Age and Default Risk (Kruskal-Wallis Test)**"
   ]
  },
  {
   "cell_type": "markdown",
   "metadata": {},
   "source": [
    "**Null**: The age of customers has no effect on the default risk. <BR>\n",
    "**Alternative**: There is a significant effect of age on default risk. <BR>\n",
    "**Kruskal-Wallis Test**: Kruskal-Wallis test (non-parametric) can be applied to assess whether the distribution of defaults differs significantly across age groups."
   ]
  },
  {
   "cell_type": "code",
   "execution_count": 13,
   "metadata": {},
   "outputs": [
    {
     "name": "stdout",
     "output_type": "stream",
     "text": [
      "Kruskal-Wallis Statistic: 1788.6225580246416\n",
      "p-value: 0.0\n",
      "Reject the null hypothesis: There is a significant difference in default rates between age groups.\n"
     ]
    }
   ],
   "source": [
    "import pandas as pd\n",
    "from scipy.stats import kruskal\n",
    "\n",
    "\n",
    "data['AGE_YEARS'] = data['DAYS_BIRTH'] / -365\n",
    "data['AGE_GROUP'] = pd.cut(data['AGE_YEARS'], bins=[20, 30, 40, 50, 60, 70], labels=['20s', '30s', '40s', '50s', '60s'])\n",
    "\n",
    "\n",
    "grouped_data = data.groupby('AGE_GROUP')['TARGET'].apply(list)\n",
    "\n",
    "stat, p_value = kruskal(*grouped_data)\n",
    "\n",
    "print(\"Kruskal-Wallis Statistic:\", stat)\n",
    "print(\"p-value:\", p_value)\n",
    "\n",
    "\n",
    "alpha = 0.05 \n",
    "if p_value < alpha:\n",
    "    print(\"Reject the null hypothesis: There is a significant difference in default rates between age groups.\")\n",
    "else:\n",
    "    print(\"Fail to reject the null hypothesis: No significant difference in default rates between age groups.\")\n"
   ]
  },
  {
   "cell_type": "markdown",
   "metadata": {},
   "source": [
    "# **Insights**"
   ]
  },
  {
   "cell_type": "markdown",
   "metadata": {},
   "source": [
    "> * **Hypothesis Test #1** — There are approximately 300,000 rows and 122 columns. The final column is \"TARGET\" indicates if the client defaulted on a loan. There are enormous missing values in many of the columns. \n",
    "> * **Hypothesis Test #2** — There are approximately 300,000 rows and 122 columns. The final column is \"TARGET\" indicates if the client defaulted on a loan. There are enormous missing values in many of the columns. \n",
    "> * **Hypothesis Test #3** — There are approximately 300,000 rows and 122 columns. The final column is \"TARGET\" indicates if the client defaulted on a loan. There are enormous missing values in many of the columns. "
   ]
  }
 ],
 "metadata": {
  "kernelspec": {
   "display_name": "riskvenv",
   "language": "python",
   "name": "python3"
  },
  "language_info": {
   "codemirror_mode": {
    "name": "ipython",
    "version": 3
   },
   "file_extension": ".py",
   "mimetype": "text/x-python",
   "name": "python",
   "nbconvert_exporter": "python",
   "pygments_lexer": "ipython3",
   "version": "3.10.1"
  }
 },
 "nbformat": 4,
 "nbformat_minor": 2
}
