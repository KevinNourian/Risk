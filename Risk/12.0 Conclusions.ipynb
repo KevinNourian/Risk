{
 "cells": [
  {
   "cell_type": "markdown",
   "id": "25aaf1b5",
   "metadata": {},
   "source": [
    "# <center> **Home Credit Default Risk Assessment**\n",
    "# <center> **Conclusions**\n",
    "# <center> **Suggestions for Improvement**"
   ]
  },
  {
   "cell_type": "markdown",
   "id": "b499bfae",
   "metadata": {},
   "source": [
    "# **Conclusions**"
   ]
  },
  {
   "cell_type": "markdown",
   "id": "0fb1c356",
   "metadata": {},
   "source": [
    "Here is a summary of the conclusions that may be drawn from this report. "
   ]
  },
  {
   "cell_type": "markdown",
   "id": "3efa3204",
   "metadata": {},
   "source": [
    ">* **The Analysis of the Data:** I reviewed approximately 50,000,000 datapoints in 5 tables related to clients in the Home Credit Default Risk Assessment dataset. <br> \n",
    ">* **The Goal of the Project:** The goal of this project was to find a model that could predict if a client will default on a loan. I further wanted to make this determination with as few feature and in the most transparent manner possible.<br>\n",
    ">* **Missing Data:** There was a great deal of missing data in many of the features. I imputed this missing data by assigning a random number to the numerical columns and labeling missing categorical data with the text, \"UNKNOWN\".\"  <br>\n",
    ">* **Models:** I utilized the following models: Logistic Regression, Random Forest, Light Gradient Boosting Machine (LGBM).\n",
    ">* **Logistic Regression:** ROC-AUC Score: 0.63.  <br>\n",
    ">* **Random Forest:** ROC-AUC Score: 0.73.   <br>\n",
    ">* **XGBClassifier:** ROC-AUC Score: 0.72.   <br>\n",
    ">* **Light Gradient Boosting (LGBM):** OC-AUC Score: 0.74.   <br>\n",
    ">* **OPTUNA:** I used OPTUNA to tune the hyperparameters of the LGBM model. <br>\n",
    ">* **Final Model (LGBM) with Hyperparameter Tuning:** ROC-AUC Score: 0.77.<br>"
   ]
  },
  {
   "cell_type": "markdown",
   "id": "657c9775",
   "metadata": {},
   "source": [
    "# **Suggestions for Improvement**"
   ]
  },
  {
   "cell_type": "markdown",
   "id": "c729ba7c",
   "metadata": {},
   "source": [
    "This report has certain weaknesses. In this section, I outlined those weaknesses and indicated some avenues for improvement. "
   ]
  },
  {
   "cell_type": "markdown",
   "id": "fff9a250",
   "metadata": {},
   "source": [
    ">* **Domain Knowledge:** It is best if the data scientist has adequate domain knowledge on the topic of the analysis. I do not have any expertise in the financial sector. By doing some research, I tried to augment this lack. However, there may be parts of the data that I have overlooked that may have been important and I may have given importance to parts that may have had little significance. <br>\n",
    ">* **More Complete Data:** As mentioned earlier, there was missing data in many of the features. Less missing data could have improved the performance of the models.<br>  \n",
    ">* **Pandas:** Continue to learn to utilize more optimized Pandas techniques and algorithms.<br>\n",
    ">* **Seaborn and Matplotlib:** Continue to improve my knowledge of Seaborn and Matplotlib for creating visualizations. <br>\n",
    ">* **Machine Learning:** Continue to improve on my capabilities with various models. <br>\n",
    ">* **Python Code:** Continue to write better and more efficient Python code. <br>\n",
    ">* **Clean Code:** Continue to adhere to the principles of writing clean code. <br>\n",
    ">* **Readability and Efficiency:** Continue to improve my skills to find the delicate balance between readability and efficiency in coding.<br>"
   ]
  }
 ],
 "metadata": {
  "kernelspec": {
   "display_name": "Python 3 (ipykernel)",
   "language": "python",
   "name": "python3"
  },
  "language_info": {
   "codemirror_mode": {
    "name": "ipython",
    "version": 3
   },
   "file_extension": ".py",
   "mimetype": "text/x-python",
   "name": "python",
   "nbconvert_exporter": "python",
   "pygments_lexer": "ipython3",
   "version": "3.10.1"
  },
  "toc": {
   "base_numbering": 1,
   "nav_menu": {},
   "number_sections": true,
   "sideBar": true,
   "skip_h1_title": false,
   "title_cell": "Table of Contents",
   "title_sidebar": "Contents",
   "toc_cell": false,
   "toc_position": {},
   "toc_section_display": true,
   "toc_window_display": true
  }
 },
 "nbformat": 4,
 "nbformat_minor": 5
}
