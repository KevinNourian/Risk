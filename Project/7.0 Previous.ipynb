{
 "cells": [
  {
   "cell_type": "markdown",
   "metadata": {},
   "source": [
    "# <center> **Home Credit Default Risk Assessment**\n",
    "# <center> **Previous Applications Dataset**"
   ]
  },
  {
   "cell_type": "markdown",
   "metadata": {},
   "source": [
    "# **Libraries**"
   ]
  },
  {
   "cell_type": "code",
   "execution_count": 1,
   "metadata": {},
   "outputs": [],
   "source": [
    "import pandas as pd\n",
    "import numpy as np\n",
    "\n",
    "from feature_engine.imputation import CategoricalImputer\n",
    "from feature_engine.imputation import ArbitraryNumberImputer\n",
    "\n",
    "import functions\n",
    "import importlib\n",
    "importlib.reload(functions)\n",
    "\n",
    "import warnings"
   ]
  },
  {
   "cell_type": "markdown",
   "metadata": {},
   "source": [
    "# **Display**"
   ]
  },
  {
   "cell_type": "code",
   "execution_count": 2,
   "metadata": {},
   "outputs": [],
   "source": [
    "%matplotlib inline\n",
    "\n",
    "pd.options.display.max_rows = 300000\n",
    "pd.options.display.max_columns = 999\n",
    "pd.options.display.max_colwidth = 500\n",
    "\n",
    "warnings.filterwarnings(\"ignore\")\n",
    "warnings.simplefilter(action=\"ignore\", category=FutureWarning)\n",
    "\n",
    "pd.set_option('display.max_rows', 200)\n",
    "\n",
    "size = 20"
   ]
  },
  {
   "cell_type": "markdown",
   "metadata": {},
   "source": [
    "# **Data**"
   ]
  },
  {
   "cell_type": "markdown",
   "metadata": {},
   "source": [
    "## **Load Data**"
   ]
  },
  {
   "cell_type": "code",
   "execution_count": 3,
   "metadata": {},
   "outputs": [],
   "source": [
    "previous = pd.read_csv(\n",
    "    r\"C:\\Users\\Dell\\Documents\\AI\\Risk\\Data\\previous_application.csv\",\n",
    "    index_col=False\n",
    ")"
   ]
  },
  {
   "cell_type": "markdown",
   "metadata": {},
   "source": [
    "## **Reduce Memory Usage**"
   ]
  },
  {
   "cell_type": "code",
   "execution_count": 4,
   "metadata": {},
   "outputs": [
    {
     "name": "stdout",
     "output_type": "stream",
     "text": [
      "Memory usage of dataframe is 471.48 MB\n",
      "Memory usage after optimization is: 309.01 MB\n",
      "Decreased by 34.5%\n"
     ]
    }
   ],
   "source": [
    "previous = functions.reduce_memory_usage(previous)"
   ]
  },
  {
   "cell_type": "markdown",
   "metadata": {},
   "source": [
    "## **Clean Bad Data**"
   ]
  },
  {
   "cell_type": "code",
   "execution_count": 5,
   "metadata": {},
   "outputs": [],
   "source": [
    "previous['DAYS_FIRST_DRAWING'][previous['DAYS_FIRST_DRAWING'] == 365243.0] = np.nan\n",
    "previous['DAYS_FIRST_DUE'][previous['DAYS_FIRST_DUE'] == 365243.0] = np.nan\n",
    "previous['DAYS_LAST_DUE_1ST_VERSION'][previous['DAYS_LAST_DUE_1ST_VERSION'] == 365243.0] = np.nan\n",
    "previous['DAYS_LAST_DUE'][previous['DAYS_LAST_DUE'] == 365243.0] = np.nan\n",
    "previous['DAYS_TERMINATION'][previous['DAYS_TERMINATION'] == 365243.0] = np.nan"
   ]
  },
  {
   "cell_type": "markdown",
   "metadata": {},
   "source": [
    "## **Remove Infinity Values**"
   ]
  },
  {
   "cell_type": "code",
   "execution_count": 6,
   "metadata": {},
   "outputs": [],
   "source": [
    "previous.replace([np.inf, -np.inf], np.nan, inplace=True)"
   ]
  },
  {
   "cell_type": "markdown",
   "metadata": {},
   "source": [
    "## **Missing Values**"
   ]
  },
  {
   "cell_type": "code",
   "execution_count": 7,
   "metadata": {},
   "outputs": [
    {
     "data": {
      "text/html": [
       "<div>\n",
       "<style scoped>\n",
       "    .dataframe tbody tr th:only-of-type {\n",
       "        vertical-align: middle;\n",
       "    }\n",
       "\n",
       "    .dataframe tbody tr th {\n",
       "        vertical-align: top;\n",
       "    }\n",
       "\n",
       "    .dataframe thead th {\n",
       "        text-align: right;\n",
       "    }\n",
       "</style>\n",
       "<table border=\"1\" class=\"dataframe\">\n",
       "  <thead>\n",
       "    <tr style=\"text-align: right;\">\n",
       "      <th></th>\n",
       "      <th>NumberMissing</th>\n",
       "      <th>PercentageMissing</th>\n",
       "      <th>DataType</th>\n",
       "    </tr>\n",
       "  </thead>\n",
       "  <tbody>\n",
       "    <tr>\n",
       "      <th>RATE_INTEREST_PRIVILEGED</th>\n",
       "      <td>1664263</td>\n",
       "      <td>99.64</td>\n",
       "      <td>float16</td>\n",
       "    </tr>\n",
       "    <tr>\n",
       "      <th>RATE_INTEREST_PRIMARY</th>\n",
       "      <td>1664263</td>\n",
       "      <td>99.64</td>\n",
       "      <td>float16</td>\n",
       "    </tr>\n",
       "    <tr>\n",
       "      <th>DAYS_FIRST_DRAWING</th>\n",
       "      <td>1607509</td>\n",
       "      <td>96.25</td>\n",
       "      <td>float32</td>\n",
       "    </tr>\n",
       "    <tr>\n",
       "      <th>DAYS_TERMINATION</th>\n",
       "      <td>898978</td>\n",
       "      <td>53.82</td>\n",
       "      <td>float32</td>\n",
       "    </tr>\n",
       "    <tr>\n",
       "      <th>AMT_DOWN_PAYMENT</th>\n",
       "      <td>895844</td>\n",
       "      <td>53.64</td>\n",
       "      <td>float32</td>\n",
       "    </tr>\n",
       "    <tr>\n",
       "      <th>RATE_DOWN_PAYMENT</th>\n",
       "      <td>895844</td>\n",
       "      <td>53.64</td>\n",
       "      <td>float16</td>\n",
       "    </tr>\n",
       "    <tr>\n",
       "      <th>DAYS_LAST_DUE</th>\n",
       "      <td>884286</td>\n",
       "      <td>52.94</td>\n",
       "      <td>float32</td>\n",
       "    </tr>\n",
       "    <tr>\n",
       "      <th>NAME_TYPE_SUITE</th>\n",
       "      <td>820405</td>\n",
       "      <td>49.12</td>\n",
       "      <td>object</td>\n",
       "    </tr>\n",
       "    <tr>\n",
       "      <th>DAYS_LAST_DUE_1ST_VERSION</th>\n",
       "      <td>766929</td>\n",
       "      <td>45.92</td>\n",
       "      <td>float32</td>\n",
       "    </tr>\n",
       "    <tr>\n",
       "      <th>DAYS_FIRST_DUE</th>\n",
       "      <td>713710</td>\n",
       "      <td>42.73</td>\n",
       "      <td>float32</td>\n",
       "    </tr>\n",
       "    <tr>\n",
       "      <th>NFLAG_INSURED_ON_APPROVAL</th>\n",
       "      <td>673065</td>\n",
       "      <td>40.30</td>\n",
       "      <td>float16</td>\n",
       "    </tr>\n",
       "    <tr>\n",
       "      <th>AMT_GOODS_PRICE</th>\n",
       "      <td>385515</td>\n",
       "      <td>23.08</td>\n",
       "      <td>float32</td>\n",
       "    </tr>\n",
       "    <tr>\n",
       "      <th>CNT_PAYMENT</th>\n",
       "      <td>372230</td>\n",
       "      <td>22.29</td>\n",
       "      <td>float16</td>\n",
       "    </tr>\n",
       "    <tr>\n",
       "      <th>AMT_ANNUITY</th>\n",
       "      <td>372235</td>\n",
       "      <td>22.29</td>\n",
       "      <td>float32</td>\n",
       "    </tr>\n",
       "    <tr>\n",
       "      <th>PRODUCT_COMBINATION</th>\n",
       "      <td>346</td>\n",
       "      <td>0.02</td>\n",
       "      <td>object</td>\n",
       "    </tr>\n",
       "    <tr>\n",
       "      <th>AMT_CREDIT</th>\n",
       "      <td>1</td>\n",
       "      <td>0.00</td>\n",
       "      <td>float32</td>\n",
       "    </tr>\n",
       "  </tbody>\n",
       "</table>\n",
       "</div>"
      ],
      "text/plain": [
       "                           NumberMissing  PercentageMissing DataType\n",
       "RATE_INTEREST_PRIVILEGED         1664263              99.64  float16\n",
       "RATE_INTEREST_PRIMARY            1664263              99.64  float16\n",
       "DAYS_FIRST_DRAWING               1607509              96.25  float32\n",
       "DAYS_TERMINATION                  898978              53.82  float32\n",
       "AMT_DOWN_PAYMENT                  895844              53.64  float32\n",
       "RATE_DOWN_PAYMENT                 895844              53.64  float16\n",
       "DAYS_LAST_DUE                     884286              52.94  float32\n",
       "NAME_TYPE_SUITE                   820405              49.12   object\n",
       "DAYS_LAST_DUE_1ST_VERSION         766929              45.92  float32\n",
       "DAYS_FIRST_DUE                    713710              42.73  float32\n",
       "NFLAG_INSURED_ON_APPROVAL         673065              40.30  float16\n",
       "AMT_GOODS_PRICE                   385515              23.08  float32\n",
       "CNT_PAYMENT                       372230              22.29  float16\n",
       "AMT_ANNUITY                       372235              22.29  float32\n",
       "PRODUCT_COMBINATION                  346               0.02   object\n",
       "AMT_CREDIT                             1               0.00  float32"
      ]
     },
     "execution_count": 7,
     "metadata": {},
     "output_type": "execute_result"
    }
   ],
   "source": [
    "functions.MissingValues(previous)"
   ]
  },
  {
   "cell_type": "markdown",
   "metadata": {},
   "source": [
    "## **Drop Features (More than 50% Missing)**"
   ]
  },
  {
   "cell_type": "code",
   "execution_count": 8,
   "metadata": {},
   "outputs": [],
   "source": [
    "columns = ['RATE_INTEREST_PRIMARY', 'RATE_INTEREST_PRIVILEGED', 'RATE_DOWN_PAYMENT', 'AMT_DOWN_PAYMENT']\n",
    "previous = previous.drop(columns, axis=1)"
   ]
  },
  {
   "cell_type": "markdown",
   "metadata": {},
   "source": [
    "## **Imputation**"
   ]
  },
  {
   "cell_type": "code",
   "execution_count": 9,
   "metadata": {},
   "outputs": [],
   "source": [
    "ani = ArbitraryNumberImputer(arbitrary_number=-99999)\n",
    "ani.fit(previous)\n",
    "previous = ani.transform(previous)"
   ]
  },
  {
   "cell_type": "code",
   "execution_count": 10,
   "metadata": {},
   "outputs": [],
   "source": [
    "ci = CategoricalImputer(imputation_method='missing', fill_value='UNKNOWN')\n",
    "ci.fit(previous)\n",
    "previous = ci.transform(previous)"
   ]
  },
  {
   "cell_type": "markdown",
   "metadata": {},
   "source": [
    "## **Aggregation**"
   ]
  },
  {
   "cell_type": "code",
   "execution_count": 11,
   "metadata": {},
   "outputs": [],
   "source": [
    "previous = previous.groupby('SK_ID_CURR').agg({\n",
    "    'SK_ID_PREV': 'count',  \n",
    "    'AMT_ANNUITY': 'mean',    \n",
    "    'DAYS_DECISION': ['mean', 'max', 'min'],  \n",
    "    'CNT_PAYMENT': ['sum'],\n",
    "    'DAYS_FIRST_DUE': lambda x: x.max() - x.min(),\n",
    "    'DAYS_LAST_DUE': lambda x: x.max() - x.min()\n",
    "}).reset_index()\n",
    "\n",
    "previous.columns = ['_'.join(col).strip() if type(col) is tuple else col for col in previous.columns]\n",
    "\n",
    "previous = previous.rename(columns={\n",
    "    'SK_ID_CURR_': 'SK_ID_CURR', \n",
    "    'SK_ID_PREV_count': 'NUM_PREVIOUS_APPLICATIONS',\n",
    "    'AMT_ANNUITY_mean': 'AVG_ANNUITY_AMOUNT',\n",
    "    'DAYS_DECISION_mean': 'AVG_DAYS_DECISION',\n",
    "    'DAYS_DECISION_max': 'MAX_DAYS_DECISION',\n",
    "    'DAYS_DECISION_min': 'MIN_DAYS_DECISION',\n",
    "    'CNT_PAYMENT_sum': 'SUM_CNT_PAYMENT',\n",
    "    'DAYS_FIRST_DUE_<lambda>': 'RANGE_DAYS_FIRST_DUE',\n",
    "    'DAYS_LAST_DUE_<lambda>': 'RANGE_DAYS_LAST_DUE',\n",
    "})"
   ]
  },
  {
   "cell_type": "code",
   "execution_count": 12,
   "metadata": {},
   "outputs": [
    {
     "data": {
      "text/html": [
       "<div>\n",
       "<style scoped>\n",
       "    .dataframe tbody tr th:only-of-type {\n",
       "        vertical-align: middle;\n",
       "    }\n",
       "\n",
       "    .dataframe tbody tr th {\n",
       "        vertical-align: top;\n",
       "    }\n",
       "\n",
       "    .dataframe thead th {\n",
       "        text-align: right;\n",
       "    }\n",
       "</style>\n",
       "<table border=\"1\" class=\"dataframe\">\n",
       "  <thead>\n",
       "    <tr style=\"text-align: right;\">\n",
       "      <th></th>\n",
       "      <th>SK_ID_CURR</th>\n",
       "      <th>NUM_PREVIOUS_APPLICATIONS</th>\n",
       "      <th>AVG_ANNUITY_AMOUNT</th>\n",
       "      <th>AVG_DAYS_DECISION</th>\n",
       "      <th>MAX_DAYS_DECISION</th>\n",
       "      <th>MIN_DAYS_DECISION</th>\n",
       "      <th>SUM_CNT_PAYMENT</th>\n",
       "      <th>RANGE_DAYS_FIRST_DUE</th>\n",
       "      <th>RANGE_DAYS_LAST_DUE</th>\n",
       "    </tr>\n",
       "  </thead>\n",
       "  <tbody>\n",
       "    <tr>\n",
       "      <th>0</th>\n",
       "      <td>100001</td>\n",
       "      <td>1</td>\n",
       "      <td>3951.000000</td>\n",
       "      <td>-1740.0</td>\n",
       "      <td>-1740</td>\n",
       "      <td>-1740</td>\n",
       "      <td>8.0</td>\n",
       "      <td>0.0</td>\n",
       "      <td>0.0</td>\n",
       "    </tr>\n",
       "    <tr>\n",
       "      <th>1</th>\n",
       "      <td>100002</td>\n",
       "      <td>1</td>\n",
       "      <td>9251.775391</td>\n",
       "      <td>-606.0</td>\n",
       "      <td>-606</td>\n",
       "      <td>-606</td>\n",
       "      <td>24.0</td>\n",
       "      <td>0.0</td>\n",
       "      <td>0.0</td>\n",
       "    </tr>\n",
       "    <tr>\n",
       "      <th>2</th>\n",
       "      <td>100003</td>\n",
       "      <td>3</td>\n",
       "      <td>56553.988281</td>\n",
       "      <td>-1305.0</td>\n",
       "      <td>-746</td>\n",
       "      <td>-2341</td>\n",
       "      <td>30.0</td>\n",
       "      <td>1594.0</td>\n",
       "      <td>1444.0</td>\n",
       "    </tr>\n",
       "    <tr>\n",
       "      <th>3</th>\n",
       "      <td>100004</td>\n",
       "      <td>1</td>\n",
       "      <td>5357.250000</td>\n",
       "      <td>-815.0</td>\n",
       "      <td>-815</td>\n",
       "      <td>-815</td>\n",
       "      <td>4.0</td>\n",
       "      <td>0.0</td>\n",
       "      <td>0.0</td>\n",
       "    </tr>\n",
       "    <tr>\n",
       "      <th>4</th>\n",
       "      <td>100005</td>\n",
       "      <td>2</td>\n",
       "      <td>-47592.898438</td>\n",
       "      <td>-536.0</td>\n",
       "      <td>-315</td>\n",
       "      <td>-757</td>\n",
       "      <td>-inf</td>\n",
       "      <td>99293.0</td>\n",
       "      <td>99533.0</td>\n",
       "    </tr>\n",
       "  </tbody>\n",
       "</table>\n",
       "</div>"
      ],
      "text/plain": [
       "   SK_ID_CURR  NUM_PREVIOUS_APPLICATIONS  AVG_ANNUITY_AMOUNT  \\\n",
       "0      100001                          1         3951.000000   \n",
       "1      100002                          1         9251.775391   \n",
       "2      100003                          3        56553.988281   \n",
       "3      100004                          1         5357.250000   \n",
       "4      100005                          2       -47592.898438   \n",
       "\n",
       "   AVG_DAYS_DECISION  MAX_DAYS_DECISION  MIN_DAYS_DECISION  SUM_CNT_PAYMENT  \\\n",
       "0            -1740.0              -1740              -1740              8.0   \n",
       "1             -606.0               -606               -606             24.0   \n",
       "2            -1305.0               -746              -2341             30.0   \n",
       "3             -815.0               -815               -815              4.0   \n",
       "4             -536.0               -315               -757             -inf   \n",
       "\n",
       "   RANGE_DAYS_FIRST_DUE  RANGE_DAYS_LAST_DUE  \n",
       "0                   0.0                  0.0  \n",
       "1                   0.0                  0.0  \n",
       "2                1594.0               1444.0  \n",
       "3                   0.0                  0.0  \n",
       "4               99293.0              99533.0  "
      ]
     },
     "execution_count": 12,
     "metadata": {},
     "output_type": "execute_result"
    }
   ],
   "source": [
    "previous.head()"
   ]
  },
  {
   "cell_type": "markdown",
   "metadata": {},
   "source": [
    "# **Save Dataframe as CSV File**"
   ]
  },
  {
   "cell_type": "code",
   "execution_count": 13,
   "metadata": {},
   "outputs": [],
   "source": [
    "previous.to_csv(r\"C:\\Users\\Dell\\Documents\\AI\\Risk\\Data\\Data\\previous 25.csv\", index=False)"
   ]
  }
 ],
 "metadata": {
  "kernelspec": {
   "display_name": "riskvenv",
   "language": "python",
   "name": "python3"
  },
  "language_info": {
   "codemirror_mode": {
    "name": "ipython",
    "version": 3
   },
   "file_extension": ".py",
   "mimetype": "text/x-python",
   "name": "python",
   "nbconvert_exporter": "python",
   "pygments_lexer": "ipython3",
   "version": "3.10.1"
  }
 },
 "nbformat": 4,
 "nbformat_minor": 2
}
