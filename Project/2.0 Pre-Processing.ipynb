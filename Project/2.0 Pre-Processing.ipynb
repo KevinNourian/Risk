{
 "cells": [
  {
   "cell_type": "markdown",
   "metadata": {},
   "source": [
    "# <center> **Home Credit Default Risk Assessment**\n",
    "# <center> **Pre-Processing**"
   ]
  },
  {
   "cell_type": "markdown",
   "metadata": {},
   "source": [
    "# **Libraries**"
   ]
  },
  {
   "cell_type": "code",
   "execution_count": 3,
   "metadata": {},
   "outputs": [],
   "source": [
    "import pandas as pd\n",
    "import numpy as np\n",
    "\n",
    "import functions\n",
    "import importlib\n",
    "importlib.reload(functions)\n",
    "\n",
    "import warnings"
   ]
  },
  {
   "cell_type": "markdown",
   "metadata": {},
   "source": [
    "# **Display**"
   ]
  },
  {
   "cell_type": "code",
   "execution_count": 2,
   "metadata": {},
   "outputs": [],
   "source": [
    "%matplotlib inline\n",
    "\n",
    "pd.options.display.max_rows = 300000\n",
    "pd.options.display.max_columns = 999\n",
    "pd.options.display.max_colwidth = 500\n",
    "\n",
    "warnings.filterwarnings(\"ignore\")\n",
    "warnings.simplefilter(action=\"ignore\", category=FutureWarning)\n",
    "\n",
    "pd.set_option('display.max_rows', 200)\n",
    "\n",
    "size = 20"
   ]
  },
  {
   "cell_type": "markdown",
   "metadata": {},
   "source": [
    "# **Data**"
   ]
  },
  {
   "cell_type": "markdown",
   "metadata": {},
   "source": [
    "## **Load Data**"
   ]
  },
  {
   "cell_type": "code",
   "execution_count": 3,
   "metadata": {},
   "outputs": [],
   "source": [
    "train = pd.read_csv(\n",
    "    r\"C:\\Users\\Dell\\Documents\\AI\\Risk\\Data\\application_train.csv\",\n",
    "    index_col=False\n",
    ")\n",
    "\n",
    "\n",
    "test = pd.read_csv(\n",
    "    r\"C:\\Users\\Dell\\Documents\\AI\\Risk\\Data\\application_test.csv\",\n",
    "    index_col=False\n",
    ")"
   ]
  },
  {
   "cell_type": "markdown",
   "metadata": {},
   "source": [
    "# **Pre-Processing**"
   ]
  },
  {
   "cell_type": "markdown",
   "metadata": {},
   "source": [
    "## **Removing Empty Features**"
   ]
  },
  {
   "cell_type": "code",
   "execution_count": 6,
   "metadata": {},
   "outputs": [],
   "source": [
    "list_columns = functions.check_columns_with_one_uniquevalue(test)"
   ]
  },
  {
   "cell_type": "code",
   "execution_count": 7,
   "metadata": {},
   "outputs": [],
   "source": [
    "train = train.drop(list_columns, axis = 1)"
   ]
  },
  {
   "cell_type": "code",
   "execution_count": 8,
   "metadata": {},
   "outputs": [
    {
     "data": {
      "text/plain": [
       "(307511, 111)"
      ]
     },
     "execution_count": 8,
     "metadata": {},
     "output_type": "execute_result"
    }
   ],
   "source": [
    "train.shape"
   ]
  },
  {
   "cell_type": "markdown",
   "metadata": {},
   "source": [
    "## **Removing Inaccurate Entries**"
   ]
  },
  {
   "cell_type": "code",
   "execution_count": 9,
   "metadata": {},
   "outputs": [],
   "source": [
    "train = train[train['CODE_GENDER'] != 'XNA']\n",
    "train['DAYS_EMPLOYED'][train['DAYS_EMPLOYED'] == 365243] = np.nan"
   ]
  },
  {
   "cell_type": "markdown",
   "metadata": {},
   "source": [
    "## **Remove Infinity Values**"
   ]
  },
  {
   "cell_type": "code",
   "execution_count": 10,
   "metadata": {},
   "outputs": [],
   "source": [
    "train.replace([np.inf, -np.inf], np.nan, inplace=True)"
   ]
  },
  {
   "cell_type": "markdown",
   "metadata": {},
   "source": [
    "## **'DAY_BIRTH' to 'AGE' in Years**"
   ]
  },
  {
   "cell_type": "code",
   "execution_count": 11,
   "metadata": {},
   "outputs": [
    {
     "data": {
      "text/plain": [
       "count    307507.000000\n",
       "mean         43.937061\n",
       "std          11.956116\n",
       "min          20.517808\n",
       "25%          34.008219\n",
       "50%          43.150685\n",
       "75%          53.923288\n",
       "max          69.120548\n",
       "Name: AGE, dtype: float64"
      ]
     },
     "execution_count": 11,
     "metadata": {},
     "output_type": "execute_result"
    }
   ],
   "source": [
    "train[\"DAYS_BIRTH\"] = abs(train[\"DAYS_BIRTH\"])\n",
    "train[\"DAYS_BIRTH\"] = train[\"DAYS_BIRTH\"]/365\n",
    "train.rename(columns={'DAYS_BIRTH': 'AGE'}, inplace=True)\n",
    "train[\"AGE\"].describe()  "
   ]
  },
  {
   "cell_type": "markdown",
   "metadata": {},
   "source": [
    "## **'DAYS_EMPLOYED' to 'YEARS_EMPLOYED'**"
   ]
  },
  {
   "cell_type": "code",
   "execution_count": 12,
   "metadata": {},
   "outputs": [
    {
     "data": {
      "text/plain": [
       "count    252133.000000\n",
       "mean          6.531897\n",
       "std           6.406377\n",
       "min           0.000000\n",
       "25%           2.101370\n",
       "50%           4.515068\n",
       "75%           8.698630\n",
       "max          49.073973\n",
       "Name: YEARS_EMPLOYED, dtype: float64"
      ]
     },
     "execution_count": 12,
     "metadata": {},
     "output_type": "execute_result"
    }
   ],
   "source": [
    "train[\"DAYS_EMPLOYED\"] = abs(train[\"DAYS_EMPLOYED\"])\n",
    "train[\"DAYS_EMPLOYED\"] = train[\"DAYS_EMPLOYED\"]/365\n",
    "train.rename(columns={\"DAYS_EMPLOYED\": 'YEARS_EMPLOYED'}, inplace=True)\n",
    "train[\"YEARS_EMPLOYED\"].describe()  "
   ]
  },
  {
   "cell_type": "markdown",
   "metadata": {},
   "source": [
    "## **'DAYS_ID_PUBLISH' to 'YEARS_ID_PUBLISH'**"
   ]
  },
  {
   "cell_type": "code",
   "execution_count": 13,
   "metadata": {},
   "outputs": [
    {
     "data": {
      "text/plain": [
       "count    307507.000000\n",
       "mean          8.203292\n",
       "std           4.135492\n",
       "min           0.000000\n",
       "25%           4.712329\n",
       "50%           8.915068\n",
       "75%          11.778082\n",
       "max          19.717808\n",
       "Name: YEARS_ID_PUBLISH, dtype: float64"
      ]
     },
     "execution_count": 13,
     "metadata": {},
     "output_type": "execute_result"
    }
   ],
   "source": [
    "train[\"DAYS_ID_PUBLISH\"] = abs(train[\"DAYS_ID_PUBLISH\"])\n",
    "train[\"DAYS_ID_PUBLISH\"] = train[\"DAYS_ID_PUBLISH\"]/365\n",
    "train.rename(columns={\"DAYS_ID_PUBLISH\": 'YEARS_ID_PUBLISH'}, inplace=True)\n",
    "train[\"YEARS_ID_PUBLISH\"].describe()  "
   ]
  },
  {
   "cell_type": "markdown",
   "metadata": {},
   "source": [
    "## **'DAYS_REGISTRATION' to 'YEARS_REGISTRATION'**"
   ]
  },
  {
   "cell_type": "code",
   "execution_count": 14,
   "metadata": {},
   "outputs": [
    {
     "data": {
      "text/plain": [
       "count    307507.000000\n",
       "mean               NaN\n",
       "std           0.000000\n",
       "min           0.000000\n",
       "25%           5.507812\n",
       "50%          12.335938\n",
       "75%          20.500000\n",
       "max          67.625000\n",
       "Name: YEARS_REGISTRATION, dtype: float64"
      ]
     },
     "execution_count": 14,
     "metadata": {},
     "output_type": "execute_result"
    }
   ],
   "source": [
    "train[\"DAYS_REGISTRATION\"] = abs(train[\"DAYS_REGISTRATION\"])\n",
    "train[\"DAYS_REGISTRATION\"] = train[\"DAYS_REGISTRATION\"]/365\n",
    "train.rename(columns={\"DAYS_REGISTRATION\": 'YEARS_REGISTRATION'}, inplace=True)\n",
    "train[\"YEARS_REGISTRATION\"].describe()  "
   ]
  },
  {
   "cell_type": "markdown",
   "metadata": {},
   "source": [
    "## **'DAYS_LAST_PHONE_CHANGE' to 'YEARS_LAST_PHONE_CHANGE'**"
   ]
  },
  {
   "cell_type": "code",
   "execution_count": 15,
   "metadata": {},
   "outputs": [
    {
     "data": {
      "text/plain": [
       "count    307506.000000\n",
       "mean               NaN\n",
       "std           0.000000\n",
       "min           0.000000\n",
       "25%           0.750488\n",
       "50%           2.074219\n",
       "75%           4.300781\n",
       "max          11.757812\n",
       "Name: YEARS_LAST_PHONE_CHANGE, dtype: float64"
      ]
     },
     "execution_count": 15,
     "metadata": {},
     "output_type": "execute_result"
    }
   ],
   "source": [
    "train[\"DAYS_LAST_PHONE_CHANGE\"] = abs(train[\"DAYS_LAST_PHONE_CHANGE\"])\n",
    "train[\"DAYS_LAST_PHONE_CHANGE\"] = train[\"DAYS_LAST_PHONE_CHANGE\"]/365\n",
    "train.rename(columns={\"DAYS_LAST_PHONE_CHANGE\": 'YEARS_LAST_PHONE_CHANGE'}, inplace=True)\n",
    "train[\"YEARS_LAST_PHONE_CHANGE\"].describe()  "
   ]
  },
  {
   "cell_type": "markdown",
   "metadata": {},
   "source": [
    "# **Missing Values**"
   ]
  },
  {
   "cell_type": "code",
   "execution_count": null,
   "metadata": {},
   "outputs": [],
   "source": [
    "functions.MissingValues(train)"
   ]
  },
  {
   "cell_type": "markdown",
   "metadata": {},
   "source": [
    "# **Save Dataframe as CSV File**"
   ]
  },
  {
   "cell_type": "code",
   "execution_count": 17,
   "metadata": {},
   "outputs": [
    {
     "data": {
      "text/plain": [
       "(307507, 111)"
      ]
     },
     "execution_count": 17,
     "metadata": {},
     "output_type": "execute_result"
    }
   ],
   "source": [
    "train.shape"
   ]
  },
  {
   "cell_type": "code",
   "execution_count": 18,
   "metadata": {},
   "outputs": [],
   "source": [
    "train.to_csv(r\"C:\\Users\\Dell\\Documents\\AI\\Risk\\Data\\Data\\train 20.csv\", index=False)"
   ]
  }
 ],
 "metadata": {
  "kernelspec": {
   "display_name": "riskvenv",
   "language": "python",
   "name": "python3"
  },
  "language_info": {
   "codemirror_mode": {
    "name": "ipython",
    "version": 3
   },
   "file_extension": ".py",
   "mimetype": "text/x-python",
   "name": "python",
   "nbconvert_exporter": "python",
   "pygments_lexer": "ipython3",
   "version": "3.10.1"
  }
 },
 "nbformat": 4,
 "nbformat_minor": 2
}
